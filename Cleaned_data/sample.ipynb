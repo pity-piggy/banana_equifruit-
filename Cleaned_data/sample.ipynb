{
 "cells": [
  {
   "metadata": {},
   "cell_type": "markdown",
   "source": [
    "# This is a sample Jupyter Notebook\n",
    "\n",
    "Below is an example of a code cell. \n",
    "Put your cursor into the cell and press Shift+Enter to execute it and select the next one, or click 'Run Cell' button.\n",
    "\n",
    "Press Double Shift to search everywhere for classes, files, tool windows, actions, and settings.\n",
    "\n",
    "To learn more about Jupyter Notebooks in PyCharm, see [help](https://www.jetbrains.com/help/pycharm/ipython-notebook-support.html).\n",
    "For an overview of PyCharm, go to Help -> Learn IDE features or refer to [our documentation](https://www.jetbrains.com/help/pycharm/getting-started.html)."
   ],
   "id": "8a77807f92f26ee"
  },
  {
   "metadata": {
    "ExecuteTime": {
     "end_time": "2025-07-18T17:18:28.111797Z",
     "start_time": "2025-07-18T17:18:17.995167Z"
    }
   },
   "cell_type": "code",
   "source": [
    "import pandas as pd\n",
    "from pyspark.sql import SparkSession\n",
    "\n",
    "# Create Spark session\n",
    "# spark = SparkSession.builder \\\n",
    "#     .master(\"local[*]\") \\\n",
    "#     .appName(\"MyApp\") \\\n",
    "#     .getOrCreate()\n",
    "\n",
    "spark = (\n",
    "    SparkSession.builder\n",
    "    .master(\"local[*]\")\n",
    "    .appName(\"MyApp\")\n",
    "    .config(\"spark.driver.host\", \"127.0.0.1\")\n",
    "    .config(\"spark.driver.bindAddress\", \"127.0.0.1\")\n",
    "    .getOrCreate()\n",
    ")\n",
    "\n",
    "\n"
   ],
   "id": "fbc121e30a2defb3",
   "outputs": [
    {
     "name": "stderr",
     "output_type": "stream",
     "text": [
      "25/07/18 13:18:22 WARN Utils: Your hostname, Chloes-MacBook-Air.local resolves to a loopback address: 127.0.0.1; using 192.168.32.73 instead (on interface en0)\n",
      "25/07/18 13:18:22 WARN Utils: Set SPARK_LOCAL_IP if you need to bind to another address\n",
      "Setting default log level to \"WARN\".\n",
      "To adjust logging level use sc.setLogLevel(newLevel). For SparkR, use setLogLevel(newLevel).\n",
      "25/07/18 13:18:22 WARN NativeCodeLoader: Unable to load native-hadoop library for your platform... using builtin-java classes where applicable\n",
      "25/07/18 13:18:26 WARN SparkStringUtils: Truncated the string representation of a plan since it was too large. This behavior can be adjusted by setting 'spark.sql.debug.maxToStringFields'.\n",
      "                                                                                \r"
     ]
    },
    {
     "name": "stdout",
     "output_type": "stream",
     "text": [
      "+------+-------+------------+--------------------+------+-----------+------------+-------------+------------+-------------+-------------+---------------------+-------------------+---------------+--------------------+-------+-----------------------+--------------------+--------------------+---------------------+--------------------+----------+--------------+-------------+----------+-----------+\n",
      "|Status| Number|Release Date|         Released to|Pieces|Weight (lb)|Volume (ft³)|Creation Date|Income (CAD)|Expense (CAD)|Balance (CAD)|Exclude From Tracking|Volume weight (Vlb)|       Employee|               Notes|Carrier|Commodities Description|   Issued By Address|  Release to Address|Purchase Order Number|      Billing Client|Is Printed|Purchase Order|Delivery date|Lot Number| Container#|\n",
      "+------+-------+------------+--------------------+------+-----------+------------+-------------+------------+-------------+-------------+---------------------+-------------------+---------------+--------------------+-------+-----------------------+--------------------+--------------------+---------------------+--------------------+----------+--------------+-------------+----------+-----------+\n",
      "|Loaded|   4543|  01/13/2025|Krown Produce  Fr...|     1|   3,747.86|    2,359.59|   01/11/2025|   34,814.39|         0.00|    34,814.39|                   No|          24,562.48|Claudia Ramirez|                 NaN|    CTX|                    NaN|5311, boulevard d...|4923 47th Street ...|                  NaN|Krown Produce  Fr...|        No|        AL1739|          NaN|       NaN|        NaN|\n",
      "|Loaded|   4565|  01/13/2025|Chiovitti Banana ...|   855|  34,193.04|    1,811.64|   01/11/2025|   33,073.67|         0.00|    33,073.67|                   No|          18,858.54|Claudia Ramirez|Country of Origin...|    TQL|   Banano Cavendish ...|5311, boulevard d...|26 Magnificent Ro...|                  NaN|Chiovitti Banana ...|        No|        250354|          NaN|       NaN|        NaN|\n",
      "|Loaded|   4536|  01/13/2025|Chiovitti Banana ...|     1|   3,747.86|    2,359.59|   01/11/2025|        0.00|         0.00|         0.00|                   No|          24,562.48|Claudia Ramirez|Country of Origin...|   Holt|                    NaN|5311, boulevard d...|26 Magnificent Ro...|                  NaN|Chiovitti Banana ...|        No|        250241|          NaN|       NaN|        NaN|\n",
      "|Loaded|   4550|  01/13/2025|   Courchesne Larose|     1|   3,747.86|    2,359.59|   01/09/2025|   35,584.78|         0.00|    35,584.78|                   No|          24,562.48|Claudia Ramirez|Country of Origin...|    TQL|                    NaN|5311, boulevard d...|9761 boul. des Sc...|                  NaN|   Courchesne Larose|       Yes|       2486593|          NaN|       NaN|SEGU9465097|\n",
      "|Loaded|   4533|  01/13/2025|   Courchesne Larose|     1|   3,747.86|    2,359.59|   01/11/2025|   34,814.39|         0.00|    34,814.39|                   No|          24,562.48|Claudia Ramirez|Country of Origin...|    NaN|                    NaN|5311, boulevard d...|9761 boul. des Sc...|                  NaN|   Courchesne Larose|        No|    5741231077|          NaN|       NaN|        NaN|\n",
      "|Loaded|   4532|  01/12/2025|Chiovitti Banana ...|     1|   3,747.86|    2,359.59|   01/11/2025|   34,814.39|         0.00|    34,814.39|                   No|          24,562.48|Claudia Ramirez|Country of Origin...|   Holt|                    NaN|5311, boulevard d...|26 Magnificent Ro...|                  NaN|Chiovitti Banana ...|        No|        250353|          NaN|       NaN|        NaN|\n",
      "|Loaded|   4560|  01/12/2025|Chiovitti Banana ...|     1|   3,747.86|    2,359.59|   01/09/2025|   33,768.81|         0.00|    33,768.81|                   No|          24,562.48|Claudia Ramirez|Country of Origin...|    TQL|                    NaN|5311, boulevard d...|26 Magnificent Ro...|                  NaN|Chiovitti Banana ...|       Yes|        250355|          NaN|       NaN|BMOU9887238|\n",
      "|Loaded|   4537|  01/12/2025|   Courchesne Larose|     1|   3,747.86|    2,359.59|   01/11/2025|   34,814.39|         0.00|    34,814.39|                   No|          24,562.48|Claudia Ramirez|Country of Origin...|    NaN|                    NaN|5311, boulevard d...|9761 boul. des Sc...|                  NaN|   Courchesne Larose|        No|    5741231066|          NaN|       NaN|        NaN|\n",
      "|Loaded|   4562|  01/10/2025|Chiovitti Banana ...|     1|   3,747.86|    2,359.59|   01/07/2025|   34,573.45|         0.00|    34,573.45|                   No|          24,562.48|Claudia Ramirez|Country of Origin...|    TQL|                    NaN|5311, boulevard d...|26 Magnificent Ro...|                  NaN|Chiovitti Banana ...|        No|        250240|          NaN|       NaN|        NaN|\n",
      "|Loaded| 4527CH|  01/10/2025|    Charlies Seattle|   720|  28,794.14|    1,525.59|   01/08/2025|   28,950.26|         0.00|    28,950.26|                   No|          15,880.88|Claudia Ramirez|                 NaN|    TQL|   Banano Cavendish ...|5311, boulevard d...|5033 1st Ave S, S...|                  NaN|    Charlies Seattle|        No|       7002396|          NaN|       NaN|        NaN|\n",
      "|Loaded|   4531|  01/10/2025|Chiovitti Banana ...|     1|   3,747.86|    2,359.59|   01/03/2025|   33,827.27|         0.00|    33,827.27|                   No|          24,562.48|Claudia Ramirez|Country of Origin...|    TQL|                    NaN|5311, boulevard d...|26 Magnificent Ro...|                  NaN|Chiovitti Banana ...|        No|        250234|          NaN|       NaN|TEMU9696277|\n",
      "|Loaded|4575BCH|  01/10/2025|          Sobeys BCH|   720|  28,794.14|    1,525.59|   01/09/2025|   24,754.78|         0.00|    24,754.78|                   No|          15,880.88|Claudia Ramirez|                 NaN| Savoie|   Banano Cavendish ...|5311, boulevard d...|1500 Bd de Montar...|                  NaN|          Sobeys BCH|        No|    4567010098|          NaN|       NaN|BEAU9710377|\n",
      "|Loaded|   4575|  01/10/2025|  Sobeys Quebec City|   240|   9,598.05|      508.53|   01/09/2025|    8,251.59|         0.00|     8,251.59|                   No|           5,293.63|Claudia Ramirez|                 NaN| Savoie|   Banano Cavendish ...|5311, boulevard d...|950, avenue Galil...|                  NaN|  Sobeys Quebec City|        No|    4567010205|          NaN|       NaN|BEAU9710377|\n",
      "|Loaded|   4572|  01/10/2025|Krown Produce  Fr...|     1|   3,747.86|    2,359.59|   01/09/2025|   32,632.96|         0.00|    32,632.96|                   No|          24,562.48|Claudia Ramirez|Country of Origin...|    CTX|                    NaN|5311, boulevard d...|4923 47th Street ...|                  NaN|Krown Produce  Fr...|        No|        AL1704|          NaN|       NaN|CAAU4105992|\n",
      "|Loaded|   4564|  01/10/2025|Chiovitti Banana ...|     1|   3,747.86|    2,359.59|   01/09/2025|   34,790.29|         0.00|    34,790.29|                   No|          24,562.48|Claudia Ramirez|Country of Origin...|    TQL|                    NaN|5311, boulevard d...|26 Magnificent Ro...|                  NaN|Chiovitti Banana ...|        No|        250239|          NaN|       NaN|        NaN|\n",
      "|Loaded|   4528|  01/09/2025|Chiovitti Banana ...|     1|   3,747.86|    2,359.59|   01/07/2025|   34,573.45|         0.00|    34,573.45|                   No|          24,562.48|Claudia Ramirez|Country of Origin...|   Holt|                    NaN|5311, boulevard d...|26 Magnificent Ro...|                  NaN|Chiovitti Banana ...|        No|        250238|          NaN|       NaN|        NaN|\n",
      "|Loaded|   4526|  01/09/2025|Chiovitti Banana ...|     1|   3,747.86|    2,359.59|   01/07/2025|   34,573.45|         0.00|    34,573.45|                   No|          24,562.48|Claudia Ramirez|Country of Origin...|   Holt|                    NaN|5311, boulevard d...|26 Magnificent Ro...|                  NaN|Chiovitti Banana ...|        No|        250235|          NaN|       NaN|        NaN|\n",
      "|Loaded|   4500|  01/08/2025|Chiovitti Banana ...|     1|   3,747.86|    2,359.59|   01/07/2025|   33,558.34|         0.00|    33,558.34|                   No|          24,562.48|Claudia Ramirez|Country of Origin...|   Holt|                    NaN|5311, boulevard d...|26 Magnificent Ro...|                  NaN|Chiovitti Banana ...|        No|        250234|          NaN|       NaN|        NaN|\n",
      "|Loaded|  4527S|  01/08/2025|Sprouts Farmers M...|    48|       0.00|        0.00|   01/08/2025|        0.00|         0.00|         0.00|                   No|               0.00|Claudia Ramirez|                 NaN|    TQL|   Banano Cavendish ...|5311, boulevard d...|5445 West Missour...|                  NaN|Sprouts Farmers M...|        No|    0980162917|          NaN|       NaN|        NaN|\n",
      "|Loaded|   4545|  01/08/2025|   Courchesne Larose|     1|   3,747.86|    2,359.59|   01/07/2025|   34,573.45|         0.00|    34,573.45|                   No|          24,562.48|Claudia Ramirez|Country of Origin...|    NaN|                    NaN|5311, boulevard d...|9761 boul. des Sc...|                  NaN|   Courchesne Larose|        No|    5741231060|          NaN|       NaN|        NaN|\n",
      "+------+-------+------------+--------------------+------+-----------+------------+-------------+------------+-------------+-------------+---------------------+-------------------+---------------+--------------------+-------+-----------------------+--------------------+--------------------+---------------------+--------------------+----------+--------------+-------------+----------+-----------+\n",
      "only showing top 20 rows\n",
      "\n"
     ]
    }
   ],
   "execution_count": 1
  },
  {
   "metadata": {
    "ExecuteTime": {
     "end_time": "2025-07-18T17:26:58.042822Z",
     "start_time": "2025-07-18T17:26:57.831562Z"
    }
   },
   "cell_type": "code",
   "source": [
    "df=pd.read_csv('output/commodity_item/commodity.csv')\n",
    "\n",
    "# Convert pandas → Spark\n",
    "spark_df= spark.createDataFrame(df)\n",
    "# Show Spark DataFrame\n",
    "spark_df.show(truncate=False)\n"
   ],
   "id": "142453d8ed7ee8f9",
   "outputs": [
    {
     "name": "stdout",
     "output_type": "stream",
     "text": [
      "+----+-------+-------------------------+------+--------------+---------------------------+--------------+------------+--------------------------------------------------------+--------------+--------------------------+-----------+----------------------+-------------+---------+---------+--------+---------+----------+---------------+----------------+\n",
      "|job |status |purchase_order_container#|pieces|contained_item|purchase_order_harvest_date|departure_date|arrival_date|description                                             |model         |item_definition_categories|part_number|purchase_order_pallets|unitary_value|length_in|height_in|width_in|weight_lb|volume_ft³|piece_weight_lb|piece_volume_ft³|\n",
      "+----+-------+-------------------------+------+--------------+---------------------------+--------------+------------+--------------------------------------------------------+--------------+--------------------------+-----------+----------------------+-------------+---------+---------+--------+---------+----------+---------------+----------------+\n",
      "|4637|Ordered|NaN                      |900   |No            |NaN                        |NaN           |NaN         |Banano Cavendish Organico Fairtrade 3lb con Banda Costco|Organic banana|NaN                       |007ECMAR   |Walk Global/Escobar   |20.37        |15.75    |9.06     |24.02   |35,992.67|1,906.99  |39.99          |2.12            |\n",
      "|4634|Ordered|NaN                      |960   |No            |NaN                        |NaN           |NaN         |Banano Cavendish Organico Fairtrade con banda           |Organic banana|Organic                   |001COCIA   |Chep                  |20.36        |15.75    |9.06     |24.02   |38,392.18|2,034.12  |39.99          |2.12            |\n",
      "|4630|Ordered|NaN                      |900   |No            |NaN                        |NaN           |NaN         |Banano Cavendish Organico Fairtrade 3lb con Banda Costco|Organic banana|NaN                       |007ECHCM   |Walk Global/Escobar   |20.55        |15.75    |9.06     |24.02   |19,861.59|1,908.00  |0.0            |2.12            |\n",
      "|4633|Ordered|NaN                      |960   |No            |NaN                        |NaN           |NaN         |Banano Cavendish Organico Fairtrade con banda           |Organic banana|Organic                   |001COCIA   |Chep                  |20.36        |15.75    |9.06     |24.02   |38,392.18|2,034.12  |39.99          |2.12            |\n",
      "|4632|Ordered|NaN                      |960   |No            |NaN                        |NaN           |NaN         |Banano Cavendish Organico Fairtrade con banda           |Organic banana|Organic                   |001ECELG   |Tipo CHEP             |20.07        |15.75    |9.06     |24.02   |38,392.18|2,034.12  |39.99          |2.12            |\n",
      "|4626|Ordered|NaN                      |960   |No            |NaN                        |NaN           |NaN         |Banano Cavendish Organico Fairtrade con banda           |Organic banana|Organic                   |001ECELG   |Walk Global/Escobar   |20.07        |15.75    |9.06     |24.02   |38,392.18|2,034.12  |39.99          |2.12            |\n",
      "|4625|Ordered|NaN                      |900   |No            |NaN                        |NaN           |NaN         |Banano Cavendish Organico Fairtrade 3lb con Banda Costco|Organic banana|Costco                    |007ECELG   |Walk Global/Escobar   |20.29        |15.75    |9.06     |24.02   |35,992.67|1,906.99  |39.99          |2.12            |\n",
      "|4635|Ordered|NaN                      |900   |No            |NaN                        |NaN           |NaN         |Banano Cavendish Organico Fairtrade 3lb con Banda Costco|Organic banana|Costco                    |007ECELG   |Walk Global/Escobar   |20.29        |15.75    |9.06     |24.02   |35,992.67|1,906.99  |39.99          |2.12            |\n",
      "|4629|Ordered|NaN                      |900   |No            |NaN                        |NaN           |NaN         |Banano Cavendish Organico Fairtrade 3lb con Banda Costco|Organic banana|Costco                    |007ECELG   |Walk Global/Escobar   |20.29        |15.75    |9.06     |24.02   |35,992.67|1,906.99  |39.99          |2.12            |\n",
      "|4624|Ordered|NaN                      |900   |No            |NaN                        |NaN           |NaN         |Banano Cavendish Organico Fairtrade 3lb con Banda Costco|Organic banana|Costco                    |007ECELG   |Walk Global/Escobar   |20.29        |15.75    |9.06     |24.02   |35,992.67|1,906.99  |39.99          |2.12            |\n",
      "|4627|Ordered|NaN                      |900   |No            |NaN                        |NaN           |NaN         |Banano Cavendish Organico Fairtrade 3lb con Banda Costco|Organic banana|NaN                       |007ECPRI   |Walk Global/Escobar   |20.36        |15.75    |9.06     |24.02   |35,991.00|1,908.00  |39.99          |2.12            |\n",
      "|4621|Ordered|NaN                      |900   |No            |NaN                        |NaN           |NaN         |Banano Cavendish Organico Fairtrade 3lb con Banda Costco|Organic banana|NaN                       |007ECSUR   |Walk Global/Escobar   |21.01        |15.75    |9.06     |24.02   |35,992.67|1,906.99  |39.99          |2.12            |\n",
      "|4620|Ordered|NaN                      |900   |No            |NaN                        |NaN           |NaN         |Banano Cavendish Organico Fairtrade 3lb con Banda Costco|Organic banana|NaN                       |007ECSUR   |Walk Global/Escobar   |21.01        |15.75    |9.06     |24.02   |35,992.67|1,906.99  |39.99          |2.12            |\n",
      "|4623|Ordered|NaN                      |900   |No            |NaN                        |NaN           |NaN         |Banano Cavendish Organico Fairtrade 3lb con Banda Costco|Organic banana|NaN                       |007ECMAR   |Walk Global/Escobar   |20.36        |15.75    |9.06     |24.02   |35,992.67|1,906.99  |39.99          |2.12            |\n",
      "|4622|Ordered|NaN                      |900   |No            |NaN                        |NaN           |NaN         |Banano Cavendish Organico Fairtrade 3lb con Banda Costco|Organic banana|NaN                       |007ECMAR   |Walk Global/Escobar   |20.36        |15.75    |9.06     |24.02   |35,992.67|1,906.99  |39.99          |2.12            |\n",
      "|4619|On Hand|NaN                      |960   |Yes           |NaN                        |01/11/2025    |01/27/2025  |Banano Cavendish Organico Fairtrade con banda           |Organic banana|NaN                       |001ECMAR   |Tipo CHEP             |20.02        |0.0      |0.0      |0.0     |38,390.40|0.00      |39.99          |0.0             |\n",
      "|4618|On Hand|NaN                      |960   |Yes           |NaN                        |01/11/2025    |01/27/2025  |Banano Cavendish Organico Fairtrade con banda           |Organic banana|NaN                       |001ECMAR   |Tipo CHEP             |20.02        |0.0      |0.0      |0.0     |38,390.40|0.00      |39.99          |0.0             |\n",
      "|4617|On Hand|NaN                      |900   |Yes           |NaN                        |01/12/2025    |01/24/2025  |Banano Cavendish Organico Fairtrade 3lb con Banda Costco|Organic banana|NaN                       |007ECMAR   |Walk Global/Escobar   |20.23        |15.75    |9.06     |24.02   |35,992.67|1,906.99  |39.99          |2.12            |\n",
      "|4616|On Hand|NaN                      |900   |Yes           |NaN                        |01/11/2025    |01/27/2025  |Banano Cavendish Organico Fairtrade 3lb con Banda Costco|Organic banana|NaN                       |007ECMAR   |Walk Global/Escobar   |20.23        |15.75    |9.06     |24.02   |35,992.67|1,906.99  |39.99          |2.12            |\n",
      "|4615|On Hand|NaN                      |900   |Yes           |NaN                        |01/11/2025    |01/27/2025  |Banano Cavendish Organico Fairtrade 3lb con Banda Costco|Organic banana|NaN                       |007ECHCM   |Walk Global/Escobar   |20.42        |15.75    |9.06     |24.02   |0.00     |1,908.00  |0.0            |2.12            |\n",
      "+----+-------+-------------------------+------+--------------+---------------------------+--------------+------------+--------------------------------------------------------+--------------+--------------------------+-----------+----------------------+-------------+---------+---------+--------+---------+----------+---------------+----------------+\n",
      "only showing top 20 rows\n",
      "\n"
     ]
    }
   ],
   "execution_count": 7
  },
  {
   "metadata": {
    "ExecuteTime": {
     "end_time": "2025-07-18T17:22:34.546764Z",
     "start_time": "2025-07-18T17:22:34.523739Z"
    }
   },
   "cell_type": "code",
   "source": "spark_df.printSchema()",
   "id": "a26233a7ddbda527",
   "outputs": [
    {
     "name": "stdout",
     "output_type": "stream",
     "text": [
      "root\n",
      " |-- job: long (nullable = true)\n",
      " |-- status: string (nullable = true)\n",
      " |-- purchase_order_container#: string (nullable = true)\n",
      " |-- pieces: long (nullable = true)\n",
      " |-- contained_item: string (nullable = true)\n",
      " |-- purchase_order_harvest_date: string (nullable = true)\n",
      " |-- departure_date: string (nullable = true)\n",
      " |-- arrival_date: string (nullable = true)\n",
      " |-- description: string (nullable = true)\n",
      " |-- model: string (nullable = true)\n",
      " |-- item_definition_categories: string (nullable = true)\n",
      " |-- part_number: string (nullable = true)\n",
      " |-- purchase_order_pallets: string (nullable = true)\n",
      " |-- unitary_value: double (nullable = true)\n",
      " |-- length_in: double (nullable = true)\n",
      " |-- height_in: double (nullable = true)\n",
      " |-- width_in: double (nullable = true)\n",
      " |-- weight_lb: string (nullable = true)\n",
      " |-- volume_ft³: string (nullable = true)\n",
      " |-- piece_weight_lb: double (nullable = true)\n",
      " |-- piece_volume_ft³: double (nullable = true)\n",
      "\n"
     ]
    }
   ],
   "execution_count": 5
  },
  {
   "metadata": {
    "ExecuteTime": {
     "end_time": "2025-07-18T18:32:00.330039Z",
     "start_time": "2025-07-18T18:32:00.170849Z"
    }
   },
   "cell_type": "code",
   "source": [
    "from pyspark.sql import functions as F\n",
    "\n",
    "spark_df.createOrReplaceTempView(\"commodity\")\n"
   ],
   "id": "a0e3048be3b5264b",
   "outputs": [],
   "execution_count": 8
  },
  {
   "metadata": {
    "ExecuteTime": {
     "end_time": "2025-07-18T20:28:25.902573Z",
     "start_time": "2025-07-18T20:28:25.624735Z"
    }
   },
   "cell_type": "code",
   "source": [
    "result = spark.sql(''' select job as container, pieces, description,item_definition_categories,part_number,purchase_order_pallets,unitary_value from commodity  order by job asc\n",
    "''')\n",
    "result.show(truncate=False)\n",
    "# status like \"On Hand\"  AND\n",
    "# where job BETWEEN 3400 AND 4588 order by job asc\n",
    "#where status like \"On Hand\""
   ],
   "id": "27e9c7947e9d9c53",
   "outputs": [
    {
     "name": "stdout",
     "output_type": "stream",
     "text": [
      "+---------+------+------------------------------------------------------------------------------------------------+--------------------------+-----------+----------------------+-------------+\n",
      "|container|pieces|description                                                                                     |item_definition_categories|part_number|purchase_order_pallets|unitary_value|\n",
      "+---------+------+------------------------------------------------------------------------------------------------+--------------------------+-----------+----------------------+-------------+\n",
      "|1953     |144   |Banane Cavendish Equitable Certifiée par Fairtrade (Conventional & Fairtrade)                   |Conventional              |004MXCOL   |americano             |17.49        |\n",
      "|1953     |480   |Banane Cavendish Bio & Equitable Certifiée par Ecocert Canada et Fairtrade (Organic & Fairtrade)|Organic                   |001MXCOL   |americano             |21.02        |\n",
      "|1953     |336   |Banane Cavendish Bio & Equitable Certifiée par Ecocert Canada et Fairtrade (Organic & Fairtrade)|Organic                   |001MXCOL   |americano             |21.02        |\n",
      "|2081     |960   |Banane Cavendish Bio & Equitable Certifiée par Ecocert Canada et Fairtrade (Organic & Fairtrade)|Organic                   |001PEAPP   |americano             |17.12        |\n",
      "|2106     |384   |Banane Cavendish Bio & Equitable Certifiée par Ecocert Canada et Fairtrade (Organic & Fairtrade)|Organic                   |001ECELG   |americano             |16.66        |\n",
      "|2106     |96    |Banane Cavendish Equitable Certifiée par Fairtrade (Conventional & Fairtrade)                   |Conventional              |004ECELG   |americano             |13.31        |\n",
      "|2106     |480   |Banane Cavendish Bio & Equitable Certifiée par Ecocert Canada et Fairtrade (Organic & Fairtrade)|Organic                   |001ECELG   |americano             |16.66        |\n",
      "|2131     |192   |Banane Cavendish Equitable Certifiée par Fairtrade (Conventional & Fairtrade)                   |Conventional              |004ECELG   |americano             |13.46        |\n",
      "|2131     |384   |Banane Cavendish Bio & Equitable Certifiée par Ecocert Canada et Fairtrade (Organic & Fairtrade)|Organic                   |001ECELG   |americano             |16.86        |\n",
      "|2157     |480   |Banane Cavendish Bio & Equitable Certifiée par Ecocert Canada et Fairtrade (Organic & Fairtrade)|Organic                   |001ECELG   |americano             |17.16        |\n",
      "|2157     |480   |Banane Cavendish Equitable Certifiée par Fairtrade (Conventional & Fairtrade)                   |Conventional              |004ECELG   |americano             |13.71        |\n",
      "|2159     |960   |Banane Cavendish Equitable Certifiée par Fairtrade (Conventional & Fairtrade)                   |Conventional              |004NICOQ   |americano             |12.72        |\n",
      "|2199     |480   |Banane Cavendish Equitable Certifiée par Fairtrade (Conventional & Fairtrade)                   |Conventional              |004MXCOL   |americano             |17.59        |\n",
      "|2199     |480   |Banane Cavendish Bio & Equitable Certifiée par Ecocert Canada et Fairtrade (Organic & Fairtrade)|Organic                   |001MXCOL   |americano             |21.14        |\n",
      "|2203     |960   |Banane Cavendish Bio & Equitable Certifiée par Ecocert Canada et Fairtrade (Organic & Fairtrade)|Organic                   |001PEAPP   |Chep                  |17.19        |\n",
      "|2204     |900   |Banane Cavendish Bio & Equitable Certifiée par Ecocert Canada et Fairtrade                      |NaN                       |007PEAPP   |Chep                  |17.32        |\n",
      "|2205     |960   |Banane Cavendish Bio & Equitable Certifiée par Ecocert Canada et Fairtrade (Organic & Fairtrade)|Organic                   |001ECELG   |Chep                  |17.14        |\n",
      "|2206     |900   |Banane Cavendish Bio & Equitable Certifiée par Ecocert Canada et Fairtrade                      |NaN                       |007PEAPP   |Chep                  |17.32        |\n",
      "|2207     |942   |Banane Cavendish Bio & Equitable Certifiée par Ecocert Canada et Fairtrade (Organic & Fairtrade)|Organic                   |001ECELG   |Chep                  |17.14        |\n",
      "|2208     |384   |Banane Cavendish Bio & Equitable Certifiée par Ecocert Canada et Fairtrade (Organic & Fairtrade)|Organic                   |001ECELG   |Americano             |17.14        |\n",
      "+---------+------+------------------------------------------------------------------------------------------------+--------------------------+-----------+----------------------+-------------+\n",
      "only showing top 20 rows\n",
      "\n"
     ]
    }
   ],
   "execution_count": 81
  },
  {
   "metadata": {
    "ExecuteTime": {
     "end_time": "2025-07-18T19:36:25.695785Z",
     "start_time": "2025-07-18T19:36:25.333950Z"
    }
   },
   "cell_type": "code",
   "source": [
    "dfs=pd.read_csv('sales_order_list.csv')\n",
    "\n",
    "# Convert pandas → Spark\n",
    "spark_dfs= spark.createDataFrame(dfs)\n",
    "spark_dfs = spark_dfs.withColumnRenamed(\"job\", \"container\")\n",
    "# Show Spark DataFrame\n",
    "spark_dfs.show(truncate=False)\n"
   ],
   "id": "75f778173e5e24f6",
   "outputs": [
    {
     "name": "stdout",
     "output_type": "stream",
     "text": [
      "+-------+--------+-------+----------+---------------------------------------------+---------+--------+------------+-------------+------------+----------------------+--------------------+---------------+-----------+------------+-------------+-------------+-----+--------------------+---------------------------------------------------------------+---------------------------------------------------------------+---------------------------------------------------------------------------------+-------------+------------+---------------------+----+---------------------+-------------------+------------------+---------------------------------------------+--------------------+--------------+--------------+----------+-----------+\n",
      "|Status |Invoiced|Number |Date      |Buyer                                        |container|Quantity|Amount      |Shipping Date|Amount (CAD)|Unbilled Balance (CAD)|Unpaid Balance (CAD)|Employee       |Weight (lb)|Volume (ft³)|Approved Date|Payment Terms|Notes|Currency            |Billing Address                                                |Shipping Address                                               |Seller Address                                                                   |Exchange Rate|Is Cancelled|Reverse Exchange Rate|Paid|Amt. Before Tax (CAD)|Other Charges (CAD)|Items Amount (CAD)|Billing Client                               |Total Discount (CAD)|Total Discount|Purchase Order|Lot Number|Container# |\n",
      "+-------+--------+-------+----------+---------------------------------------------+---------+--------+------------+-------------+------------+----------------------+--------------------+---------------+-----------+------------+-------------+-------------+-----+--------------------+---------------------------------------------------------------+---------------------------------------------------------------+---------------------------------------------------------------------------------+-------------+------------+---------------------+----+---------------------+-------------------+------------------+---------------------------------------------+--------------------+--------------+--------------+----------+-----------+\n",
      "|Loading|No      |4536   |01/11/2025|Costco Vaughan Wet                           |4536.0   |900     |USD 0.00    |01/13/2025   |0.00        |0.00                  |0.00                |Claudia Ramirez|35,992.67  |1,906.99    |NaN          |Net 30       |NaN  |United States Dollar|100 Line Drive, Vaughan, ON L4H 4M2. Canada                    |100 Line Drive, Vaughan, ON L4H 4M2. Canada                    |5311, boulevard de Maisonneuve ouest\\r\\r\\nSuite 304, Montréal, QC H4A 1Z5. Canada|0.69         |No          |1.45                 |No  |0.00                 |0.0                |0.00              |Costco Vaughan Wet                           |0.0                 |USD 0.00      |250241        |NaN       |NaN        |\n",
      "|Loading|No      |4533   |01/11/2025|Costco Varennes                              |4533.0   |900     |USD 24093.00|01/13/2025   |34,814.39   |34,814.39             |0.00                |Claudia Ramirez|35,992.67  |1,906.99    |NaN          |Net 30       |NaN  |United States Dollar|3200 Chem. de la Baronnie, Varennes, QC J3X 0G3. Canada        |3200 Chem. de la Baronnie, Varennes, QC J3X 0G3. Canada        |5311, boulevard de Maisonneuve ouest\\r\\r\\nSuite 304, Montréal, QC H4A 1Z5. Canada|0.69         |No          |1.45                 |No  |34,814.39            |0.0                |34,814.39         |Costco Varennes                              |0.0                 |USD 0.00      |5741231077    |NaN       |NaN        |\n",
      "|Loading|No      |4565   |01/11/2025|Costco Vaughan Wet                           |4565.0   |855     |USD 22888.35|01/13/2025   |33,073.67   |33,073.67             |0.00                |Claudia Ramirez|34,193.04  |1,811.64    |NaN          |Net 30       |NaN  |United States Dollar|100 Line Drive, Vaughan, ON L4H 4M2. Canada                    |100 Line Drive, Vaughan, ON L4H 4M2. Canada                    |5311, boulevard de Maisonneuve ouest\\r\\r\\nSuite 304, Montréal, QC H4A 1Z5. Canada|0.69         |No          |1.45                 |No  |33,073.67            |0.0                |33,073.67         |Costco Vaughan Wet                           |0.0                 |USD 0.00      |250354        |NaN       |NaN        |\n",
      "|Loading|No      |4543   |01/11/2025|Krown Produce  Fresh At Its Best™            |NaN      |900     |USD 24093.00|01/13/2025   |34,814.39   |34,814.39             |0.00                |Claudia Ramirez|35,992.67  |1,906.99    |NaN          |Net 10       |NaN  |United States Dollar|4923 47th Street SE,, Calgary, AB T2B 3S5. Canada              |4923 47th Street SE,, Calgary, AB T2B 3S5. Canada              |5311, boulevard de Maisonneuve ouest\\r\\r\\nSuite 304, Montréal, QC H4A 1Z5. Canada|0.69         |No          |1.45                 |No  |34,814.39            |0.0                |34,814.39         |Krown Produce  Fresh At Its Best™            |0.0                 |USD 0.00      |AL1739        |NaN       |NaN        |\n",
      "|Loading|No      |4537   |01/11/2025|Costco Varennes                              |4537.0   |900     |USD 24093.00|01/12/2025   |34,814.39   |34,814.39             |0.00                |Claudia Ramirez|35,992.67  |1,906.99    |NaN          |Net 30       |NaN  |United States Dollar|3200 Chem. de la Baronnie, Varennes, QC J3X 0G3. Canada        |3200 Chem. de la Baronnie, Varennes, QC J3X 0G3. Canada        |5311, boulevard de Maisonneuve ouest\\r\\r\\nSuite 304, Montréal, QC H4A 1Z5. Canada|0.69         |No          |1.45                 |No  |34,814.39            |0.0                |34,814.39         |Costco Varennes                              |0.0                 |USD 0.00      |5741231066    |NaN       |NaN        |\n",
      "|Loading|No      |4532   |01/11/2025|Costco Vaughan Wet                           |4532.0   |900     |USD 24093.00|01/12/2025   |34,814.39   |34,814.39             |0.00                |Claudia Ramirez|35,992.67  |1,906.99    |NaN          |Net 30       |NaN  |United States Dollar|100 Line Drive, Vaughan, ON L4H 4M2. Canada                    |100 Line Drive, Vaughan, ON L4H 4M2. Canada                    |5311, boulevard de Maisonneuve ouest\\r\\r\\nSuite 304, Montréal, QC H4A 1Z5. Canada|0.69         |No          |1.45                 |No  |34,814.39            |0.0                |34,814.39         |Costco Vaughan Wet                           |0.0                 |USD 0.00      |250353        |NaN       |NaN        |\n",
      "|Loading|No      |4564   |01/09/2025|Costco Vaughan Wet                           |4564.0   |900     |USD 24093.00|01/10/2025   |34,790.29   |34,790.29             |0.00                |Claudia Ramirez|35,992.67  |1,906.99    |NaN          |Net 30       |NaN  |United States Dollar|100 Line Drive, Vaughan, ON L4H 4M2. Canada                    |100 Line Drive, Vaughan, ON L4H 4M2. Canada                    |5311, boulevard de Maisonneuve ouest\\r\\r\\nSuite 304, Montréal, QC H4A 1Z5. Canada|0.69         |No          |1.44                 |No  |34,790.29            |0.0                |34,790.29         |Costco Vaughan Wet                           |0.0                 |USD 0.00      |250239        |NaN       |NaN        |\n",
      "|Loading|No      |4572   |01/09/2025|Krown Produce  Fresh At Its Best™            |4572.0   |900     |USD 22599.00|01/10/2025   |32,632.96   |32,632.96             |0.00                |Claudia Ramirez|35,992.67  |1,906.99    |NaN          |Net 10       |NaN  |United States Dollar|4923 47th Street SE,, Calgary, AB T2B 3S5. Canada              |4923 47th Street SE,, Calgary, AB T2B 3S5. Canada              |5311, boulevard de Maisonneuve ouest\\r\\r\\nSuite 304, Montréal, QC H4A 1Z5. Canada|0.69         |No          |1.44                 |No  |32,632.96            |0.0                |32,632.96         |Krown Produce  Fresh At Its Best™            |0.0                 |USD 0.00      |AL1704        |NaN       |CAAU4105992|\n",
      "|Loading|No      |4575QC |01/09/2025|Sobeys Quebec City                           |4575.0   |240     |USD 5714.40 |01/10/2025   |8,251.59    |8,251.59              |0.00                |Claudia Ramirez|9,598.05   |508.53      |NaN          |Net 30       |NaN  |United States Dollar|950, avenue Galilee, Duberger, QC G1P 4B7. Canada              |950, avenue Galilee, Duberger, QC G1P 4B7. Canada              |5311, boulevard de Maisonneuve ouest\\r\\r\\nSuite 304, Montréal, QC H4A 1Z5. Canada|0.69         |No          |1.44                 |No  |8,251.59             |0.0                |8,251.59          |Sobeys Quebec City                           |0.0                 |USD 0.00      |4567010205    |NaN       |BEAU9710377|\n",
      "|Loading|No      |4575BCH|01/09/2025|Sobeys BCH                                   |4575.0   |720     |USD 17143.20|01/10/2025   |24,754.78   |24,754.78             |0.00                |Claudia Ramirez|28,794.14  |1,525.59    |NaN          |Net 30       |NaN  |United States Dollar|Montreal, QC H1G 3J5. Canada                                   |1500 Bd de Montarville, Boucherville, QC J4B 5Y3. Canada       |5311, boulevard de Maisonneuve ouest\\r\\r\\nSuite 304, Montréal, QC H4A 1Z5. Canada|0.69         |No          |1.44                 |No  |24,754.78            |0.0                |24,754.78         |Sobeys BCH                                   |0.0                 |USD 0.00      |4567010098    |NaN       |BEAU9710377|\n",
      "|Loading|No      |4550   |01/09/2025|Courchesne Larose                            |4550.0   |960     |USD 24643.20|01/13/2025   |35,584.78   |35,584.78             |0.00                |Claudia Ramirez|38,392.18  |2,034.12    |NaN          |Net 30       |NaN  |United States Dollar|9761 boul. des Sciences, Montréal, QC H1J 0A6. Canada          |9761 boul. des Sciences, Montréal, QC H1J 0A6. Canada          |5311, boulevard de Maisonneuve ouest\\r\\r\\nSuite 304, Montréal, QC H4A 1Z5. Canada|0.69         |No          |1.44                 |No  |35,584.78            |0.0                |35,584.78         |Courchesne Larose                            |0.0                 |USD 0.00      |2486593       |NaN       |SEGU9465097|\n",
      "|Loading|No      |4560   |01/09/2025|Chiovitti Banana Co., Ltd                    |4560.0   |960     |USD 23385.60|01/12/2025   |33,768.81   |33,768.81             |0.00                |Claudia Ramirez|38,392.18  |2,034.12    |NaN          |Net 30       |NaN  |United States Dollar|26 Magnificent Road, Toronto, ON M8Z 4T3. Canada               |26 Magnificent Road, Toronto, ON M8Z 4T3. Canada               |5311, boulevard de Maisonneuve ouest\\r\\r\\nSuite 304, Montréal, QC H4A 1Z5. Canada|0.69         |No          |1.44                 |No  |33,768.81            |0.0                |33,768.81         |Chiovitti Banana Co., Ltd                    |0.0                 |USD 0.00      |250355        |NaN       |BMOU9887238|\n",
      "|Loading|No      |4527CH |01/08/2025|Charlies Seattle                             |4527.0   |720     |USD 20174.40|01/10/2025   |28,950.26   |28,950.26             |0.00                |Claudia Ramirez|28,794.14  |1,525.59    |NaN          |Net 30       |NaN  |United States Dollar|5033 1st Ave S, Seattle 98134, Seattle, WA 98134. United States|5033 1st Ave S, Seattle 98134, Seattle, WA 98134. United States|5311, boulevard de Maisonneuve ouest\\r\\r\\nSuite 304, Montréal, QC H4A 1Z5. Canada|0.7          |No          |1.44                 |No  |28,950.26            |0.0                |28,950.26         |Charlies Seattle                             |0.0                 |USD 0.00      |7002396       |NaN       |NaN        |\n",
      "|Loading|No      |4527S  |01/08/2025|Sprouts Farmers Market - Distribution Centers|4527.0   |48      |USD 0.00    |01/08/2025   |0.00        |0.00                  |0.00                |Claudia Ramirez|0.00       |0.00        |01/12/2025   |Net 30       |NaN  |United States Dollar|5445 West Missouri Ave, Glendale, AZ 85301. United States      |5445 West Missouri Ave, Glendale, AZ 85301. United States      |5311, boulevard de Maisonneuve ouest\\r\\r\\nSuite 304, Montréal, QC H4A 1Z5. Canada|0.7          |No          |1.44                 |No  |0.00                 |0.0                |0.00              |Sprouts Farmers Market - Distribution Centers|0.0                 |USD 0.00      |0980162917    |NaN       |NaN        |\n",
      "|Loading|No      |4530QC |01/07/2025|Sobeys Quebec City                           |4530.0   |240     |USD 5714.40 |01/07/2025   |8,200.16    |8,200.16              |0.00                |Claudia Ramirez|9,598.05   |508.53      |01/12/2025   |Net 30       |NaN  |United States Dollar|950, avenue Galilee, Duberger, QC G1P 4B7. Canada              |950, avenue Galilee, Duberger, QC G1P 4B7. Canada              |5311, boulevard de Maisonneuve ouest\\r\\r\\nSuite 304, Montréal, QC H4A 1Z5. Canada|0.7          |No          |1.44                 |No  |8,200.16             |0.0                |8,200.16          |Sobeys Quebec City                           |0.0                 |USD 0.00      |4567010203    |NaN       |SEGU9819945|\n",
      "|Loading|No      |4530BCH|01/07/2025|Sobeys BCH                                   |4530.0   |720     |USD 17143.20|01/07/2025   |24,600.49   |24,600.49             |0.00                |Claudia Ramirez|28,794.14  |1,525.59    |01/12/2025   |Net 30       |NaN  |United States Dollar|Montreal, QC H1G 3J5. Canada                                   |1500 Bd de Montarville, Boucherville, QC J4B 5Y3. Canada       |5311, boulevard de Maisonneuve ouest\\r\\r\\nSuite 304, Montréal, QC H4A 1Z5. Canada|0.7          |No          |1.44                 |No  |24,600.49            |0.0                |24,600.49         |Sobeys BCH                                   |0.0                 |USD 0.00      |4567010096    |NaN       |SEGU9819945|\n",
      "|Loading|No      |4562   |01/07/2025|Costco Vaughan Wet                           |4562.0   |900     |USD 24093.00|01/10/2025   |34,573.45   |34,573.45             |0.00                |Claudia Ramirez|35,992.67  |1,906.99    |NaN          |Net 30       |NaN  |United States Dollar|100 Line Drive, Vaughan, ON L4H 4M2. Canada                    |100 Line Drive, Vaughan, ON L4H 4M2. Canada                    |5311, boulevard de Maisonneuve ouest\\r\\r\\nSuite 304, Montréal, QC H4A 1Z5. Canada|0.7          |No          |1.44                 |No  |34,573.45            |0.0                |34,573.45         |Costco Vaughan Wet                           |0.01                |USD 0.00      |250240        |NaN       |NaN        |\n",
      "|Loading|No      |4500   |01/07/2025|Chiovitti Banana Co., Ltd                    |4500.0   |960     |USD 23385.60|01/08/2025   |33,558.34   |33,558.34             |0.00                |Claudia Ramirez|38,392.18  |2,034.12    |NaN          |Net 30       |NaN  |United States Dollar|26 Magnificent Road, Toronto, ON M8Z 4T3. Canada               |26 Magnificent Road, Toronto, ON M8Z 4T3. Canada               |5311, boulevard de Maisonneuve ouest\\r\\r\\nSuite 304, Montréal, QC H4A 1Z5. Canada|0.7          |No          |1.44                 |No  |33,558.34            |0.0                |33,558.34         |Chiovitti Banana Co., Ltd                    |0.0                 |USD 0.00      |250234        |NaN       |NaN        |\n",
      "|Loading|No      |4526   |01/07/2025|Costco Vaughan Wet                           |4526.0   |900     |USD 24093.00|01/09/2025   |34,573.45   |34,573.45             |0.00                |Claudia Ramirez|35,992.67  |1,906.99    |NaN          |Net 30       |NaN  |United States Dollar|100 Line Drive, Vaughan, ON L4H 4M2. Canada                    |100 Line Drive, Vaughan, ON L4H 4M2. Canada                    |5311, boulevard de Maisonneuve ouest\\r\\r\\nSuite 304, Montréal, QC H4A 1Z5. Canada|0.7          |No          |1.44                 |No  |34,573.45            |0.0                |34,573.45         |Costco Vaughan Wet                           |0.01                |USD 0.00      |250235        |NaN       |NaN        |\n",
      "|Loading|No      |4489   |01/07/2025|Top Banana                                   |4489.0   |900     |USD 22788.00|01/08/2025   |32,700.78   |32,700.78             |0.00                |Claudia Ramirez|35,991.00  |1,908.00    |NaN          |Net 30       |NaN  |United States Dollar|415 NYC Terminal Market, Bronx, NY 10474. United States        |415 NYC Terminal Market, Bronx, NY 10474. United States        |5311, boulevard de Maisonneuve ouest\\r\\r\\nSuite 304, Montréal, QC H4A 1Z5. Canada|0.7          |No          |1.44                 |No  |32,700.78            |0.0                |32,700.78         |Top Banana                                   |0.0                 |USD 0.00      |010825        |NaN       |MNBU4256972|\n",
      "+-------+--------+-------+----------+---------------------------------------------+---------+--------+------------+-------------+------------+----------------------+--------------------+---------------+-----------+------------+-------------+-------------+-----+--------------------+---------------------------------------------------------------+---------------------------------------------------------------+---------------------------------------------------------------------------------+-------------+------------+---------------------+----+---------------------+-------------------+------------------+---------------------------------------------+--------------------+--------------+--------------+----------+-----------+\n",
      "only showing top 20 rows\n",
      "\n"
     ]
    }
   ],
   "execution_count": 64
  },
  {
   "metadata": {
    "ExecuteTime": {
     "end_time": "2025-07-18T19:41:03.271446Z",
     "start_time": "2025-07-18T19:41:03.022093Z"
    }
   },
   "cell_type": "code",
   "source": [
    "from pyspark.sql.functions import col, lpad\n",
    "\n",
    "# Convert to integer, then pad left with 0s to ensure 4 digits\n",
    "spark_dfs = spark_dfs.withColumn(\n",
    "    \"container\",\n",
    "    lpad(col(\"container\").cast(\"int\").cast(\"string\"), 4, '0')\n",
    ")\n",
    "\n",
    "spark_dfs.show(truncate=False)\n",
    "spark_dfs.createOrReplaceTempView(\"sales\")"
   ],
   "id": "a6eabdead4afb816",
   "outputs": [
    {
     "name": "stdout",
     "output_type": "stream",
     "text": [
      "+-------+--------+-------+----------+---------------------------------------------+---------+--------+------------+-------------+------------+----------------------+--------------------+---------------+-----------+------------+-------------+-------------+-----+--------------------+---------------------------------------------------------------+---------------------------------------------------------------+---------------------------------------------------------------------------------+-------------+------------+---------------------+----+---------------------+-------------------+------------------+---------------------------------------------+--------------------+--------------+--------------+----------+-----------+\n",
      "|Status |Invoiced|Number |Date      |Buyer                                        |container|Quantity|Amount      |Shipping Date|Amount (CAD)|Unbilled Balance (CAD)|Unpaid Balance (CAD)|Employee       |Weight (lb)|Volume (ft³)|Approved Date|Payment Terms|Notes|Currency            |Billing Address                                                |Shipping Address                                               |Seller Address                                                                   |Exchange Rate|Is Cancelled|Reverse Exchange Rate|Paid|Amt. Before Tax (CAD)|Other Charges (CAD)|Items Amount (CAD)|Billing Client                               |Total Discount (CAD)|Total Discount|Purchase Order|Lot Number|Container# |\n",
      "+-------+--------+-------+----------+---------------------------------------------+---------+--------+------------+-------------+------------+----------------------+--------------------+---------------+-----------+------------+-------------+-------------+-----+--------------------+---------------------------------------------------------------+---------------------------------------------------------------+---------------------------------------------------------------------------------+-------------+------------+---------------------+----+---------------------+-------------------+------------------+---------------------------------------------+--------------------+--------------+--------------+----------+-----------+\n",
      "|Loading|No      |4536   |01/11/2025|Costco Vaughan Wet                           |4536     |900     |USD 0.00    |01/13/2025   |0.00        |0.00                  |0.00                |Claudia Ramirez|35,992.67  |1,906.99    |NaN          |Net 30       |NaN  |United States Dollar|100 Line Drive, Vaughan, ON L4H 4M2. Canada                    |100 Line Drive, Vaughan, ON L4H 4M2. Canada                    |5311, boulevard de Maisonneuve ouest\\r\\r\\nSuite 304, Montréal, QC H4A 1Z5. Canada|0.69         |No          |1.45                 |No  |0.00                 |0.0                |0.00              |Costco Vaughan Wet                           |0.0                 |USD 0.00      |250241        |NaN       |NaN        |\n",
      "|Loading|No      |4533   |01/11/2025|Costco Varennes                              |4533     |900     |USD 24093.00|01/13/2025   |34,814.39   |34,814.39             |0.00                |Claudia Ramirez|35,992.67  |1,906.99    |NaN          |Net 30       |NaN  |United States Dollar|3200 Chem. de la Baronnie, Varennes, QC J3X 0G3. Canada        |3200 Chem. de la Baronnie, Varennes, QC J3X 0G3. Canada        |5311, boulevard de Maisonneuve ouest\\r\\r\\nSuite 304, Montréal, QC H4A 1Z5. Canada|0.69         |No          |1.45                 |No  |34,814.39            |0.0                |34,814.39         |Costco Varennes                              |0.0                 |USD 0.00      |5741231077    |NaN       |NaN        |\n",
      "|Loading|No      |4565   |01/11/2025|Costco Vaughan Wet                           |4565     |855     |USD 22888.35|01/13/2025   |33,073.67   |33,073.67             |0.00                |Claudia Ramirez|34,193.04  |1,811.64    |NaN          |Net 30       |NaN  |United States Dollar|100 Line Drive, Vaughan, ON L4H 4M2. Canada                    |100 Line Drive, Vaughan, ON L4H 4M2. Canada                    |5311, boulevard de Maisonneuve ouest\\r\\r\\nSuite 304, Montréal, QC H4A 1Z5. Canada|0.69         |No          |1.45                 |No  |33,073.67            |0.0                |33,073.67         |Costco Vaughan Wet                           |0.0                 |USD 0.00      |250354        |NaN       |NaN        |\n",
      "|Loading|No      |4543   |01/11/2025|Krown Produce  Fresh At Its Best™            |0000     |900     |USD 24093.00|01/13/2025   |34,814.39   |34,814.39             |0.00                |Claudia Ramirez|35,992.67  |1,906.99    |NaN          |Net 10       |NaN  |United States Dollar|4923 47th Street SE,, Calgary, AB T2B 3S5. Canada              |4923 47th Street SE,, Calgary, AB T2B 3S5. Canada              |5311, boulevard de Maisonneuve ouest\\r\\r\\nSuite 304, Montréal, QC H4A 1Z5. Canada|0.69         |No          |1.45                 |No  |34,814.39            |0.0                |34,814.39         |Krown Produce  Fresh At Its Best™            |0.0                 |USD 0.00      |AL1739        |NaN       |NaN        |\n",
      "|Loading|No      |4537   |01/11/2025|Costco Varennes                              |4537     |900     |USD 24093.00|01/12/2025   |34,814.39   |34,814.39             |0.00                |Claudia Ramirez|35,992.67  |1,906.99    |NaN          |Net 30       |NaN  |United States Dollar|3200 Chem. de la Baronnie, Varennes, QC J3X 0G3. Canada        |3200 Chem. de la Baronnie, Varennes, QC J3X 0G3. Canada        |5311, boulevard de Maisonneuve ouest\\r\\r\\nSuite 304, Montréal, QC H4A 1Z5. Canada|0.69         |No          |1.45                 |No  |34,814.39            |0.0                |34,814.39         |Costco Varennes                              |0.0                 |USD 0.00      |5741231066    |NaN       |NaN        |\n",
      "|Loading|No      |4532   |01/11/2025|Costco Vaughan Wet                           |4532     |900     |USD 24093.00|01/12/2025   |34,814.39   |34,814.39             |0.00                |Claudia Ramirez|35,992.67  |1,906.99    |NaN          |Net 30       |NaN  |United States Dollar|100 Line Drive, Vaughan, ON L4H 4M2. Canada                    |100 Line Drive, Vaughan, ON L4H 4M2. Canada                    |5311, boulevard de Maisonneuve ouest\\r\\r\\nSuite 304, Montréal, QC H4A 1Z5. Canada|0.69         |No          |1.45                 |No  |34,814.39            |0.0                |34,814.39         |Costco Vaughan Wet                           |0.0                 |USD 0.00      |250353        |NaN       |NaN        |\n",
      "|Loading|No      |4564   |01/09/2025|Costco Vaughan Wet                           |4564     |900     |USD 24093.00|01/10/2025   |34,790.29   |34,790.29             |0.00                |Claudia Ramirez|35,992.67  |1,906.99    |NaN          |Net 30       |NaN  |United States Dollar|100 Line Drive, Vaughan, ON L4H 4M2. Canada                    |100 Line Drive, Vaughan, ON L4H 4M2. Canada                    |5311, boulevard de Maisonneuve ouest\\r\\r\\nSuite 304, Montréal, QC H4A 1Z5. Canada|0.69         |No          |1.44                 |No  |34,790.29            |0.0                |34,790.29         |Costco Vaughan Wet                           |0.0                 |USD 0.00      |250239        |NaN       |NaN        |\n",
      "|Loading|No      |4572   |01/09/2025|Krown Produce  Fresh At Its Best™            |4572     |900     |USD 22599.00|01/10/2025   |32,632.96   |32,632.96             |0.00                |Claudia Ramirez|35,992.67  |1,906.99    |NaN          |Net 10       |NaN  |United States Dollar|4923 47th Street SE,, Calgary, AB T2B 3S5. Canada              |4923 47th Street SE,, Calgary, AB T2B 3S5. Canada              |5311, boulevard de Maisonneuve ouest\\r\\r\\nSuite 304, Montréal, QC H4A 1Z5. Canada|0.69         |No          |1.44                 |No  |32,632.96            |0.0                |32,632.96         |Krown Produce  Fresh At Its Best™            |0.0                 |USD 0.00      |AL1704        |NaN       |CAAU4105992|\n",
      "|Loading|No      |4575QC |01/09/2025|Sobeys Quebec City                           |4575     |240     |USD 5714.40 |01/10/2025   |8,251.59    |8,251.59              |0.00                |Claudia Ramirez|9,598.05   |508.53      |NaN          |Net 30       |NaN  |United States Dollar|950, avenue Galilee, Duberger, QC G1P 4B7. Canada              |950, avenue Galilee, Duberger, QC G1P 4B7. Canada              |5311, boulevard de Maisonneuve ouest\\r\\r\\nSuite 304, Montréal, QC H4A 1Z5. Canada|0.69         |No          |1.44                 |No  |8,251.59             |0.0                |8,251.59          |Sobeys Quebec City                           |0.0                 |USD 0.00      |4567010205    |NaN       |BEAU9710377|\n",
      "|Loading|No      |4575BCH|01/09/2025|Sobeys BCH                                   |4575     |720     |USD 17143.20|01/10/2025   |24,754.78   |24,754.78             |0.00                |Claudia Ramirez|28,794.14  |1,525.59    |NaN          |Net 30       |NaN  |United States Dollar|Montreal, QC H1G 3J5. Canada                                   |1500 Bd de Montarville, Boucherville, QC J4B 5Y3. Canada       |5311, boulevard de Maisonneuve ouest\\r\\r\\nSuite 304, Montréal, QC H4A 1Z5. Canada|0.69         |No          |1.44                 |No  |24,754.78            |0.0                |24,754.78         |Sobeys BCH                                   |0.0                 |USD 0.00      |4567010098    |NaN       |BEAU9710377|\n",
      "|Loading|No      |4550   |01/09/2025|Courchesne Larose                            |4550     |960     |USD 24643.20|01/13/2025   |35,584.78   |35,584.78             |0.00                |Claudia Ramirez|38,392.18  |2,034.12    |NaN          |Net 30       |NaN  |United States Dollar|9761 boul. des Sciences, Montréal, QC H1J 0A6. Canada          |9761 boul. des Sciences, Montréal, QC H1J 0A6. Canada          |5311, boulevard de Maisonneuve ouest\\r\\r\\nSuite 304, Montréal, QC H4A 1Z5. Canada|0.69         |No          |1.44                 |No  |35,584.78            |0.0                |35,584.78         |Courchesne Larose                            |0.0                 |USD 0.00      |2486593       |NaN       |SEGU9465097|\n",
      "|Loading|No      |4560   |01/09/2025|Chiovitti Banana Co., Ltd                    |4560     |960     |USD 23385.60|01/12/2025   |33,768.81   |33,768.81             |0.00                |Claudia Ramirez|38,392.18  |2,034.12    |NaN          |Net 30       |NaN  |United States Dollar|26 Magnificent Road, Toronto, ON M8Z 4T3. Canada               |26 Magnificent Road, Toronto, ON M8Z 4T3. Canada               |5311, boulevard de Maisonneuve ouest\\r\\r\\nSuite 304, Montréal, QC H4A 1Z5. Canada|0.69         |No          |1.44                 |No  |33,768.81            |0.0                |33,768.81         |Chiovitti Banana Co., Ltd                    |0.0                 |USD 0.00      |250355        |NaN       |BMOU9887238|\n",
      "|Loading|No      |4527CH |01/08/2025|Charlies Seattle                             |4527     |720     |USD 20174.40|01/10/2025   |28,950.26   |28,950.26             |0.00                |Claudia Ramirez|28,794.14  |1,525.59    |NaN          |Net 30       |NaN  |United States Dollar|5033 1st Ave S, Seattle 98134, Seattle, WA 98134. United States|5033 1st Ave S, Seattle 98134, Seattle, WA 98134. United States|5311, boulevard de Maisonneuve ouest\\r\\r\\nSuite 304, Montréal, QC H4A 1Z5. Canada|0.7          |No          |1.44                 |No  |28,950.26            |0.0                |28,950.26         |Charlies Seattle                             |0.0                 |USD 0.00      |7002396       |NaN       |NaN        |\n",
      "|Loading|No      |4527S  |01/08/2025|Sprouts Farmers Market - Distribution Centers|4527     |48      |USD 0.00    |01/08/2025   |0.00        |0.00                  |0.00                |Claudia Ramirez|0.00       |0.00        |01/12/2025   |Net 30       |NaN  |United States Dollar|5445 West Missouri Ave, Glendale, AZ 85301. United States      |5445 West Missouri Ave, Glendale, AZ 85301. United States      |5311, boulevard de Maisonneuve ouest\\r\\r\\nSuite 304, Montréal, QC H4A 1Z5. Canada|0.7          |No          |1.44                 |No  |0.00                 |0.0                |0.00              |Sprouts Farmers Market - Distribution Centers|0.0                 |USD 0.00      |0980162917    |NaN       |NaN        |\n",
      "|Loading|No      |4530QC |01/07/2025|Sobeys Quebec City                           |4530     |240     |USD 5714.40 |01/07/2025   |8,200.16    |8,200.16              |0.00                |Claudia Ramirez|9,598.05   |508.53      |01/12/2025   |Net 30       |NaN  |United States Dollar|950, avenue Galilee, Duberger, QC G1P 4B7. Canada              |950, avenue Galilee, Duberger, QC G1P 4B7. Canada              |5311, boulevard de Maisonneuve ouest\\r\\r\\nSuite 304, Montréal, QC H4A 1Z5. Canada|0.7          |No          |1.44                 |No  |8,200.16             |0.0                |8,200.16          |Sobeys Quebec City                           |0.0                 |USD 0.00      |4567010203    |NaN       |SEGU9819945|\n",
      "|Loading|No      |4530BCH|01/07/2025|Sobeys BCH                                   |4530     |720     |USD 17143.20|01/07/2025   |24,600.49   |24,600.49             |0.00                |Claudia Ramirez|28,794.14  |1,525.59    |01/12/2025   |Net 30       |NaN  |United States Dollar|Montreal, QC H1G 3J5. Canada                                   |1500 Bd de Montarville, Boucherville, QC J4B 5Y3. Canada       |5311, boulevard de Maisonneuve ouest\\r\\r\\nSuite 304, Montréal, QC H4A 1Z5. Canada|0.7          |No          |1.44                 |No  |24,600.49            |0.0                |24,600.49         |Sobeys BCH                                   |0.0                 |USD 0.00      |4567010096    |NaN       |SEGU9819945|\n",
      "|Loading|No      |4562   |01/07/2025|Costco Vaughan Wet                           |4562     |900     |USD 24093.00|01/10/2025   |34,573.45   |34,573.45             |0.00                |Claudia Ramirez|35,992.67  |1,906.99    |NaN          |Net 30       |NaN  |United States Dollar|100 Line Drive, Vaughan, ON L4H 4M2. Canada                    |100 Line Drive, Vaughan, ON L4H 4M2. Canada                    |5311, boulevard de Maisonneuve ouest\\r\\r\\nSuite 304, Montréal, QC H4A 1Z5. Canada|0.7          |No          |1.44                 |No  |34,573.45            |0.0                |34,573.45         |Costco Vaughan Wet                           |0.01                |USD 0.00      |250240        |NaN       |NaN        |\n",
      "|Loading|No      |4500   |01/07/2025|Chiovitti Banana Co., Ltd                    |4500     |960     |USD 23385.60|01/08/2025   |33,558.34   |33,558.34             |0.00                |Claudia Ramirez|38,392.18  |2,034.12    |NaN          |Net 30       |NaN  |United States Dollar|26 Magnificent Road, Toronto, ON M8Z 4T3. Canada               |26 Magnificent Road, Toronto, ON M8Z 4T3. Canada               |5311, boulevard de Maisonneuve ouest\\r\\r\\nSuite 304, Montréal, QC H4A 1Z5. Canada|0.7          |No          |1.44                 |No  |33,558.34            |0.0                |33,558.34         |Chiovitti Banana Co., Ltd                    |0.0                 |USD 0.00      |250234        |NaN       |NaN        |\n",
      "|Loading|No      |4526   |01/07/2025|Costco Vaughan Wet                           |4526     |900     |USD 24093.00|01/09/2025   |34,573.45   |34,573.45             |0.00                |Claudia Ramirez|35,992.67  |1,906.99    |NaN          |Net 30       |NaN  |United States Dollar|100 Line Drive, Vaughan, ON L4H 4M2. Canada                    |100 Line Drive, Vaughan, ON L4H 4M2. Canada                    |5311, boulevard de Maisonneuve ouest\\r\\r\\nSuite 304, Montréal, QC H4A 1Z5. Canada|0.7          |No          |1.44                 |No  |34,573.45            |0.0                |34,573.45         |Costco Vaughan Wet                           |0.01                |USD 0.00      |250235        |NaN       |NaN        |\n",
      "|Loading|No      |4489   |01/07/2025|Top Banana                                   |4489     |900     |USD 22788.00|01/08/2025   |32,700.78   |32,700.78             |0.00                |Claudia Ramirez|35,991.00  |1,908.00    |NaN          |Net 30       |NaN  |United States Dollar|415 NYC Terminal Market, Bronx, NY 10474. United States        |415 NYC Terminal Market, Bronx, NY 10474. United States        |5311, boulevard de Maisonneuve ouest\\r\\r\\nSuite 304, Montréal, QC H4A 1Z5. Canada|0.7          |No          |1.44                 |No  |32,700.78            |0.0                |32,700.78         |Top Banana                                   |0.0                 |USD 0.00      |010825        |NaN       |MNBU4256972|\n",
      "+-------+--------+-------+----------+---------------------------------------------+---------+--------+------------+-------------+------------+----------------------+--------------------+---------------+-----------+------------+-------------+-------------+-----+--------------------+---------------------------------------------------------------+---------------------------------------------------------------+---------------------------------------------------------------------------------+-------------+------------+---------------------+----+---------------------+-------------------+------------------+---------------------------------------------+--------------------+--------------+--------------+----------+-----------+\n",
      "only showing top 20 rows\n",
      "\n"
     ]
    }
   ],
   "execution_count": 66
  },
  {
   "metadata": {
    "ExecuteTime": {
     "end_time": "2025-07-18T20:22:44.224914Z",
     "start_time": "2025-07-18T20:22:43.277766Z"
    }
   },
   "cell_type": "code",
   "source": [
    "res= spark.sql(\n",
    "\n",
    "\n",
    "    '''\n",
    "   select  distinct job as container from commodity where job in\n",
    "    (select distinct container from sales\n",
    "    where container not like '0000')\n",
    "    order by container asc\n",
    "\n",
    "    '''\n",
    ")\n",
    "res.show()"
   ],
   "id": "b588d89fbbe1c74f",
   "outputs": [
    {
     "name": "stdout",
     "output_type": "stream",
     "text": [
      "+---------+\n",
      "|container|\n",
      "+---------+\n",
      "|     1953|\n",
      "|     2081|\n",
      "|     2106|\n",
      "|     2131|\n",
      "|     2157|\n",
      "|     2159|\n",
      "|     2199|\n",
      "|     2203|\n",
      "|     2204|\n",
      "|     2205|\n",
      "|     2206|\n",
      "|     2207|\n",
      "|     2208|\n",
      "|     2209|\n",
      "|     2210|\n",
      "|     2211|\n",
      "|     2212|\n",
      "|     2244|\n",
      "|     2296|\n",
      "|     2605|\n",
      "+---------+\n",
      "only showing top 20 rows\n",
      "\n"
     ]
    }
   ],
   "execution_count": 78
  },
  {
   "metadata": {
    "ExecuteTime": {
     "end_time": "2025-07-18T20:25:27.409196Z",
     "start_time": "2025-07-18T20:25:27.002511Z"
    }
   },
   "cell_type": "code",
   "source": [
    "res= spark.sql(\n",
    "\n",
    "\n",
    "    '''\n",
    "    select * from sales\n",
    "    where container = '1953'\n",
    "\n",
    "\n",
    "    '''\n",
    ")\n",
    "res.show()"
   ],
   "id": "887117f3d51f0e56",
   "outputs": [
    {
     "name": "stdout",
     "output_type": "stream",
     "text": [
      "+-------+--------+------+----------+--------------------+---------+--------+------------+-------------+------------+----------------------+--------------------+--------------+-----------+------------+-------------+-------------+-----+--------------------+--------------------+--------------------+--------------------+-------------+------------+---------------------+----+---------------------+-------------------+------------------+--------------------+--------------------+--------------+--------------+----------+----------+\n",
      "| Status|Invoiced|Number|      Date|               Buyer|container|Quantity|      Amount|Shipping Date|Amount (CAD)|Unbilled Balance (CAD)|Unpaid Balance (CAD)|      Employee|Weight (lb)|Volume (ft³)|Approved Date|Payment Terms|Notes|            Currency|     Billing Address|    Shipping Address|      Seller Address|Exchange Rate|Is Cancelled|Reverse Exchange Rate|Paid|Amt. Before Tax (CAD)|Other Charges (CAD)|Items Amount (CAD)|      Billing Client|Total Discount (CAD)|Total Discount|Purchase Order|Lot Number|Container#|\n",
      "+-------+--------+------+----------+--------------------+---------+--------+------------+-------------+------------+----------------------+--------------------+--------------+-----------+------------+-------------+-------------+-----+--------------------+--------------------+--------------------+--------------------+-------------+------------+---------------------+----+---------------------+-------------------+------------------+--------------------+--------------------+--------------+--------------+----------+----------+\n",
      "|On Hand|     Yes| 1953G|01/28/2022|            GO FRESH|     1953|     336| USD 8568.00|   01/31/2022|   10,891.64|                -51.41|                0.00|Jennie Coleman|       0.00|        0.00|          NaN|       Net 30|  NaN|United States Dollar|247-165 the Queen...|247-165 the Queen...|5311, boulevard d...|         0.79|          No|                 1.27|  No|            10,891.64|                0.0|         10,891.64|            GO FRESH|                 0.0|      USD 0.00|         10790|       NaN|       NaN|\n",
      "|On Hand|     Yes| 1953C|01/28/2022|Chiovitti Banana ...|     1953|     624|USD 15469.92|   01/31/2022|   19,665.36|                -92.82|                0.00|Jennie Coleman|       0.00|        0.00|          NaN|       Net 30|  NaN|United States Dollar|26 Magnificent Ro...|26 Magnificent Ro...|5311, boulevard d...|         0.79|          No|                 1.27|  No|            19,665.36|                0.0|         19,665.36|Chiovitti Banana ...|                 0.0|      USD 0.00|        220605|       NaN|       NaN|\n",
      "+-------+--------+------+----------+--------------------+---------+--------+------------+-------------+------------+----------------------+--------------------+--------------+-----------+------------+-------------+-------------+-----+--------------------+--------------------+--------------------+--------------------+-------------+------------+---------------------+----+---------------------+-------------------+------------------+--------------------+--------------------+--------------+--------------+----------+----------+\n",
      "\n"
     ]
    }
   ],
   "execution_count": 80
  },
  {
   "metadata": {},
   "cell_type": "code",
   "outputs": [],
   "execution_count": null,
   "source": [
    "res= spark.sql(\n",
    "\n",
    "\n",
    "    '''\n",
    "    select * from sales\n",
    "    where container not like '0000'\n",
    "    order by container asc\n",
    "\n",
    "    '''\n",
    ")\n",
    "res.show()"
   ],
   "id": "157b07f2dfb8da49"
  },
  {
   "metadata": {
    "ExecuteTime": {
     "end_time": "2025-07-18T19:24:25.076902Z",
     "start_time": "2025-07-18T19:24:24.860299Z"
    }
   },
   "cell_type": "code",
   "source": [
    "dfp=pd.read_csv('output/puchase_fact/Purchase_fact.csv')\n",
    "\n",
    "# Convert pandas → Spark\n",
    "spark_dfp= spark.createDataFrame(dfp)\n",
    "spark_dfp = spark_dfp.withColumnRenamed(\"job\", \"container\")\n",
    "# Show Spark DataFrame\n",
    "spark_dfp.show(truncate=False)\n",
    "spark_dfp.createOrReplaceTempView(\"purchase\")"
   ],
   "id": "5ec3d1723ba64e58",
   "outputs": [
    {
     "name": "stdout",
     "output_type": "stream",
     "text": [
      "+---------+---------+------------------------------------------+------------+----------------+---------------+-----------+--------+-----------------+-----------+----------+--------+--------------------+------------------+------------+------------------+-------------+--------------+------------+---------+-----------------+---------+----------+----------+-------------+------------+-------+----+\n",
      "|status   |container|supplier                                  |carrier     |port_of_loading |port_of_arrival|container# |quantity|received_quantity|job_expense|job_income|invoiced|unbilled_balance_cad|unpaid_balance_cad|amount      |amt_before_tax_cad|exchange_rate|departure_date|arrival_date|incoterms|customs_clearance|weight_lb|volume_ft³|employee  |shipping_date|job_due_date|date   |paid|\n",
      "+---------+---------+------------------------------------------+------------+----------------+---------------+-----------+--------+-----------------+-----------+----------+--------+--------------------+------------------+------------+------------------+-------------+--------------+------------+---------+-----------------+---------+----------+----------+-------------+------------+-------+----+\n",
      "|Delivered|3400     |Marplantis Organic Sustainable Agriculture|ZIM         |Guayaquil       |Philadelphia   |ZMOU8841679|900.0   |900.0            |26420.85   |31335.44  |Yes     |0.0                 |0.0               |USD 12690.00|17359.92          |0.73         |6/2/24        |6/12/24     |FOB      |US Clearance     |35,992.67|1,906.99  |David Melo|6/18/24      |6/19/24     |5/17/24|NaN |\n",
      "|Delivered|3401     |Marplantis Organic Sustainable Agriculture|ONE         |Guayaquil       |Philadelphia   |IKSU5205593|960.0   |960.0            |26190.48   |31524.23  |Yes     |0.0                 |0.0               |USD 13392.00|18320.26          |0.73         |5/31/24       |6/11/24     |FOB      |US Clearance     |38,392.18|0         |David Melo|6/17/24      |6/17/24     |5/17/24|NaN |\n",
      "|Delivered|3402     |Surgesa S.A.                              |CMA         |Guayaquil       |Philadelphia   |TEMU9576883|900.0   |900.0            |27454.15   |33140.57  |Yes     |0.0                 |0.0               |USD 13095.00|17913.96          |0.73         |5/31/24       |6/11/24     |FOB      |US Clearance     |35,992.67|1,906.99  |David Melo|6/17/24      |6/24/24     |5/17/24|NaN |\n",
      "|Delivered|3403     |Surgesa S.A.                              |CMA         |Guayaquil       |Philadelphia   |TCLU1271319|960.0   |960.0            |28478.0    |33886.14  |Yes     |0.0                 |0.0               |USD 13459.20|18412.19          |0.73         |5/31/24       |6/11/24     |FOB      |US Clearance     |38,392.18|2,034.12  |David Melo|6/17/24      |6/19/24     |5/17/24|NaN |\n",
      "|Delivered|3404     |Coliman Pacific Corporation               |Traffic Tech|Nogales, Arizona|NaN            |NaN        |720.0   |720.0            |27693.85   |27749.51  |Yes     |0.0                 |0.0               |USD 14450.40|19854.85          |0.73         |6/17/24       |6/20/24     |FOB      |NaN              |28,794.14|1,525.59  |David Melo|6/20/24      |6/20/24     |5/24/24|NaN |\n",
      "|Delivered|3405     |C.I. AGRICOLAS LAS FLORES S.A.S.          |Seaboard    |Santa Marta     |Philadelphia   |TLLU1178267|960.0   |960.0            |27349.06   |32158.2   |Yes     |0.0                 |0.0               |USD 13536.00|18598.46          |0.73         |6/6/24        |6/16/24     |FOB      |Canada Inbond    |38,392.18|2,034.12  |David Melo|6/19/24      |6/19/24     |5/24/24|NaN |\n",
      "|Delivered|3406     |ASOGUABO                                  |CMA         |Guayaquil       |Philadelphia   |SZLU9090420|960.0   |960.0            |27388.91   |31432.73  |Yes     |0.0                 |0.0               |USD 13661.00|18715.57          |0.73         |5/31/24       |6/11/24     |FOB      |US Clearance     |38,392.18|2,034.12  |David Melo|6/19/24      |6/19/24     |5/23/24|NaN |\n",
      "|Delivered|3407     |ASOGUABO                                  |CMA         |Guayaquil       |Philadelphia   |TRIU8122097|900.0   |900.0            |27378.56   |33032.07  |Yes     |0.0                 |0.0               |USD 12955.50|17749.04          |0.73         |5/31/24       |6/11/24     |FOB      |US Clearance     |35,992.67|1,906.99  |David Melo|6/19/24      |6/25/24     |5/23/24|NaN |\n",
      "|Delivered|3408     |Coliman Pacific Corporation               |NaN         |Nogales, Arizona|NaN            |NaN        |900.0   |900.0            |25590.42   |30985.29  |Yes     |0.0                 |0.0               |USD 17181.00|23606.69          |0.73         |6/24/24       |6/24/24     |FOB      |NaN              |35,992.67|1,906.99  |David Melo|6/24/24      |6/25/24     |5/24/24|NaN |\n",
      "|Delivered|3409     |PRIECOR S.A.                              |Maersk      |Puerto Bolivar  |Philadelphia   |MNBU0119518|900.0   |900.0            |27207.12   |33092.35  |Yes     |0.0                 |0.0               |USD 12690.00|17385.3           |0.73         |6/1/24        |6/17/24     |FOB      |US Clearance     |35,992.67|1,906.99  |David Melo|6/20/24      |6/29/24     |5/23/24|NaN |\n",
      "|Delivered|3410     |ASOGUABO                                  |Maersk      |Puerto Bolivar  |Philadelphia   |SUDU8170281|900.0   |900.0            |26871.82   |33152.63  |Yes     |0.0                 |0.0               |USD 12686.50|17380.5           |0.73         |6/1/24        |6/17/24     |FOB      |US Clearance     |35,992.67|1,906.99  |David Melo|6/20/24      |7/2/24      |5/23/24|NaN |\n",
      "|Delivered|3411     |COQUIMBA                                  |Maersk      |Puerto Cortes   |Philadelphia   |MNBU4395556|960.0   |960.0            |24884.75   |29332.93  |Yes     |0.0                 |0.0               |USD 9724.80 |13322.98          |0.73         |6/8/24        |6/17/24     |EXW      |Canada Inbond    |38,392.18|2,034.12  |David Melo|6/24/24      |6/24/24     |5/23/24|NaN |\n",
      "|Delivered|3412     |COQUIMBA                                  |Maersk      |Corinto         |Philadelphia   |MMAU1287409|960.0   |960.0            |24269.94   |29279.58  |Yes     |0.0                 |0.0               |USD 10416.00|14269.92          |0.73         |6/8/24        |6/24/24     |FOB      |Canada Inbond    |38,392.18|2,034.12  |David Melo|6/27/24      |6/27/24     |5/23/24|NaN |\n",
      "|Delivered|3413     |C.I. AGRICOLAS LAS FLORES S.A.S.          |Seaboard    |Santa Marta     |Philadelphia   |SEGU9722620|960.0   |960.0            |27476.56   |32169.9   |Yes     |0.0                 |0.0               |USD 13536.00|18544.32          |0.73         |6/6/24        |6/16/24     |FOB      |Canada Inbond    |38,392.18|2,034.12  |David Melo|6/21/24      |6/23/24     |5/23/24|NaN |\n",
      "|Delivered|3414     |Latbio S.A.                               |Maersk      |Puerto Bolivar  |Philadelphia   |MNBU3372746|915.0   |915.0            |25431.04   |25916.57  |Yes     |0.0                 |0.0               |USD 12841.50|17592.86          |0.73         |6/8/24        |6/24/24     |FOB      |US Clearance     |36,518.47|1,938.78  |David Melo|6/28/24      |6/28/24     |5/23/24|NaN |\n",
      "|Delivered|3415     |Marplantis Organic Sustainable Agriculture|Seaboard    |Guayaquil       |Philadelphia   |BMOU9893380|900.0   |900.0            |27046.06   |33104.4   |Yes     |0.0                 |0.0               |USD 12690.00|17436.06          |0.73         |6/7/24        |6/17/24     |FOB      |US Clearance     |35,992.67|1,906.99  |David Melo|6/21/24      |6/26/24     |5/24/24|NaN |\n",
      "|Delivered|3416     |ASOGUABO                                  |Maersk      |Puerto Bolivar  |Philadelphia   |SUDU6111130|960.0   |960.0            |26411.37   |31035.11  |Yes     |0.0                 |0.0               |USD 12276.22|16818.42          |0.73         |6/1/24        |6/17/24     |FOB      |US Clearance     |38,392.18|2,034.12  |David Melo|6/22/24      |6/22/24     |5/23/24|NaN |\n",
      "|Delivered|3417     |Surgesa S.A.                              |ONE         |Guayaquil       |Philadelphia   |AXIU6108576|900.0   |900.0            |27436.7    |33056.18  |Yes     |0.0                 |0.0               |USD 13095.00|17992.53          |0.73         |6/7/24        |6/18/24     |FOB      |US Clearance     |35,992.67|1,906.99  |David Melo|6/22/24      |7/3/24      |5/24/24|NaN |\n",
      "|Delivered|3418     |Hacienda Celia María C.A.                 |Maersk      |Puerto Bolivar  |Philadelphia   |MNBU4082926|900.0   |900.0            |25771.28   |31346.85  |Yes     |0.0                 |0.0               |USD 12807.00|17545.59          |0.73         |6/1/24        |6/17/24     |FOB      |US Clearance     |0        |1,908.00  |David Melo|6/22/24      |6/24/24     |5/23/24|NaN |\n",
      "|Delivered|3419     |Hacienda Celia María C.A.                 |Maersk      |Puerto Bolivar  |Philadelphia   |SUDU6152571|900.0   |900.0            |27521.67   |6390.0    |Yes     |0.0                 |0.0               |USD 12807.00|17545.59          |0.73         |6/1/24        |6/17/24     |FOB      |US Clearance     |0        |1,908.00  |David Melo|6/22/24      |6/28/24     |5/23/24|NaN |\n",
      "+---------+---------+------------------------------------------+------------+----------------+---------------+-----------+--------+-----------------+-----------+----------+--------+--------------------+------------------+------------+------------------+-------------+--------------+------------+---------+-----------------+---------+----------+----------+-------------+------------+-------+----+\n",
      "only showing top 20 rows\n",
      "\n"
     ]
    }
   ],
   "execution_count": 59
  },
  {
   "metadata": {
    "ExecuteTime": {
     "end_time": "2025-07-18T19:24:27.981888Z",
     "start_time": "2025-07-18T19:24:27.790046Z"
    }
   },
   "cell_type": "code",
   "source": [
    "result_p = spark.sql(\n",
    "    '''\n",
    "    SELECT * from\n",
    "   purchase\n",
    "   order by container asc\n",
    "\n",
    "    '''\n",
    ")\n",
    "\n",
    "result_p.show()\n"
   ],
   "id": "2ff54bbf5bb2dc48",
   "outputs": [
    {
     "name": "stdout",
     "output_type": "stream",
     "text": [
      "+---------+---------+--------------------+------------+----------------+---------------+-----------+--------+-----------------+-----------+----------+--------+--------------------+------------------+------------+------------------+-------------+--------------+------------+---------+-----------------+---------+----------+----------+-------------+------------+-------+----+\n",
      "|   status|container|            supplier|     carrier| port_of_loading|port_of_arrival| container#|quantity|received_quantity|job_expense|job_income|invoiced|unbilled_balance_cad|unpaid_balance_cad|      amount|amt_before_tax_cad|exchange_rate|departure_date|arrival_date|incoterms|customs_clearance|weight_lb|volume_ft³|  employee|shipping_date|job_due_date|   date|paid|\n",
      "+---------+---------+--------------------+------------+----------------+---------------+-----------+--------+-----------------+-----------+----------+--------+--------------------+------------------+------------+------------------+-------------+--------------+------------+---------+-----------------+---------+----------+----------+-------------+------------+-------+----+\n",
      "|Delivered|     3400|Marplantis Organi...|         ZIM|       Guayaquil|   Philadelphia|ZMOU8841679|   900.0|            900.0|   26420.85|  31335.44|     Yes|                 0.0|               0.0|USD 12690.00|          17359.92|         0.73|        6/2/24|     6/12/24|      FOB|     US Clearance|35,992.67|  1,906.99|David Melo|      6/18/24|     6/19/24|5/17/24| NaN|\n",
      "|Delivered|     3401|Marplantis Organi...|         ONE|       Guayaquil|   Philadelphia|IKSU5205593|   960.0|            960.0|   26190.48|  31524.23|     Yes|                 0.0|               0.0|USD 13392.00|          18320.26|         0.73|       5/31/24|     6/11/24|      FOB|     US Clearance|38,392.18|         0|David Melo|      6/17/24|     6/17/24|5/17/24| NaN|\n",
      "|Delivered|     3402|        Surgesa S.A.|         CMA|       Guayaquil|   Philadelphia|TEMU9576883|   900.0|            900.0|   27454.15|  33140.57|     Yes|                 0.0|               0.0|USD 13095.00|          17913.96|         0.73|       5/31/24|     6/11/24|      FOB|     US Clearance|35,992.67|  1,906.99|David Melo|      6/17/24|     6/24/24|5/17/24| NaN|\n",
      "|Delivered|     3403|        Surgesa S.A.|         CMA|       Guayaquil|   Philadelphia|TCLU1271319|   960.0|            960.0|    28478.0|  33886.14|     Yes|                 0.0|               0.0|USD 13459.20|          18412.19|         0.73|       5/31/24|     6/11/24|      FOB|     US Clearance|38,392.18|  2,034.12|David Melo|      6/17/24|     6/19/24|5/17/24| NaN|\n",
      "|Delivered|     3404|Coliman Pacific C...|Traffic Tech|Nogales, Arizona|            NaN|        NaN|   720.0|            720.0|   27693.85|  27749.51|     Yes|                 0.0|               0.0|USD 14450.40|          19854.85|         0.73|       6/17/24|     6/20/24|      FOB|              NaN|28,794.14|  1,525.59|David Melo|      6/20/24|     6/20/24|5/24/24| NaN|\n",
      "|Delivered|     3405|C.I. AGRICOLAS LA...|    Seaboard|     Santa Marta|   Philadelphia|TLLU1178267|   960.0|            960.0|   27349.06|   32158.2|     Yes|                 0.0|               0.0|USD 13536.00|          18598.46|         0.73|        6/6/24|     6/16/24|      FOB|    Canada Inbond|38,392.18|  2,034.12|David Melo|      6/19/24|     6/19/24|5/24/24| NaN|\n",
      "|Delivered|     3406|            ASOGUABO|         CMA|       Guayaquil|   Philadelphia|SZLU9090420|   960.0|            960.0|   27388.91|  31432.73|     Yes|                 0.0|               0.0|USD 13661.00|          18715.57|         0.73|       5/31/24|     6/11/24|      FOB|     US Clearance|38,392.18|  2,034.12|David Melo|      6/19/24|     6/19/24|5/23/24| NaN|\n",
      "|Delivered|     3407|            ASOGUABO|         CMA|       Guayaquil|   Philadelphia|TRIU8122097|   900.0|            900.0|   27378.56|  33032.07|     Yes|                 0.0|               0.0|USD 12955.50|          17749.04|         0.73|       5/31/24|     6/11/24|      FOB|     US Clearance|35,992.67|  1,906.99|David Melo|      6/19/24|     6/25/24|5/23/24| NaN|\n",
      "|Delivered|     3408|Coliman Pacific C...|         NaN|Nogales, Arizona|            NaN|        NaN|   900.0|            900.0|   25590.42|  30985.29|     Yes|                 0.0|               0.0|USD 17181.00|          23606.69|         0.73|       6/24/24|     6/24/24|      FOB|              NaN|35,992.67|  1,906.99|David Melo|      6/24/24|     6/25/24|5/24/24| NaN|\n",
      "|Delivered|     3409|        PRIECOR S.A.|      Maersk|  Puerto Bolivar|   Philadelphia|MNBU0119518|   900.0|            900.0|   27207.12|  33092.35|     Yes|                 0.0|               0.0|USD 12690.00|           17385.3|         0.73|        6/1/24|     6/17/24|      FOB|     US Clearance|35,992.67|  1,906.99|David Melo|      6/20/24|     6/29/24|5/23/24| NaN|\n",
      "|Delivered|     3410|            ASOGUABO|      Maersk|  Puerto Bolivar|   Philadelphia|SUDU8170281|   900.0|            900.0|   26871.82|  33152.63|     Yes|                 0.0|               0.0|USD 12686.50|           17380.5|         0.73|        6/1/24|     6/17/24|      FOB|     US Clearance|35,992.67|  1,906.99|David Melo|      6/20/24|      7/2/24|5/23/24| NaN|\n",
      "|Delivered|     3411|            COQUIMBA|      Maersk|   Puerto Cortes|   Philadelphia|MNBU4395556|   960.0|            960.0|   24884.75|  29332.93|     Yes|                 0.0|               0.0| USD 9724.80|          13322.98|         0.73|        6/8/24|     6/17/24|      EXW|    Canada Inbond|38,392.18|  2,034.12|David Melo|      6/24/24|     6/24/24|5/23/24| NaN|\n",
      "|Delivered|     3412|            COQUIMBA|      Maersk|         Corinto|   Philadelphia|MMAU1287409|   960.0|            960.0|   24269.94|  29279.58|     Yes|                 0.0|               0.0|USD 10416.00|          14269.92|         0.73|        6/8/24|     6/24/24|      FOB|    Canada Inbond|38,392.18|  2,034.12|David Melo|      6/27/24|     6/27/24|5/23/24| NaN|\n",
      "|Delivered|     3413|C.I. AGRICOLAS LA...|    Seaboard|     Santa Marta|   Philadelphia|SEGU9722620|   960.0|            960.0|   27476.56|   32169.9|     Yes|                 0.0|               0.0|USD 13536.00|          18544.32|         0.73|        6/6/24|     6/16/24|      FOB|    Canada Inbond|38,392.18|  2,034.12|David Melo|      6/21/24|     6/23/24|5/23/24| NaN|\n",
      "|Delivered|     3414|         Latbio S.A.|      Maersk|  Puerto Bolivar|   Philadelphia|MNBU3372746|   915.0|            915.0|   25431.04|  25916.57|     Yes|                 0.0|               0.0|USD 12841.50|          17592.86|         0.73|        6/8/24|     6/24/24|      FOB|     US Clearance|36,518.47|  1,938.78|David Melo|      6/28/24|     6/28/24|5/23/24| NaN|\n",
      "|Delivered|     3415|Marplantis Organi...|    Seaboard|       Guayaquil|   Philadelphia|BMOU9893380|   900.0|            900.0|   27046.06|   33104.4|     Yes|                 0.0|               0.0|USD 12690.00|          17436.06|         0.73|        6/7/24|     6/17/24|      FOB|     US Clearance|35,992.67|  1,906.99|David Melo|      6/21/24|     6/26/24|5/24/24| NaN|\n",
      "|Delivered|     3416|            ASOGUABO|      Maersk|  Puerto Bolivar|   Philadelphia|SUDU6111130|   960.0|            960.0|   26411.37|  31035.11|     Yes|                 0.0|               0.0|USD 12276.22|          16818.42|         0.73|        6/1/24|     6/17/24|      FOB|     US Clearance|38,392.18|  2,034.12|David Melo|      6/22/24|     6/22/24|5/23/24| NaN|\n",
      "|Delivered|     3417|        Surgesa S.A.|         ONE|       Guayaquil|   Philadelphia|AXIU6108576|   900.0|            900.0|    27436.7|  33056.18|     Yes|                 0.0|               0.0|USD 13095.00|          17992.53|         0.73|        6/7/24|     6/18/24|      FOB|     US Clearance|35,992.67|  1,906.99|David Melo|      6/22/24|      7/3/24|5/24/24| NaN|\n",
      "|Delivered|     3418|Hacienda Celia Ma...|      Maersk|  Puerto Bolivar|   Philadelphia|MNBU4082926|   900.0|            900.0|   25771.28|  31346.85|     Yes|                 0.0|               0.0|USD 12807.00|          17545.59|         0.73|        6/1/24|     6/17/24|      FOB|     US Clearance|        0|  1,908.00|David Melo|      6/22/24|     6/24/24|5/23/24| NaN|\n",
      "|Delivered|     3419|Hacienda Celia Ma...|      Maersk|  Puerto Bolivar|   Philadelphia|SUDU6152571|   900.0|            900.0|   27521.67|    6390.0|     Yes|                 0.0|               0.0|USD 12807.00|          17545.59|         0.73|        6/1/24|     6/17/24|      FOB|     US Clearance|        0|  1,908.00|David Melo|      6/22/24|     6/28/24|5/23/24| NaN|\n",
      "+---------+---------+--------------------+------------+----------------+---------------+-----------+--------+-----------------+-----------+----------+--------+--------------------+------------------+------------+------------------+-------------+--------------+------------+---------+-----------------+---------+----------+----------+-------------+------------+-------+----+\n",
      "only showing top 20 rows\n",
      "\n"
     ]
    }
   ],
   "execution_count": 60
  },
  {
   "metadata": {
    "ExecuteTime": {
     "end_time": "2025-07-18T19:45:11.674154Z",
     "start_time": "2025-07-18T19:45:10.867370Z"
    }
   },
   "cell_type": "code",
   "source": [
    "df_p = res.toPandas()\n",
    "df_c = result.toPandas()"
   ],
   "id": "9c21f6bc07bbd411",
   "outputs": [],
   "execution_count": 72
  },
  {
   "metadata": {
    "ExecuteTime": {
     "end_time": "2025-07-18T19:45:13.037359Z",
     "start_time": "2025-07-18T19:45:13.032714Z"
    }
   },
   "cell_type": "code",
   "source": [
    "common_jobs = set(df_p['container']) & set(df_c['container'])\n",
    "print(\"Jobs in both:\", common_jobs)\n"
   ],
   "id": "5e2a5ad0ff339f95",
   "outputs": [
    {
     "name": "stdout",
     "output_type": "stream",
     "text": [
      "Jobs in both: set()\n"
     ]
    }
   ],
   "execution_count": 73
  },
  {
   "metadata": {
    "ExecuteTime": {
     "end_time": "2025-07-18T19:45:15.713196Z",
     "start_time": "2025-07-18T19:45:15.705457Z"
    }
   },
   "cell_type": "code",
   "source": [
    "jobs_p = set(df_p['container'])\n",
    "jobs_c = set(df_c['container'])\n",
    "\n",
    "print(\"Only in df_p:\", jobs_p - jobs_c)\n",
    "print(\"Only in df_c:\", jobs_c - jobs_p)\n",
    "print(\"In both:\", jobs_p & jobs_c)\n",
    "\n",
    "\n"
   ],
   "id": "bde6fba035f8b52d",
   "outputs": [
    {
     "name": "stdout",
     "output_type": "stream",
     "text": [
      "Only in df_p: {'4090', '3047', '3125', '3724', '3407', '3877', '4104', '3281', '4082', '3024', '4126', '2176', '2904', '3053', '2531', '2185', '4069', '4025', '3245', '4199', '4448', '3154', '1944', '2112', '2619', '1889', '3521', '4411', '3073', '2920', '3171', '3860', '3510', '4036', '4137', '2832', '3518', '4324', '3885', '3353', '4399', '3303', '2276', '2312', '2289', '3181', '2490', '1933', '4289', '2427', '2208', '3734', '2366', '4142', '2915', '3526', '2170', '2567', '3865', '2637', '2026', '2823', '4077', '3128', '3715', '3280', '2905', '3170', '4493', '2029', '4336', '4389', '3547', '2592', '2608', '4086', '3496', '4269', '2249', '3710', '2812', '3239', '3763', '2839', '3399', '3179', '2520', '3499', '3520', '3610', '2218', '4039', '3836', '3415', '2426', '3921', '1954', '2874', '3206', '3018', '4479', '3731', '2019', '3803', '3030', '3166', '4376', '2232', '4382', '2072', '3640', '2982', '2068', '3691', '3822', '2761', '3775', '4176', '3401', '3718', '2433', '3967', '3334', '2658', '2959', '4445', '2141', '3481', '3720', '2696', '3249', '4026', '3408', '4267', '2843', '2118', '3083', '2336', '3919', '1884', '3318', '1947', '2543', '2769', '2518', '2773', '4274', '2589', '3109', '3461', '2015', '3049', '4374', '3943', '3001', '4192', '1877', '2840', '1887', '2188', '4358', '3530', '3988', '3970', '2075', '2848', '4079', '3360', '3643', '4014', '3319', '2456', '4022', '4446', '4526', '2287', '3786', '2092', '2131', '2782', '3508', '2540', '3056', '2588', '2113', '2290', '4094', '2479', '3661', '2966', '3858', '4001', '2967', '3476', '3209', '2639', '2947', '2020', '4392', '2847', '4118', '3573', '3443', '3279', '3406', '3448', '3174', '3506', '4164', '2702', '4347', '4272', '3189', '4483', '4127', '3316', '2162', '3385', '3909', '4242', '3575', '2074', '3991', '2389', '3533', '4308', '2909', '3751', '1901', '3067', '3583', '3551', '2337', '2100', '2772', '3080', '3732', '3761', '3671', '1986', '3331', '1894', '2421', '3205', '3765', '3864', '3918', '4006', '4497', '2820', '3366', '4539', '3842', '3806', '4162', '3788', '4239', '3577', '2552', '2563', '3900', '1879', '3516', '2867', '3428', '2314', '2173', '3346', '3522', '4043', '3487', '4340', '2788', '2521', '3045', '2235', '2011', '3949', '4496', '2045', '2268', '4332', '3203', '3512', '3041', '2558', '3267', '3953', '4178', '2766', '4422', '3347', '3190', '3574', '3054', '4277', '3698', '3016', '3960', '4218', '1907', '2470', '4588', '3811', '4135', '3714', '3562', '3096', '3579', '2354', '3133', '3771', '1978', '4283', '2734', '3965', '2079', '3090', '2224', '3572', '1968', '2048', '3390', '3275', '2753', '3749', '3854', '4159', '4109', '2010', '1983', '4144', '2691', '4341', '4502', '2009', '2881', '2719', '2061', '3412', '3488', '2468', '2628', '2135', '4342', '2035', '2868', '2669', '3420', '2119', '2692', '3833', '4251', '2504', '4467', '4156', '2604', '3302', '4396', '2576', '3702', '2716', '3222', '1888', '3956', '3809', '3659', '2466', '3992', '2578', '3178', '2058', '3064', '3436', '3081', '3126', '2331', '4120', '4243', '3713', '4541', '3335', '4181', '1945', '2780', '3966', '2940', '3393', '3595', '4492', '3832', '1982', '3379', '4220', '3000', '3356', '3593', '1943', '2001', '2359', '2094', '1955', '4312', '4222', '3226', '4527', '4284', '2122', '4153', '2261', '2033', '4533', '3028', '3930', '3145', '4444', '1949', '2204', '3060', '3636', '2602', '4461', '3856', '1952', '2956', '2811', '1946', '3087', '2156', '4061', '2260', '2885', '4286', '2050', '3980', '4530', '1972', '3243', '3890', '2799', '3260', '2299', '2970', '4270', '3161', '4423', '4028', '2294', '4391', '4237', '4360', '4441', '2012', '3350', '2303', '3270', '3511', '3653', '3934', '3721', '3089', '2003', '3313', '2036', '2365', '3701', '3983', '2649', '3361', '2944', '2987', '3743', '2380', '2951', '2983', '4029', '2703', '3435', '2417', '2601', '2541', '2653', '2319', '2910', '2887', '2458', '4563', '2451', '2088', '3248', '2790', '1924', '2487', '4470', '4500', '4372', '2980', '2305', '2871', '2425', '2216', '3065', '3898', '3685', '3322', '3131', '2472', '3945', '3981', '3941', '2403', '2976', '1928', '3004', '4348', '4018', '3690', '2566', '4395', '3925', '3223', '2182', '3707', '2320', '2618', '2896', '4177', '2384', '2037', '3404', '4231', '3739', '2542', '2767', '2107', '2624', '2478', '2031', '2894', '3186', '2259', '2828', '2939', '2445', '3750', '3276', '2574', '3894', '4355', '2779', '4318', '3823', '4442', '2057', '3594', '3602', '2005', '2245', '3681', '4113', '4356', '2140', '3301', '4046', '4053', '2507', '3453', '3660', '3915', '2629', '4459', '2448', '2714', '2568', '2569', '2599', '2255', '3225', '3071', '2646', '4349', '3598', '3519', '4478', '3784', '3238', '3474', '2605', '3235', '4183', '2237', '2443', '2810', '2785', '4425', '2502', '3764', '2711', '3432', '2191', '4221', '2841', '4223', '3667', '3815', '2633', '4421', '2747', '3536', '2329', '3678', '2328', '1935', '3418', '2535', '3312', '2073', '3777', '2741', '2437', '2655', '3398', '3497', '1948', '3021', '2069', '4015', '4266', '2149', '3472', '4387', '3878', '1893', '2076', '2505', '3340', '2242', '4480', '4020', '2694', '4413', '2171', '2110', '3889', '2230', '2755', '3327', '2137', '3931', '3153', '3976', '2720', '3998', '2327', '2752', '2613', '3292', '3881', '2805', '2484', '3454', '4501', '3095', '2169', '4096', '4418', '3993', '4072', '3859', '2296', '2034', '2892', '2955', '2154', '3631', '3426', '1897', '2494', '4297', '4225', '3592', '3384', '2965', '4443', '2635', '2684', '3140', '2686', '3982', '4268', '4227', '2229', '2652', '3015', '3626', '3882', '3370', '3535', '4282', '3437', '4038', '4081', '4373', '3149', '2023', '2651', '2919', '4328', '4157', '2096', '2251', '3202', '4333', '3187', '2438', '3884', '3282', '4148', '2064', '4279', '2555', '2105', '3616', '4428', '3586', '3044', '2226', '2221', '3773', '3317', '4041', '3007', '2202', '1962', '2138', '2710', '3424', '4494', '3638', '3142', '2659', '2101', '3723', '4141', '2948', '3597', '2326', '3051', '2152', '2375', '3622', '2877', '2975', '2267', '3984', '3874', '2593', '3076', '3971', '3039', '4017', '4381', '2744', '2798', '2891', '2114', '2343', '2849', '4419', '2663', '4027', '4208', '4262', '3990', '3795', '3673', '3193', '3005', '3605', '3887', '2648', '2386', '2127', '3813', '3273', '3816', '4572', '2930', '4235', '2570', '2025', '3082', '4233', '2253', '3285', '2729', '3817', '3173', '3343', '2977', '4206', '4048', '2969', '4161', '4486', '2818', '3704', '4406', '4288', '3666', '4103', '3232', '2457', '2537', '2748', '3504', '3449', '4095', '4244', '2265', '3849', '2481', '3172', '4562', '2363', '2735', '2598', '3662', '2300', '2683', '3986', '1885', '3800', '3358', '3570', '4071', '2495', '2740', '2151', '2083', '3425', '1899', '2108', '4184', '4354', '3357', '2085', '1961', '2214', '3814', '2950', '2187', '3052', '2291', '4249', '2929', '3736', '3847', '3528', '1977', '4302', '4253', '2062', '4346', '3405', '1930', '2027', '2743', '3010', '3886', '2625', '4417', '1988', '4309', '2621', '4458', '3548', '4211', '3973', '3651', '2523', '1910', '1967', '3470', '2172', '3845', '3964', '2295', '2974', '4247', '4564', '2900', '4023', '3265', '3959', '2000', '3612', '2013', '3062', '4313', '3002', '3787', '1990', '3916', '3211', '3837', '3229', '2333', '2664', '3540', '2373', '2594', '2053', '3774', '2126', '2675', '3875', '2125', '2551', '2802', '2954', '4055', '3850', '2413', '4471', '3032', '2436', '4293', '2392', '2830', '3670', '1890', '4464', '2992', '3135', '4427', '4166', '2764', '3625', '4469', '2524', '2687', '2989', '2419', '3200', '3546', '3963', '3061', '3699', '4271', '3363', '3402', '3805', '4352', '3183', '2200', '1916', '4195', '2873', '2385', '3129', '4214', '2194', '2415', '3115', '3397', '3780', '2796', '2219', '2622', '3195', '3785', '1921', '3188', '2573', '3289', '2042', '3846', '2631', '2121', '3227', '2530', '2440', '3250', '4454', '2836', '3266', '2243', '4037', '3101', '3735', '3608', '2813', '1881', '2884', '1942', '1965', '4080', '2193', '3020', '2256', '4105', '3589', '4234', '3234', '3198', '3162', '4298', '4236', '2043', '4189', '2946', '2614', '4401', '3566', '2491', '3097', '3337', '2028', '3295', '3830', '2325', '2972', '4021', '2862', '2807', '3656', '1919', '2480', '2038', '1989', '2155', '2206', '2850', '4565', '3601', '3160', '1951', '2301', '3132', '3603', '2878', '3996', '4380', '3537', '3532', '2429', '2797', '3159', '3382', '2547', '4485', '3305', '4433', '2298', '3624', '3210', '2355', '3686', '2645', '3219', '4129', '2084', '4334', '4107', '4322', '2855', '4196', '1891', '3376', '3648', '4093', '1976', '2993', '4117', '3654', '3808', '2008', '2051', '2311', '2181', '4290', '4504', '4506', '2725', '2056', '2297', '4108', '1940', '4031', '4281', '3107', '4361', '3191', '2949', '3609', '2783', '3444', '3525', '3742', '3840', '4517', '3635', '4091', '2865', '1993', '2759', '2362', '3123', '2463', '3974', '4140', '3351', '2310', '2863', '2789', '3290', '2163', '2815', '4532', '4481', '3587', '2853', '3866', '2998', '1985', '3954', '4058', '2872', '3482', '2532', '2283', '4466', '2332', '4044', '2705', '2352', '2205', '1958', '3951', '3023', '2264', '3471', '2860', '4191', '2250', '2044', '4292', '3738', '4453', '2718', '3310', '3794', '3246', '2248', '2906', '3828', '2006', '2583', '2745', '3387', '3498', '4067', '3410', '3515', '3137', '4154', '2701', '4509', '4363', '2634', '2662', '4531', '2656', '4146', '4062', '2307', '2052', '4073', '3300', '3563', '2196', '3217', '4151', '4068', '4310', '1931', '2677', '3075', '3272', '2590', '2040', '3729', '2529', '2903', '4054', '3623', '2928', '2562', '2021', '2102', '3987', '4010', '2556', '3058', '4482', '4063', '4175', '2699', '3737', '3799', '2615', '3901', '4193', '3136', '3804', '4390', '4115', '2527', '4307', '2499', '2717', '4149', '2234', '3657', '3552', '4472', '2899', '2827', '2270', '2430', '3950', '3917', '2536', '4383', '3801', '3695', '3110', '4005', '3628', '2462', '2316', '2706', '3254', '3851', '4092', '2390', '3104', '3362', '2486', '2322', '1911', '2991', '1998', '2401', '2077', '4432', '3789', '4100', '4487', '3099', '3783', '4131', '2024', '3182', '3555', '4114', '4110', '3493', '2157', '3371', '1896', '3935', '2876', '2338', '3489', '3650', '2650', '2166', '2288', '2346', '3584', '1997', '3113', '3709', '3606', '3863', '3199', '3208', '3968', '3977', '3937', '4452', '4465', '3349', '2581', '1883', '4575', '1874', '4415', '1980', '2441', '1963', '2522', '3029', '4449', '4335', '2217', '2428', '4314', '2953', '3868', '1915', '3483', '1869', '4536', '2762', '2501', '2895', '2372', '3792', '3926', '4457', '4182', '3897', '4019', '2626', '3006', '3561', '2278', '4405', '2978', '4540', '3776', '2511', '2334', '3375', '2728', '2309', '4024', '4344', '4259', '3220', '4116', '2786', '4377', '4257', '3084', '3341', '2158', '3939', '4016', '3826', '2824', '3556', '3888', '2321', '3333', '3452', '3242', '2183', '3167', '3168', '3747', '3549', '1902', '2968', '4484', '4049', '2672', '3037', '4203', '2838', '2095', '2997', '4430', '1971', '2408', '3539', '2565', '4224', '2388', '3697', '3477', '2360', '2489', '2858', '3033', '4123', '3332', '4397', '2461', '1895', '4311', '4510', '3726', '2382', '2209', '3456', '2856', '3491', '4133', '4173', '4197', '2394', '3756', '4512', '4128', '2014', '2979', '1880', '2775', '3085', '3896', '3604', '2184', '2898', '2442', '2418', '3038', '2180', '1892', '4323', '4398', '2066', '3599', '3716', '3893', '3862', '4462', '4240', '2674', '3582', '2342', '2071', '2512', '2402', '2474', '4410', '3545', '4513', '3989', '2642', '2897', '2082', '3156', '3810', '3663', '4088', '2263', '4064', '4219', '1886', '3175', '3003', '2197', '1903', '4450', '3034', '2274', '4155', '2483', '4122', '3094', '3259', '3365', '3374', '2923', '4385', '1863', '2145', '3580', '3395', '1941', '2374', '2917', '4101', '3596', '4416', '2030', '2147', '2357', '3825', '1979', '4169', '2857', '3812', '1987', '4099', '3278', '4252', '3359', '2829', '3046', '3829', '3233', '2070', '4315', '2708', '2879', '2277', '3675', '2190', '2432', '4121', '2606', '4098', '3647', '3247', '3326', '2809', '3969', '4230', '2431', '2927', '2800', '3708', '1913', '3687', '2117', '2688', '3445', '2377', '4303', '4317', '2393', '4306', '4273', '4460', '2742', '2225', '3514', '2452', '3214', '4125', '3120', '2700', '3703', '3767', '3855', '2831', '2032', '3473', '4042', '4167', '4489', '4503', '4084', '2272', '3645', '2861', '3652', '4434', '3883', '1927', '2822', '2852', '3501', '4364', '1936', '2302', '2186', '4229', '4138', '4168', '2826', '3268', '3621', '4119', '2241', '2091', '4431', '2498', '3873', '3264', '3879', '3433', '2886', '1875', '2937', '3146', '4345', '3215', '3201', '2477', '2146', '3103', '2078', '3730', '2958', '3554', '3014', '4319', '4060', '3036', '4112', '2492', '4150', '4255', '4505', '3077', '2559', '3212', '2660', '2924', '3807', '2178', '2727', '3297', '2757', '4299', '2244', '3380', '2412', '2533', '1929', '3141', '2571', '2142', '2816', '2647', '2306', '3929', '3040', '3923', '1957', '4369', '2177', '2806', '3568', '1909', '2367', '3782', '3413', '2123', '2981', '4521', '2465', '4330', '3541', '4560', '3559', '4378', '2945', '2503', '2609', '3386', '2257', '4003', '2795', '2667', '3692', '3553', '2115', '3017', '2724', '3026', '1994', '2539', '3092', '4158', '2837', '3962', '3008', '1937', '2750', '4343', '2396', '3409', '4477', '2844', '2582', '3277', '3644', '4542', '3940', '3819', '4474', '3460', '2731', '3590', '4217', '2889', '4165', '1854', '3027', '3329', '3484', '3853', '3495', '2670', '3798', '2459', '1975', '2143', '3389', '1906', '3705', '2707', '1926', '4301', '2364', '2985', '2888', '4145', '3480', '2422', '3831', '3672', '2165', '3157', '3197', '3284', '2411', '2407', '2017', '3440', '3403', '2199', '1912', '3527', '3978', '3124', '3834', '2129', '3463', '3725', '4280', '2971', '2986', '3712', '3529', '3467', '2749', '2397', '1932', '2339', '4455', '4300', '3204', '1973', '3994', '2517', '3693', '2597', '2870', '3423', '2416', '2890', '2908', '2449', '4276', '4353', '2215', '2792', '2475', '3291', '2081', '4065', '4265', '4215', '3523', '3138', '4331', '3895', '3627', '2607', '4250', '4278', '4511', '3466', '2508', '1939', '2275', '4232', '3314', '2611', '3957', '3442', '3306', '2914', '2938', '2341', '4528', '2595', '2174', '2350', '2055', '4370', '4200', '3600', '4456', '4468', '2423', '2776', '2514', '2781', '4498', '4393', '2721', '3143', '2444', '1934', '3419', '2203', '2842', '4414', '2640', '2453', '4216', '1953', '3486', '3309', '3369', '3688', '4327', '1900', '2496', '3057', '2446', '3457', '2560', '2673', '2911', '3176', '1925', '2381', '2777', '2941', '2738', '3665', '4209', '4495', '2383', '2538', '2682', '3694', '2851', '3544', '2434', '2636', '2022', '4514', '4258', '3093', '2409', '3910', '3947', '4180', '2376', '2616', '3768', '3999', '4207', '2778', '3938', '4007', '2292', '2617', '3684', '3116', '1996', '2723', '4351', '3569', '3251', '3323', '3979', '3451', '4083', '2791', '4132', '4463', '2758', '3632', '4316', '4296', '3542', '3427', '3680', '3867', '3869', '3490', '3841', '4490', '2231', '2405', '3468', '3793', '3262', '4163', '2817', '2596', '3207', '2469', '2379', '2657', '2519', '2134', '2356', '2317', '2361', '2550', '4285', '3066', '2690', '2733', '4147', '4013', '3613', '3770', '2124', '2819', '3779', '1984', '2679', '2282', '3342', '2515', '2835', '3762', '4488', '2644', '2097', '3244', '2882', '3880', '4260', '4130', '3611', '4201', '2925', '2934', '2866', '4004', '3997', '3905', '2603', '3180', '3818', '3557', '2189', '3669', '2080', '4009', '2964', '2308', '4204', '2591', '3961', '3345', '2104', '4170', '3852', '2335', '4057', '1950', '3870', '4008', '2120', '2207', '4407', '2600', '2454', '3308', '3417', '4241', '2693', '2281', '2488', '2471', '3745', '2557', '2794', '4056', '2150', '3936', '3013', '2139', '2254', '4012', '2996', '4499', '3079', '4194', '3696', '2754', '4205', '2473', '2399', '4263', '4371', '2054', '2525', '3048', '1920', '3304', '3458', '3055', '3194', '2665', '3241', '4394', '3224', '2065', '2553', '2793', '4213', '3086', '3591', '2039', '2086', '2730', '3184', '3861', '3263', '2087', '2943', '3105', '2765', '2902', '2681', '2323', '3658', '3719', '4106', '4388', '2544', '4136', '3307', '3872', '3231', '3564', '2926', '2697', '4076', '3258', '2661', '3252', '3494', '2510', '3354', '2161', '3620', '1966', '3664', '2349', '3646', '4408', '4226', '2534', '2732', '2344', '3478', '3414', '4379', '3106', '3748', '3821', '3711', '2179', '2630', '3336', '4295', '2999', '2845', '3459', '4047', '3348', '2506', '4089', '4326', '2676', '3682', '3790', '3177', '2106', '3479', '3902', '2545', '2041', '2103', '2931', '4426', '2715', '3908', '2803', '2368', '2736', '2098', '4420', '2227', '4032', '1905', '2395', '3011', '3744', '1938', '2340', '3255', '4190', '4545', '4171', '3759', '2387', '2961', '2990', '3391', '2995', '2671', '2262', '3513', '4329', '4287', '3035', '2236', '2247', '2739', '2585', '3892', '3683', '3911', '3283', '3196', '2575', '2579', '3139', '2932', '2400', '2439', '3857', '1981', '3144', '4102', '4187', '3700', '3377', '3760', '2875', '2002', '2654', '3063', '2516', '3727', '3464', '2685', '3296', '2212', '3127', '2132', '2358', '3150', '1904', '3639', '2698', '4070', '2330', '3827', '3655', '2279', '3221', '3903', '4476', '3122', '3781', '2252', '2760', '2695', '3722', '4409', '2353', '3111', '1959', '2933', '2467', '3059', '4321', '3169', '2680', '2864', '4400', '2482', '2713', '3913', '2988', '3019', '4074', '2916', '2513', '3958', '4186', '2821', '2554', '4550', '2880', '4087', '3421', '4402', '2324', '3394', '2561', '2509', '3465', '3098', '2643', '4305', '3674', '3717', '3320', '2286', '1960', '3108', '3634', '1878', '3629', '4075', '4337', '2233', '4491', '3503', '2620', '4185', '2610', '3100', '3121', '4275', '2148', '3824', '2746', '3325', '3733', '3679', '3906', '1882', '2133', '3820', '2907', '3286', '2638', '2090', '2546', '2726', '3185', '2586', '2942', '4050', '2391', '2962', '6000', '4475', '2099', '4040', '3642', '4052', '3373', '3838', '3396', '3165', '3441', '3438', '3955', '2952', '4228', '3069', '3752', '2859', '4033', '3728', '3367', '2921', '2737', '2564', '3839', '3543', '3112', '3328', '3578', '3778', '4473', '3338', '3378', '4256', '2168', '3025', '4320', '2111', '2577', '3257', '3429', '3400', '3509', '4030', '4085', '2273', '3617', '2369', '4059', '3502', '2528', '3091', '3952', '2109', '2712', '2526', '2549', '2994', '2632', '2211', '2627', '2846', '2751', '3288', '2584', '3565', '4111', '3797', '4429', '1918', '3571', '2007', '2771', '3615', '3261', '3434', '2192', '2238', '3531', '4294', '3344', '3972', '1864', '2763', '2089', '3802', '2678', '3392', '3352', '2410', '3383', '3922', '4357', '2704', '2450', '3416', '3633', '3637', '4198', '2167', '2159', '2580', '2774', '3068', '3271', '3422', '2666', '2587', '3932', '2957', '2063', '3158', '2378', '3072', '3117', '3891', '2893', '3907', '3381', '4403', '2210', '2046', '3130', '3576', '3538', '4254', '3293', '1969', '2164', '2918', '4248', '3581', '2195', '3368', '3042', '3927', '4350', '2201', '3741', '4264', '4238', '4078', '2128', '2136', '3213', '4210', '2623', '3043', '2455', '3298', '3164', '3431', '2246', '3294', '3524', '3253', '2351', '3614', '4160', '4002', '2130', '3311', '3321', '2420', '3088', '2497', '3155', '1970', '2049', '2770', '4412', '2293', '3012', '3534', '2572', '4134', '3985', '4245', '3230', '2047', '4424', '3769', '3796', '3585', '3299', '3507', '2460', '2116', '3848', '3928', '3430', '2668', '4359', '3240', '2833', '2476', '3975', '2869', '2285', '2641', '3630', '2223', '3148', '3439', '2935', '3485', '3876', '3078', '2548', '2318', '4338', '3022', '3948', '2315', '1859', '3904', '3151', '3607', '3492', '3641', '1964', '1956', '3411', '3118', '4384', '2854', '2153', '1974', '2960', '3163', '1923', '2447', '4035', '2500', '3031', '3933', '2883', '3070', '2018', '3835', '4212', '3517', '4000', '2398', '2801', '2347', '2313', '3324', '2901', '2144', '2060', '4174', '2424', '4139', '2059', '3469', '3447', '4051', '2269', '3119', '2612', '2280', '2709', '3462', '4097', '3475', '4362', '4045', '2093', '3269', '3450', '2345', '3871', '2768', '2258', '3912', '4538', '4375', '2371', '3074', '3914', '1898', '3330', '4404', '1991', '2963', '3560', '2370', '2220', '2239', '3924', '2787', '3114', '3505', '4261', '2493', '3237', '3689', '3050', '4066', '2160', '2016', '2722', '3455', '3216', '1922', '3649', '2240', '2284', '1871', '2406', '3134', '3339', '3791', '2414', '1999', '1914', '3372', '3676', '2067', '2266', '3102', '1992', '3152', '3550', '2834', '3753', '4451', '2348', '3192', '1908', '2222', '3256', '3274', '3740', '3009', '3746', '2973', '3287', '2228', '2913', '2271', '2198', '2912', '4034', '2435', '3899', '3946', '2004', '2213', '2689', '2814', '4246', '3843', '1873', '3588', '3668', '3706', '2784', '2922', '4325', '2756', '2984', '4124', '4537', '3766', '2485', '2936', '2464', '2825', '2175', '1995', '3236', '2304', '3446', '4447', '2804', '3388'}\n",
      "Only in df_c: {4608, 4609, 4610, 4611, 4612, 4613, 4614, 4615, 4616, 4617, 4618, 4619, 4620, 4621, 4622, 4623, 4624, 4625, 4626, 4627, 4629, 4630, 4632, 4633, 4634, 4635, 4637, 2081, 3618, 2605, 2106, 2131, 3677, 2664, 2157, 2159, 2199, 2203, 2204, 2205, 2206, 2207, 2208, 2209, 2210, 2211, 2212, 2747, 4291, 2244, 2296, 4386, 2896, 3920, 3942, 3944, 6001, 2932, 3473, 2968, 4507, 4508, 1953, 4515, 4516, 4518, 4519, 4520, 4522, 4523, 4012, 4524, 4525, 4529, 4534, 4535, 4544, 4546, 4547, 4548, 4549, 4551, 4552, 4553, 4554, 4555, 4556, 4557, 4558, 4559, 4565, 4566, 4567, 4568, 4569, 4570, 4571, 4573, 4574, 4576, 4577, 4578, 4579, 4580, 4581, 4582, 4583, 4584, 4585, 4586, 4587, 4589, 4590, 4591, 4592, 4593, 4594, 4595, 4596, 4597, 4598, 4599, 4600, 4601, 4602, 4603, 4604, 4605, 4606, 4607}\n",
      "In both: set()\n"
     ]
    }
   ],
   "execution_count": 74
  },
  {
   "metadata": {
    "ExecuteTime": {
     "end_time": "2025-07-18T18:49:48.068286Z",
     "start_time": "2025-07-18T18:49:47.623769Z"
    }
   },
   "cell_type": "code",
   "source": [
    "result_p = spark.sql(''' select distinct status from purchase --where status like 'Delivered'\n",
    "''')\n",
    "result_p.show()"
   ],
   "id": "ee78e221c2827e3b",
   "outputs": [
    {
     "name": "stdout",
     "output_type": "stream",
     "text": [
      "+----------+\n",
      "|    status|\n",
      "+----------+\n",
      "|In Transit|\n",
      "| Delivered|\n",
      "|   On Hand|\n",
      "|     Empty|\n",
      "|      Open|\n",
      "|   Loading|\n",
      "+----------+\n",
      "\n"
     ]
    }
   ],
   "execution_count": 29
  },
  {
   "metadata": {
    "ExecuteTime": {
     "end_time": "2025-07-14T14:47:58.019857Z",
     "start_time": "2025-07-14T14:47:57.807575Z"
    }
   },
   "cell_type": "code",
   "source": [
    "def clean_column_names(sdf):\n",
    "    \"\"\"\n",
    "    Cleans column names of a Spark DataFrame:\n",
    "    - lowercase\n",
    "    - replace spaces, colons with underscores\n",
    "    - remove parentheses and dots\n",
    "    \"\"\"\n",
    "    def clean_name(name):\n",
    "        return (\n",
    "            name.lower()\n",
    "            .replace(\" \", \"_\")\n",
    "            .replace(\":\", \"_\")\n",
    "            .replace(\"(\", \"\")\n",
    "            .replace(\")\", \"\")\n",
    "            .replace(\".\", \"\")\n",
    "        )\n",
    "\n",
    "    for old_name in sdf.columns:\n",
    "        sdf = sdf.withColumnRenamed(old_name, clean_name(old_name))\n",
    "\n",
    "    return sdf\n",
    "\n",
    "\n",
    "# use the function\n",
    "spark_df = clean_column_names(spark_df)\n",
    "\n",
    "spark_df.show(truncate=False)\n"
   ],
   "id": "5d1b6cefd1a31d25",
   "outputs": [
    {
     "name": "stdout",
     "output_type": "stream",
     "text": [
      "+------+-------+------------+---------------------------------------------+------+---------+----------+-------------+----------+-----------+-----------+---------------------+-----------------+---------------+-----------------------------------------------------------------------+-------+--------------------------------------------------------+---------------------------------------------------------------------------------+---------------------------------------------------------------+---------------------+---------------------------------------------+----------+--------------+-------------+----------+-----------+\n",
      "|status|number |release_date|released_to                                  |pieces|weight_lb|volume_ft³|creation_date|income_cad|expense_cad|balance_cad|exclude_from_tracking|volume_weight_vlb|employee       |notes                                                                  |carrier|commodities_description                                 |issued_by_address                                                                |release_to_address                                             |purchase_order_number|billing_client                               |is_printed|purchase_order|delivery_date|lot_number|container# |\n",
      "+------+-------+------------+---------------------------------------------+------+---------+----------+-------------+----------+-----------+-----------+---------------------+-----------------+---------------+-----------------------------------------------------------------------+-------+--------------------------------------------------------+---------------------------------------------------------------------------------+---------------------------------------------------------------+---------------------+---------------------------------------------+----------+--------------+-------------+----------+-----------+\n",
      "|Loaded|4543   |01/13/2025  |Krown Produce  Fresh At Its Best™            |1     |3,747.86 |2,359.59  |01/11/2025   |34,814.39 |0.00       |34,814.39  |No                   |24,562.48        |Claudia Ramirez|NaN                                                                    |CTX    |NaN                                                     |5311, boulevard de Maisonneuve ouest\\r\\r\\nSuite 304, Montréal, QC H4A 1Z5. Canada|4923 47th Street SE,, Calgary, AB T2B 3S5. Canada              |NaN                  |Krown Produce  Fresh At Its Best™            |No        |AL1739        |NaN          |NaN       |NaN        |\n",
      "|Loaded|4565   |01/13/2025  |Chiovitti Banana Co., Ltd                    |855   |34,193.04|1,811.64  |01/11/2025   |33,073.67 |0.00       |33,073.67  |No                   |18,858.54        |Claudia Ramirez|Country of Origin: Mexico                                              |TQL    |Banano Cavendish Organico Fairtrade 3lb con Banda Costco|5311, boulevard de Maisonneuve ouest\\r\\r\\nSuite 304, Montréal, QC H4A 1Z5. Canada|26 Magnificent Road, Toronto, ON M8Z 4T3. Canada               |NaN                  |Chiovitti Banana Co., Ltd                    |No        |250354        |NaN          |NaN       |NaN        |\n",
      "|Loaded|4536   |01/13/2025  |Chiovitti Banana Co., Ltd                    |1     |3,747.86 |2,359.59  |01/11/2025   |0.00      |0.00       |0.00       |No                   |24,562.48        |Claudia Ramirez|Country of Origin: Ecuador\\r\\r\\nPlease scan TIVE Sticker.  Thank you,  |Holt   |NaN                                                     |5311, boulevard de Maisonneuve ouest\\r\\r\\nSuite 304, Montréal, QC H4A 1Z5. Canada|26 Magnificent Road, Toronto, ON M8Z 4T3. Canada               |NaN                  |Chiovitti Banana Co., Ltd                    |No        |250241        |NaN          |NaN       |NaN        |\n",
      "|Loaded|4550   |01/13/2025  |Courchesne Larose                            |1     |3,747.86 |2,359.59  |01/09/2025   |35,584.78 |0.00       |35,584.78  |No                   |24,562.48        |Claudia Ramirez|Country of Origin: Colombia\\r\\r\\nPlease scan TIVE Sticker.  Thank you, |TQL    |NaN                                                     |5311, boulevard de Maisonneuve ouest\\r\\r\\nSuite 304, Montréal, QC H4A 1Z5. Canada|9761 boul. des Sciences, Montréal, QC H1J 0A6. Canada          |NaN                  |Courchesne Larose                            |Yes       |2486593       |NaN          |NaN       |SEGU9465097|\n",
      "|Loaded|4533   |01/13/2025  |Courchesne Larose                            |1     |3,747.86 |2,359.59  |01/11/2025   |34,814.39 |0.00       |34,814.39  |No                   |24,562.48        |Claudia Ramirez|Country of Origin: Ecuador\\r\\r\\nPlease scan TIVE Sticker.  Thank you,  |NaN    |NaN                                                     |5311, boulevard de Maisonneuve ouest\\r\\r\\nSuite 304, Montréal, QC H4A 1Z5. Canada|9761 boul. des Sciences, Montréal, QC H1J 0A6. Canada          |NaN                  |Courchesne Larose                            |No        |5741231077    |NaN          |NaN       |NaN        |\n",
      "|Loaded|4532   |01/12/2025  |Chiovitti Banana Co., Ltd                    |1     |3,747.86 |2,359.59  |01/11/2025   |34,814.39 |0.00       |34,814.39  |No                   |24,562.48        |Claudia Ramirez|Country of Origin: Ecuador\\r\\r\\nPlease scan TIVE Sticker.  Thank you,  |Holt   |NaN                                                     |5311, boulevard de Maisonneuve ouest\\r\\r\\nSuite 304, Montréal, QC H4A 1Z5. Canada|26 Magnificent Road, Toronto, ON M8Z 4T3. Canada               |NaN                  |Chiovitti Banana Co., Ltd                    |No        |250353        |NaN          |NaN       |NaN        |\n",
      "|Loaded|4560   |01/12/2025  |Chiovitti Banana Co., Ltd                    |1     |3,747.86 |2,359.59  |01/09/2025   |33,768.81 |0.00       |33,768.81  |No                   |24,562.48        |Claudia Ramirez|Country of Origin: Colombia\\r\\r\\nPlease scan TIVE Sticker.  Thank you, |TQL    |NaN                                                     |5311, boulevard de Maisonneuve ouest\\r\\r\\nSuite 304, Montréal, QC H4A 1Z5. Canada|26 Magnificent Road, Toronto, ON M8Z 4T3. Canada               |NaN                  |Chiovitti Banana Co., Ltd                    |Yes       |250355        |NaN          |NaN       |BMOU9887238|\n",
      "|Loaded|4537   |01/12/2025  |Courchesne Larose                            |1     |3,747.86 |2,359.59  |01/11/2025   |34,814.39 |0.00       |34,814.39  |No                   |24,562.48        |Claudia Ramirez|Country of Origin: Ecuador\\r\\r\\nPlease scan TIVE Sticker.  Thank you,  |NaN    |NaN                                                     |5311, boulevard de Maisonneuve ouest\\r\\r\\nSuite 304, Montréal, QC H4A 1Z5. Canada|9761 boul. des Sciences, Montréal, QC H1J 0A6. Canada          |NaN                  |Courchesne Larose                            |No        |5741231066    |NaN          |NaN       |NaN        |\n",
      "|Loaded|4562   |01/10/2025  |Chiovitti Banana Co., Ltd                    |1     |3,747.86 |2,359.59  |01/07/2025   |34,573.45 |0.00       |34,573.45  |No                   |24,562.48        |Claudia Ramirez|Country of Origin: Ecuador                                             |TQL    |NaN                                                     |5311, boulevard de Maisonneuve ouest\\r\\r\\nSuite 304, Montréal, QC H4A 1Z5. Canada|26 Magnificent Road, Toronto, ON M8Z 4T3. Canada               |NaN                  |Chiovitti Banana Co., Ltd                    |No        |250240        |NaN          |NaN       |NaN        |\n",
      "|Loaded|4527CH |01/10/2025  |Charlies Seattle                             |720   |28,794.14|1,525.59  |01/08/2025   |28,950.26 |0.00       |28,950.26  |No                   |15,880.88        |Claudia Ramirez|NaN                                                                    |TQL    |Banano Cavendish Organico Fairtrade con banda           |5311, boulevard de Maisonneuve ouest\\r\\r\\nSuite 304, Montréal, QC H4A 1Z5. Canada|5033 1st Ave S, Seattle 98134, Seattle, WA 98134. United States|NaN                  |Charlies Seattle                             |No        |7002396       |NaN          |NaN       |NaN        |\n",
      "|Loaded|4531   |01/10/2025  |Chiovitti Banana Co., Ltd                    |1     |3,747.86 |2,359.59  |01/03/2025   |33,827.27 |0.00       |33,827.27  |No                   |24,562.48        |Claudia Ramirez|Country of Origin: Colombia\\r\\r\\nPlease scan TIVE Sticker.  Thank you, |TQL    |NaN                                                     |5311, boulevard de Maisonneuve ouest\\r\\r\\nSuite 304, Montréal, QC H4A 1Z5. Canada|26 Magnificent Road, Toronto, ON M8Z 4T3. Canada               |NaN                  |Chiovitti Banana Co., Ltd                    |No        |250234        |NaN          |NaN       |TEMU9696277|\n",
      "|Loaded|4575BCH|01/10/2025  |Sobeys BCH                                   |720   |28,794.14|1,525.59  |01/09/2025   |24,754.78 |0.00       |24,754.78  |No                   |15,880.88        |Claudia Ramirez|NaN                                                                    |Savoie |Banano Cavendish Organico Fairtrade con banda           |5311, boulevard de Maisonneuve ouest\\r\\r\\nSuite 304, Montréal, QC H4A 1Z5. Canada|1500 Bd de Montarville, Boucherville, QC J4B 5Y3. Canada       |NaN                  |Sobeys BCH                                   |No        |4567010098    |NaN          |NaN       |BEAU9710377|\n",
      "|Loaded|4575   |01/10/2025  |Sobeys Quebec City                           |240   |9,598.05 |508.53    |01/09/2025   |8,251.59  |0.00       |8,251.59   |No                   |5,293.63         |Claudia Ramirez|NaN                                                                    |Savoie |Banano Cavendish Organico Fairtrade con banda           |5311, boulevard de Maisonneuve ouest\\r\\r\\nSuite 304, Montréal, QC H4A 1Z5. Canada|950, avenue Galilee, Duberger, QC G1P 4B7. Canada              |NaN                  |Sobeys Quebec City                           |No        |4567010205    |NaN          |NaN       |BEAU9710377|\n",
      "|Loaded|4572   |01/10/2025  |Krown Produce  Fresh At Its Best™            |1     |3,747.86 |2,359.59  |01/09/2025   |32,632.96 |0.00       |32,632.96  |No                   |24,562.48        |Claudia Ramirez|Country of Origin: Ecuador                                             |CTX    |NaN                                                     |5311, boulevard de Maisonneuve ouest\\r\\r\\nSuite 304, Montréal, QC H4A 1Z5. Canada|4923 47th Street SE,, Calgary, AB T2B 3S5. Canada              |NaN                  |Krown Produce  Fresh At Its Best™            |No        |AL1704        |NaN          |NaN       |CAAU4105992|\n",
      "|Loaded|4564   |01/10/2025  |Chiovitti Banana Co., Ltd                    |1     |3,747.86 |2,359.59  |01/09/2025   |34,790.29 |0.00       |34,790.29  |No                   |24,562.48        |Claudia Ramirez|Country of Origin: Mexico                                              |TQL    |NaN                                                     |5311, boulevard de Maisonneuve ouest\\r\\r\\nSuite 304, Montréal, QC H4A 1Z5. Canada|26 Magnificent Road, Toronto, ON M8Z 4T3. Canada               |NaN                  |Chiovitti Banana Co., Ltd                    |No        |250239        |NaN          |NaN       |NaN        |\n",
      "|Loaded|4528   |01/09/2025  |Chiovitti Banana Co., Ltd                    |1     |3,747.86 |2,359.59  |01/07/2025   |34,573.45 |0.00       |34,573.45  |No                   |24,562.48        |Claudia Ramirez|Country of Origin: Ecuador\\r\\r\\nPlease scan TIVE Sticker.  Thank you,  |Holt   |NaN                                                     |5311, boulevard de Maisonneuve ouest\\r\\r\\nSuite 304, Montréal, QC H4A 1Z5. Canada|26 Magnificent Road, Toronto, ON M8Z 4T3. Canada               |NaN                  |Chiovitti Banana Co., Ltd                    |No        |250238        |NaN          |NaN       |NaN        |\n",
      "|Loaded|4526   |01/09/2025  |Chiovitti Banana Co., Ltd                    |1     |3,747.86 |2,359.59  |01/07/2025   |34,573.45 |0.00       |34,573.45  |No                   |24,562.48        |Claudia Ramirez|Country of Origin: Ecuador\\r\\r\\nPlease scan TIVE Sticker.  Thank you,  |Holt   |NaN                                                     |5311, boulevard de Maisonneuve ouest\\r\\r\\nSuite 304, Montréal, QC H4A 1Z5. Canada|26 Magnificent Road, Toronto, ON M8Z 4T3. Canada               |NaN                  |Chiovitti Banana Co., Ltd                    |No        |250235        |NaN          |NaN       |NaN        |\n",
      "|Loaded|4500   |01/08/2025  |Chiovitti Banana Co., Ltd                    |1     |3,747.86 |2,359.59  |01/07/2025   |33,558.34 |0.00       |33,558.34  |No                   |24,562.48        |Claudia Ramirez|Country of Origin: Peru\\r\\r\\nPlease scan TIVE Sticker.  Thank you,     |Holt   |NaN                                                     |5311, boulevard de Maisonneuve ouest\\r\\r\\nSuite 304, Montréal, QC H4A 1Z5. Canada|26 Magnificent Road, Toronto, ON M8Z 4T3. Canada               |NaN                  |Chiovitti Banana Co., Ltd                    |No        |250234        |NaN          |NaN       |NaN        |\n",
      "|Loaded|4527S  |01/08/2025  |Sprouts Farmers Market - Distribution Centers|48    |0.00     |0.00      |01/08/2025   |0.00      |0.00       |0.00       |No                   |0.00             |Claudia Ramirez|NaN                                                                    |TQL    |Banano Cavendish Organico Fairtrade con Banda SPTS      |5311, boulevard de Maisonneuve ouest\\r\\r\\nSuite 304, Montréal, QC H4A 1Z5. Canada|5445 West Missouri Ave, Glendale, AZ 85301. United States      |NaN                  |Sprouts Farmers Market - Distribution Centers|No        |0980162917    |NaN          |NaN       |NaN        |\n",
      "|Loaded|4545   |01/08/2025  |Courchesne Larose                            |1     |3,747.86 |2,359.59  |01/07/2025   |34,573.45 |0.00       |34,573.45  |No                   |24,562.48        |Claudia Ramirez|Country of Origin: Ecuador\\r\\r\\nPlease scan TIVE Sticker.  Thank you,  |NaN    |NaN                                                     |5311, boulevard de Maisonneuve ouest\\r\\r\\nSuite 304, Montréal, QC H4A 1Z5. Canada|9761 boul. des Sciences, Montréal, QC H1J 0A6. Canada          |NaN                  |Courchesne Larose                            |No        |5741231060    |NaN          |NaN       |NaN        |\n",
      "+------+-------+------------+---------------------------------------------+------+---------+----------+-------------+----------+-----------+-----------+---------------------+-----------------+---------------+-----------------------------------------------------------------------+-------+--------------------------------------------------------+---------------------------------------------------------------------------------+---------------------------------------------------------------+---------------------+---------------------------------------------+----------+--------------+-------------+----------+-----------+\n",
      "only showing top 20 rows\n",
      "\n"
     ]
    }
   ],
   "execution_count": 3
  },
  {
   "metadata": {
    "ExecuteTime": {
     "end_time": "2025-07-14T15:02:02.250977Z",
     "start_time": "2025-07-14T15:02:02.246293Z"
    }
   },
   "cell_type": "code",
   "source": "spark_df.columns",
   "id": "fd8abbe22496d2a6",
   "outputs": [
    {
     "data": {
      "text/plain": [
       "['status',\n",
       " 'number',\n",
       " 'release_date',\n",
       " 'released_to',\n",
       " 'pieces',\n",
       " 'weight_lb',\n",
       " 'volume_ft³',\n",
       " 'creation_date',\n",
       " 'income_cad',\n",
       " 'expense_cad',\n",
       " 'balance_cad',\n",
       " 'exclude_from_tracking',\n",
       " 'volume_weight_vlb',\n",
       " 'employee',\n",
       " 'notes',\n",
       " 'carrier',\n",
       " 'commodities_description',\n",
       " 'issued_by_address',\n",
       " 'release_to_address',\n",
       " 'purchase_order_number',\n",
       " 'billing_client',\n",
       " 'is_printed',\n",
       " 'purchase_order',\n",
       " 'delivery_date',\n",
       " 'lot_number',\n",
       " 'container#']"
      ]
     },
     "execution_count": 17,
     "metadata": {},
     "output_type": "execute_result"
    }
   ],
   "execution_count": 17
  },
  {
   "metadata": {
    "ExecuteTime": {
     "end_time": "2025-07-14T14:48:04.693808Z",
     "start_time": "2025-07-14T14:48:04.634363Z"
    }
   },
   "cell_type": "code",
   "source": "spark_df.createOrReplaceTempView(\"cargo_releases\")",
   "id": "8aad4c8766e981eb",
   "outputs": [],
   "execution_count": 4
  },
  {
   "metadata": {
    "ExecuteTime": {
     "end_time": "2025-07-14T14:48:16.327170Z",
     "start_time": "2025-07-14T14:48:15.815372Z"
    }
   },
   "cell_type": "code",
   "source": [
    "result = spark.sql(\n",
    "\n",
    "'''\n",
    "\n",
    "select job, number, `container#`, pieces, released_to, purchase_order,carrier ,comm, weight_lb,`volume_ft³`,volume_weight_vlb, release_date, creation_date\n",
    "from (\n",
    "    select substring(number, 1, 4) AS job, *\n",
    "    from cargo_releases\n",
    "    WHERE release_date LIKE '%2023'\n",
    "       OR release_date LIKE '%2024'\n",
    "       OR release_date LIKE '%2025'\n",
    ") as a\n",
    "where pieces != 0\n",
    "order by job\n",
    "\n",
    "'''\n",
    ")\n",
    "result.show()\n"
   ],
   "id": "1f50ef9c67a47ed9",
   "outputs": [
    {
     "name": "stdout",
     "output_type": "stream",
     "text": [
      "+----+------+----------+------+--------------------+--------------+-------+---------+----------+-----------------+------------+-------------+\n",
      "| job|number|container#|pieces|         released_to|purchase_order|carrier|weight_lb|volume_ft³|volume_weight_vlb|release_date|creation_date|\n",
      "+----+------+----------+------+--------------------+--------------+-------+---------+----------+-----------------+------------+-------------+\n",
      "|2446|  2446|       NaN|     1|Chiovitti Banana ...|        232045|    NaN|42,140.04|  2,359.37|        24,560.22|  04/20/2023|   04/19/2023|\n",
      "|2452|  2452|       NaN|     1|Chiovitti Banana ...|        232172|    NaN|42,140.04|  2,359.37|        24,560.22|  04/24/2023|   04/21/2023|\n",
      "|2472| 2472C|       NaN|   624|Chiovitti Banana ...|        232173|    NaN|24,954.92|  1,322.18|        13,763.43|  04/24/2023|   04/21/2023|\n",
      "|2472| 2472G|       NaN|   336|            GO FRESH|         13504|    NaN|13,437.26|    711.94|         7,411.08|  04/24/2023|   04/21/2023|\n",
      "|2529|  2529|       NaN|     1|Chiovitti Banana ...|        230235| Fulger|39,740.53|  2,359.37|        24,560.22|  01/12/2023|   01/11/2023|\n",
      "|2532|  2532|       NaN|     1|          Sobeys BCH|    4566068116|Connors|42,138.26|  2,359.37|        24,560.22|  01/05/2023|   01/04/2023|\n",
      "|2534|  2534|       NaN|     1|   Courchesne Larose|       2283921| Fulger| 3,747.86|  2,359.37|        24,560.22|  01/04/2023|   01/03/2023|\n",
      "|2537|  2537|       NaN|     1|Chiovitti Banana ...|        230106| Cheema|39,740.53|  2,359.37|        24,560.22|  01/05/2023|   01/04/2023|\n",
      "|2539|  2539|       NaN|     1|Chiovitti Banana ...|       Seafood|Seafood|39,740.53|  2,359.37|        24,560.22|  01/06/2023|   01/05/2023|\n",
      "|2541|  2541|       NaN|     1|Chiovitti Banana ...|        230105|    NaN|42,140.04|  2,359.37|        24,560.22|  01/06/2023|   01/05/2023|\n",
      "|2542| 2542C|       NaN|   624|Chiovitti Banana ...|        230104|Connors|24,954.92|  1,322.18|        13,763.43|  01/02/2023|   12/30/2022|\n",
      "|2542| 2542G|       NaN|   336|            GO FRESH|         12939|Connors|13,437.26|    711.94|         7,411.08|  01/02/2023|   12/30/2022|\n",
      "|2543|  2543|       NaN|     1|       Sobeys Whitby|    4541703851|Connors|42,138.26|  2,359.37|        24,560.22|  01/06/2023|   01/05/2023|\n",
      "|2545|  2545|       NaN|     1|   Courchesne Larose|   574-1222588|  Pride|39,740.53|  2,359.37|        24,560.22|  01/05/2023|   01/04/2023|\n",
      "|2546|  2546|       NaN|     1|Chiovitti Banana ...|        230109| Fulger|42,140.04|  2,359.37|        24,560.22|  01/07/2023|   01/06/2023|\n",
      "|2547|  2547|       NaN|     1|       Sobeys Whitby|    4541707718|    NaN|42,140.04|  2,359.37|        24,560.22|  01/13/2023|   01/12/2023|\n",
      "|2548| 2548C|       NaN|   720|Chiovitti Banana ...|        230107|    Xan|28,794.14|  1,525.59|        15,880.88|  01/05/2023|   01/05/2023|\n",
      "|2548| 2548G|       NaN|   240|            GO FRESH|         12940|    Xan| 9,598.05|    508.53|         5,293.63|  01/05/2023|   01/05/2023|\n",
      "|2549|  2549|       NaN|     1|Chiovitti Banana ...|        250109| Cheema|39,740.53|  2,359.37|        24,560.22|  01/07/2023|   01/06/2023|\n",
      "|2550|  2550|       NaN|     1|Chiovitti Banana ...|        230879|    NaN|42,140.04|  2,359.37|        24,560.22|  02/16/2023|   02/15/2023|\n",
      "+----+------+----------+------+--------------------+--------------+-------+---------+----------+-----------------+------------+-------------+\n",
      "only showing top 20 rows\n",
      "\n"
     ]
    }
   ],
   "execution_count": 5
  },
  {
   "metadata": {
    "ExecuteTime": {
     "end_time": "2025-07-14T14:50:00.962199Z",
     "start_time": "2025-07-14T14:50:00.894321Z"
    }
   },
   "cell_type": "code",
   "source": [
    "\n",
    "result.createOrReplaceTempView(\"cargo_releases_limit\")\n",
    "result_1 = spark.sql('''\n",
    "select * from cargo_releases_limit\n",
    "where job like '34%'\n",
    "\n",
    "''')\n",
    "result.createOrReplaceTempView(\"cargo_releases_1\")"
   ],
   "id": "38f7d11f4f046b62",
   "outputs": [],
   "execution_count": 7
  },
  {
   "metadata": {
    "ExecuteTime": {
     "end_time": "2025-07-14T14:59:24.641873Z",
     "start_time": "2025-07-14T14:59:24.315382Z"
    }
   },
   "cell_type": "code",
   "source": "result_1.show()",
   "id": "148c639bc5ba1f93",
   "outputs": [
    {
     "name": "stdout",
     "output_type": "stream",
     "text": [
      "+----+-------+-----------+------+--------------------+--------------+--------------------+---------+----------+-----------------+------------+-------------+\n",
      "| job| number| container#|pieces|         released_to|purchase_order|             carrier|weight_lb|volume_ft³|volume_weight_vlb|release_date|creation_date|\n",
      "+----+-------+-----------+------+--------------------+--------------+--------------------+---------+----------+-----------------+------------+-------------+\n",
      "|3400|   3400|ZMOU8841679|     1|          Top Banana|        061924|                 NaN| 3,747.86|  2,359.59|        24,562.48|  06/19/2024|   06/18/2024|\n",
      "|3401|3401BCH|IKSU5205593|   672|          Sobeys BCH|    4566748040|              Savoie|26,874.53|      0.00|             0.00|  06/17/2024|   06/17/2024|\n",
      "|3401| 3401QC|IKSU5205593|   288|  Sobeys Quebec City|    4566748045|              Savoie|11,517.65|      0.00|             0.00|  06/17/2024|   06/17/2024|\n",
      "|3402|   3402|        NaN|     1|Chiovitti Banana ...|        243421|                Holt| 3,747.86|  2,359.59|        24,562.48|  06/20/2024|   06/18/2024|\n",
      "|3403|   3403|        NaN|     1|   Courchesne Larose|       2460047|                 NaN| 3,747.86|  2,359.59|        24,562.48|  06/19/2024|   06/17/2024|\n",
      "|3404|   3404|        NaN|     1|    Charlies Seattle|       6940485|        Traffic Tech| 3,747.86|  2,359.59|        24,562.48|  06/20/2024|   06/19/2024|\n",
      "|3405|   3405|        NaN|     1|Chiovitti Banana ...|        243420|                Holt| 3,747.86|  2,359.59|        24,562.48|  06/19/2024|   06/18/2024|\n",
      "|3406|   3406|        NaN|   960|          Sobeys BCH|    4566748041|              Savoie|38,392.18|  2,034.12|        21,174.50|  06/19/2024|   06/18/2024|\n",
      "|3407|   3407|        NaN|     1|   Courchesne Larose|    5740611558|                 NaN| 3,747.86|  2,359.59|        24,562.48|  06/19/2024|   06/18/2024|\n",
      "|3408|   3408|        NaN|     1|Krown Produce  Fr...|        AL0183|                 CTX| 3,747.86|  2,359.59|        24,562.48|  06/25/2024|   06/20/2024|\n",
      "|3409|   3409|        NaN|     1|Chiovitti Banana ...|        243558|                Holt| 3,747.86|  2,359.59|        24,562.48|  06/25/2024|   06/24/2024|\n",
      "|3410|   3410|        NaN|     1|   Courchesne Larose|    5740618661|                 NaN| 3,747.86|  2,359.59|        24,562.48|  06/26/2024|   06/24/2024|\n",
      "|3411|   3411|        NaN|     1|Chiovitti Banana ...|        243557|                Holt| 3,747.86|  2,359.59|        24,562.48|  06/24/2024|   06/20/2024|\n",
      "|3412|   3412|        NaN|     1|Chiovitti Banana ...|        243560|                Holt| 3,747.86|  2,359.59|        24,562.48|  06/27/2024|   06/26/2024|\n",
      "|3413|   3413|        NaN|     1|Chiovitti Banana ...|        243556|                Holt| 3,747.86|  2,359.59|        24,562.48|  06/23/2024|   06/20/2024|\n",
      "|3414|   3414|MNBU3372746|     1|Krown Produce  Fr...|        AL0186|Highway Motor Fre...| 3,747.86|  2,359.59|        24,562.48|  06/28/2024|   06/26/2024|\n",
      "|3415|   3415|        NaN|     1|   Courchesne Larose|    5740611562|                 NaN| 3,747.86|  2,359.59|        24,562.48|  06/21/2024|   06/20/2024|\n",
      "|3416|   3416|        NaN|     1|Chiovitti Banana ...|        243425|                Holt| 3,747.86|  2,359.59|        24,562.48|  06/22/2024|   06/20/2024|\n",
      "|3417|   3417|        NaN|     1|Chiovitti Banana ...|        243562|                Holt| 3,747.86|  2,359.59|        24,562.48|  06/28/2024|   06/26/2024|\n",
      "|3418|   3418|MNBU4082926|     1|          Top Banana|        062424|                 NaN| 3,747.86|  2,359.59|        24,562.48|  06/24/2024|   06/20/2024|\n",
      "+----+-------+-----------+------+--------------------+--------------+--------------------+---------+----------+-----------------+------------+-------------+\n",
      "only showing top 20 rows\n",
      "\n"
     ]
    }
   ],
   "execution_count": 11
  },
  {
   "metadata": {
    "ExecuteTime": {
     "end_time": "2025-07-14T14:59:37.805231Z",
     "start_time": "2025-07-14T14:59:37.610209Z"
    }
   },
   "cell_type": "code",
   "source": [
    "dfp= pd.read_csv('output/puchase_fact/Purchase_fact.csv')\n",
    "# Convert pandas → Spark\n",
    "spark_dfp= spark.createDataFrame(dfp)\n",
    "spark_dfp.show()\n"
   ],
   "id": "f289c4d3d0edf3c",
   "outputs": [
    {
     "name": "stdout",
     "output_type": "stream",
     "text": [
      "+---------+----+--------------------+------------+----------------+---------------+-----------+--------+-----------------+-----------+----------+--------+--------------------+------------------+------------+------------------+-------------+--------------+------------+---------+-----------------+---------+----------+----------+-------------+------------+-------+----+\n",
      "|   status| job|            supplier|     carrier| port_of_loading|port_of_arrival| container#|quantity|received_quantity|job_expense|job_income|invoiced|unbilled_balance_cad|unpaid_balance_cad|      amount|amt_before_tax_cad|exchange_rate|departure_date|arrival_date|incoterms|customs_clearance|weight_lb|volume_ft³|  employee|shipping_date|job_due_date|   date|paid|\n",
      "+---------+----+--------------------+------------+----------------+---------------+-----------+--------+-----------------+-----------+----------+--------+--------------------+------------------+------------+------------------+-------------+--------------+------------+---------+-----------------+---------+----------+----------+-------------+------------+-------+----+\n",
      "|Delivered|3400|Marplantis Organi...|         ZIM|       Guayaquil|   Philadelphia|ZMOU8841679|   900.0|            900.0|   26420.85|  31335.44|     Yes|                 0.0|               0.0|USD 12690.00|          17359.92|         0.73|        6/2/24|     6/12/24|      FOB|     US Clearance|35,992.67|  1,906.99|David Melo|      6/18/24|     6/19/24|5/17/24| NaN|\n",
      "|Delivered|3401|Marplantis Organi...|         ONE|       Guayaquil|   Philadelphia|IKSU5205593|   960.0|            960.0|   26190.48|  31524.23|     Yes|                 0.0|               0.0|USD 13392.00|          18320.26|         0.73|       5/31/24|     6/11/24|      FOB|     US Clearance|38,392.18|         0|David Melo|      6/17/24|     6/17/24|5/17/24| NaN|\n",
      "|Delivered|3402|        Surgesa S.A.|         CMA|       Guayaquil|   Philadelphia|TEMU9576883|   900.0|            900.0|   27454.15|  33140.57|     Yes|                 0.0|               0.0|USD 13095.00|          17913.96|         0.73|       5/31/24|     6/11/24|      FOB|     US Clearance|35,992.67|  1,906.99|David Melo|      6/17/24|     6/24/24|5/17/24| NaN|\n",
      "|Delivered|3403|        Surgesa S.A.|         CMA|       Guayaquil|   Philadelphia|TCLU1271319|   960.0|            960.0|    28478.0|  33886.14|     Yes|                 0.0|               0.0|USD 13459.20|          18412.19|         0.73|       5/31/24|     6/11/24|      FOB|     US Clearance|38,392.18|  2,034.12|David Melo|      6/17/24|     6/19/24|5/17/24| NaN|\n",
      "|Delivered|3404|Coliman Pacific C...|Traffic Tech|Nogales, Arizona|            NaN|        NaN|   720.0|            720.0|   27693.85|  27749.51|     Yes|                 0.0|               0.0|USD 14450.40|          19854.85|         0.73|       6/17/24|     6/20/24|      FOB|              NaN|28,794.14|  1,525.59|David Melo|      6/20/24|     6/20/24|5/24/24| NaN|\n",
      "|Delivered|3405|C.I. AGRICOLAS LA...|    Seaboard|     Santa Marta|   Philadelphia|TLLU1178267|   960.0|            960.0|   27349.06|   32158.2|     Yes|                 0.0|               0.0|USD 13536.00|          18598.46|         0.73|        6/6/24|     6/16/24|      FOB|    Canada Inbond|38,392.18|  2,034.12|David Melo|      6/19/24|     6/19/24|5/24/24| NaN|\n",
      "|Delivered|3406|            ASOGUABO|         CMA|       Guayaquil|   Philadelphia|SZLU9090420|   960.0|            960.0|   27388.91|  31432.73|     Yes|                 0.0|               0.0|USD 13661.00|          18715.57|         0.73|       5/31/24|     6/11/24|      FOB|     US Clearance|38,392.18|  2,034.12|David Melo|      6/19/24|     6/19/24|5/23/24| NaN|\n",
      "|Delivered|3407|            ASOGUABO|         CMA|       Guayaquil|   Philadelphia|TRIU8122097|   900.0|            900.0|   27378.56|  33032.07|     Yes|                 0.0|               0.0|USD 12955.50|          17749.04|         0.73|       5/31/24|     6/11/24|      FOB|     US Clearance|35,992.67|  1,906.99|David Melo|      6/19/24|     6/25/24|5/23/24| NaN|\n",
      "|Delivered|3408|Coliman Pacific C...|         NaN|Nogales, Arizona|            NaN|        NaN|   900.0|            900.0|   25590.42|  30985.29|     Yes|                 0.0|               0.0|USD 17181.00|          23606.69|         0.73|       6/24/24|     6/24/24|      FOB|              NaN|35,992.67|  1,906.99|David Melo|      6/24/24|     6/25/24|5/24/24| NaN|\n",
      "|Delivered|3409|        PRIECOR S.A.|      Maersk|  Puerto Bolivar|   Philadelphia|MNBU0119518|   900.0|            900.0|   27207.12|  33092.35|     Yes|                 0.0|               0.0|USD 12690.00|           17385.3|         0.73|        6/1/24|     6/17/24|      FOB|     US Clearance|35,992.67|  1,906.99|David Melo|      6/20/24|     6/29/24|5/23/24| NaN|\n",
      "|Delivered|3410|            ASOGUABO|      Maersk|  Puerto Bolivar|   Philadelphia|SUDU8170281|   900.0|            900.0|   26871.82|  33152.63|     Yes|                 0.0|               0.0|USD 12686.50|           17380.5|         0.73|        6/1/24|     6/17/24|      FOB|     US Clearance|35,992.67|  1,906.99|David Melo|      6/20/24|      7/2/24|5/23/24| NaN|\n",
      "|Delivered|3411|            COQUIMBA|      Maersk|   Puerto Cortes|   Philadelphia|MNBU4395556|   960.0|            960.0|   24884.75|  29332.93|     Yes|                 0.0|               0.0| USD 9724.80|          13322.98|         0.73|        6/8/24|     6/17/24|      EXW|    Canada Inbond|38,392.18|  2,034.12|David Melo|      6/24/24|     6/24/24|5/23/24| NaN|\n",
      "|Delivered|3412|            COQUIMBA|      Maersk|         Corinto|   Philadelphia|MMAU1287409|   960.0|            960.0|   24269.94|  29279.58|     Yes|                 0.0|               0.0|USD 10416.00|          14269.92|         0.73|        6/8/24|     6/24/24|      FOB|    Canada Inbond|38,392.18|  2,034.12|David Melo|      6/27/24|     6/27/24|5/23/24| NaN|\n",
      "|Delivered|3413|C.I. AGRICOLAS LA...|    Seaboard|     Santa Marta|   Philadelphia|SEGU9722620|   960.0|            960.0|   27476.56|   32169.9|     Yes|                 0.0|               0.0|USD 13536.00|          18544.32|         0.73|        6/6/24|     6/16/24|      FOB|    Canada Inbond|38,392.18|  2,034.12|David Melo|      6/21/24|     6/23/24|5/23/24| NaN|\n",
      "|Delivered|3414|         Latbio S.A.|      Maersk|  Puerto Bolivar|   Philadelphia|MNBU3372746|   915.0|            915.0|   25431.04|  25916.57|     Yes|                 0.0|               0.0|USD 12841.50|          17592.86|         0.73|        6/8/24|     6/24/24|      FOB|     US Clearance|36,518.47|  1,938.78|David Melo|      6/28/24|     6/28/24|5/23/24| NaN|\n",
      "|Delivered|3415|Marplantis Organi...|    Seaboard|       Guayaquil|   Philadelphia|BMOU9893380|   900.0|            900.0|   27046.06|   33104.4|     Yes|                 0.0|               0.0|USD 12690.00|          17436.06|         0.73|        6/7/24|     6/17/24|      FOB|     US Clearance|35,992.67|  1,906.99|David Melo|      6/21/24|     6/26/24|5/24/24| NaN|\n",
      "|Delivered|3416|            ASOGUABO|      Maersk|  Puerto Bolivar|   Philadelphia|SUDU6111130|   960.0|            960.0|   26411.37|  31035.11|     Yes|                 0.0|               0.0|USD 12276.22|          16818.42|         0.73|        6/1/24|     6/17/24|      FOB|     US Clearance|38,392.18|  2,034.12|David Melo|      6/22/24|     6/22/24|5/23/24| NaN|\n",
      "|Delivered|3417|        Surgesa S.A.|         ONE|       Guayaquil|   Philadelphia|AXIU6108576|   900.0|            900.0|    27436.7|  33056.18|     Yes|                 0.0|               0.0|USD 13095.00|          17992.53|         0.73|        6/7/24|     6/18/24|      FOB|     US Clearance|35,992.67|  1,906.99|David Melo|      6/22/24|      7/3/24|5/24/24| NaN|\n",
      "|Delivered|3418|Hacienda Celia Ma...|      Maersk|  Puerto Bolivar|   Philadelphia|MNBU4082926|   900.0|            900.0|   25771.28|  31346.85|     Yes|                 0.0|               0.0|USD 12807.00|          17545.59|         0.73|        6/1/24|     6/17/24|      FOB|     US Clearance|        0|  1,908.00|David Melo|      6/22/24|     6/24/24|5/23/24| NaN|\n",
      "|Delivered|3419|Hacienda Celia Ma...|      Maersk|  Puerto Bolivar|   Philadelphia|SUDU6152571|   900.0|            900.0|   27521.67|    6390.0|     Yes|                 0.0|               0.0|USD 12807.00|          17545.59|         0.73|        6/1/24|     6/17/24|      FOB|     US Clearance|        0|  1,908.00|David Melo|      6/22/24|     6/28/24|5/23/24| NaN|\n",
      "+---------+----+--------------------+------------+----------------+---------------+-----------+--------+-----------------+-----------+----------+--------+--------------------+------------------+------------+------------------+-------------+--------------+------------+---------+-----------------+---------+----------+----------+-------------+------------+-------+----+\n",
      "only showing top 20 rows\n",
      "\n"
     ]
    }
   ],
   "execution_count": 13
  },
  {
   "metadata": {
    "ExecuteTime": {
     "end_time": "2025-07-14T14:59:40.333083Z",
     "start_time": "2025-07-14T14:59:40.323618Z"
    }
   },
   "cell_type": "code",
   "source": "spark_dfp.createOrReplaceTempView(\"purchase\")",
   "id": "51d460fbdf03d4ba",
   "outputs": [],
   "execution_count": 14
  },
  {
   "metadata": {
    "ExecuteTime": {
     "end_time": "2025-07-14T14:59:44.231257Z",
     "start_time": "2025-07-14T14:59:43.699376Z"
    }
   },
   "cell_type": "code",
   "source": [
    "rep= spark.sql (\n",
    "    '''\n",
    "SELECT p.*, c.carrier as destination_agent, c.`container#`\n",
    "FROM purchase p\n",
    "LEFT JOIN (\n",
    "    SELECT job, carrier, `container#`\n",
    "    FROM cargo_releases_limit\n",
    "    WHERE job LIKE '34%' AND carrier != 'NaN'\n",
    ") c\n",
    "ON p.job = c.job\n",
    "ORDER BY p.job\n",
    "\n",
    "    '''\n",
    ")\n",
    "\n",
    "rep.show(truncate=False)"
   ],
   "id": "f93ea764d5b234a1",
   "outputs": [
    {
     "name": "stdout",
     "output_type": "stream",
     "text": [
      "+---------+----+------------------------------------------+------------+----------------+---------------+-----------+--------+-----------------+-----------+----------+--------+--------------------+------------------+------------+------------------+-------------+--------------+------------+---------+-----------------+---------+----------+----------+-------------+------------+-------+----+---------------------+-----------+\n",
      "|status   |job |supplier                                  |carrier     |port_of_loading |port_of_arrival|container# |quantity|received_quantity|job_expense|job_income|invoiced|unbilled_balance_cad|unpaid_balance_cad|amount      |amt_before_tax_cad|exchange_rate|departure_date|arrival_date|incoterms|customs_clearance|weight_lb|volume_ft³|employee  |shipping_date|job_due_date|date   |paid|destination_agent    |container# |\n",
      "+---------+----+------------------------------------------+------------+----------------+---------------+-----------+--------+-----------------+-----------+----------+--------+--------------------+------------------+------------+------------------+-------------+--------------+------------+---------+-----------------+---------+----------+----------+-------------+------------+-------+----+---------------------+-----------+\n",
      "|Delivered|3400|Marplantis Organic Sustainable Agriculture|ZIM         |Guayaquil       |Philadelphia   |ZMOU8841679|900.0   |900.0            |26420.85   |31335.44  |Yes     |0.0                 |0.0               |USD 12690.00|17359.92          |0.73         |6/2/24        |6/12/24     |FOB      |US Clearance     |35,992.67|1,906.99  |David Melo|6/18/24      |6/19/24     |5/17/24|NaN |NULL                 |NULL       |\n",
      "|Delivered|3401|Marplantis Organic Sustainable Agriculture|ONE         |Guayaquil       |Philadelphia   |IKSU5205593|960.0   |960.0            |26190.48   |31524.23  |Yes     |0.0                 |0.0               |USD 13392.00|18320.26          |0.73         |5/31/24       |6/11/24     |FOB      |US Clearance     |38,392.18|0         |David Melo|6/17/24      |6/17/24     |5/17/24|NaN |Savoie               |IKSU5205593|\n",
      "|Delivered|3401|Marplantis Organic Sustainable Agriculture|ONE         |Guayaquil       |Philadelphia   |IKSU5205593|960.0   |960.0            |26190.48   |31524.23  |Yes     |0.0                 |0.0               |USD 13392.00|18320.26          |0.73         |5/31/24       |6/11/24     |FOB      |US Clearance     |38,392.18|0         |David Melo|6/17/24      |6/17/24     |5/17/24|NaN |Savoie               |IKSU5205593|\n",
      "|Delivered|3402|Surgesa S.A.                              |CMA         |Guayaquil       |Philadelphia   |TEMU9576883|900.0   |900.0            |27454.15   |33140.57  |Yes     |0.0                 |0.0               |USD 13095.00|17913.96          |0.73         |5/31/24       |6/11/24     |FOB      |US Clearance     |35,992.67|1,906.99  |David Melo|6/17/24      |6/24/24     |5/17/24|NaN |Holt                 |NaN        |\n",
      "|Delivered|3403|Surgesa S.A.                              |CMA         |Guayaquil       |Philadelphia   |TCLU1271319|960.0   |960.0            |28478.0    |33886.14  |Yes     |0.0                 |0.0               |USD 13459.20|18412.19          |0.73         |5/31/24       |6/11/24     |FOB      |US Clearance     |38,392.18|2,034.12  |David Melo|6/17/24      |6/19/24     |5/17/24|NaN |NULL                 |NULL       |\n",
      "|Delivered|3404|Coliman Pacific Corporation               |Traffic Tech|Nogales, Arizona|NaN            |NaN        |720.0   |720.0            |27693.85   |27749.51  |Yes     |0.0                 |0.0               |USD 14450.40|19854.85          |0.73         |6/17/24       |6/20/24     |FOB      |NaN              |28,794.14|1,525.59  |David Melo|6/20/24      |6/20/24     |5/24/24|NaN |Traffic Tech         |NaN        |\n",
      "|Delivered|3405|C.I. AGRICOLAS LAS FLORES S.A.S.          |Seaboard    |Santa Marta     |Philadelphia   |TLLU1178267|960.0   |960.0            |27349.06   |32158.2   |Yes     |0.0                 |0.0               |USD 13536.00|18598.46          |0.73         |6/6/24        |6/16/24     |FOB      |Canada Inbond    |38,392.18|2,034.12  |David Melo|6/19/24      |6/19/24     |5/24/24|NaN |Holt                 |NaN        |\n",
      "|Delivered|3406|ASOGUABO                                  |CMA         |Guayaquil       |Philadelphia   |SZLU9090420|960.0   |960.0            |27388.91   |31432.73  |Yes     |0.0                 |0.0               |USD 13661.00|18715.57          |0.73         |5/31/24       |6/11/24     |FOB      |US Clearance     |38,392.18|2,034.12  |David Melo|6/19/24      |6/19/24     |5/23/24|NaN |Savoie               |NaN        |\n",
      "|Delivered|3407|ASOGUABO                                  |CMA         |Guayaquil       |Philadelphia   |TRIU8122097|900.0   |900.0            |27378.56   |33032.07  |Yes     |0.0                 |0.0               |USD 12955.50|17749.04          |0.73         |5/31/24       |6/11/24     |FOB      |US Clearance     |35,992.67|1,906.99  |David Melo|6/19/24      |6/25/24     |5/23/24|NaN |NULL                 |NULL       |\n",
      "|Delivered|3408|Coliman Pacific Corporation               |NaN         |Nogales, Arizona|NaN            |NaN        |900.0   |900.0            |25590.42   |30985.29  |Yes     |0.0                 |0.0               |USD 17181.00|23606.69          |0.73         |6/24/24       |6/24/24     |FOB      |NaN              |35,992.67|1,906.99  |David Melo|6/24/24      |6/25/24     |5/24/24|NaN |CTX                  |NaN        |\n",
      "|Delivered|3409|PRIECOR S.A.                              |Maersk      |Puerto Bolivar  |Philadelphia   |MNBU0119518|900.0   |900.0            |27207.12   |33092.35  |Yes     |0.0                 |0.0               |USD 12690.00|17385.3           |0.73         |6/1/24        |6/17/24     |FOB      |US Clearance     |35,992.67|1,906.99  |David Melo|6/20/24      |6/29/24     |5/23/24|NaN |Holt                 |NaN        |\n",
      "|Delivered|3410|ASOGUABO                                  |Maersk      |Puerto Bolivar  |Philadelphia   |SUDU8170281|900.0   |900.0            |26871.82   |33152.63  |Yes     |0.0                 |0.0               |USD 12686.50|17380.5           |0.73         |6/1/24        |6/17/24     |FOB      |US Clearance     |35,992.67|1,906.99  |David Melo|6/20/24      |7/2/24      |5/23/24|NaN |NULL                 |NULL       |\n",
      "|Delivered|3411|COQUIMBA                                  |Maersk      |Puerto Cortes   |Philadelphia   |MNBU4395556|960.0   |960.0            |24884.75   |29332.93  |Yes     |0.0                 |0.0               |USD 9724.80 |13322.98          |0.73         |6/8/24        |6/17/24     |EXW      |Canada Inbond    |38,392.18|2,034.12  |David Melo|6/24/24      |6/24/24     |5/23/24|NaN |Holt                 |NaN        |\n",
      "|Delivered|3412|COQUIMBA                                  |Maersk      |Corinto         |Philadelphia   |MMAU1287409|960.0   |960.0            |24269.94   |29279.58  |Yes     |0.0                 |0.0               |USD 10416.00|14269.92          |0.73         |6/8/24        |6/24/24     |FOB      |Canada Inbond    |38,392.18|2,034.12  |David Melo|6/27/24      |6/27/24     |5/23/24|NaN |Holt                 |NaN        |\n",
      "|Delivered|3413|C.I. AGRICOLAS LAS FLORES S.A.S.          |Seaboard    |Santa Marta     |Philadelphia   |SEGU9722620|960.0   |960.0            |27476.56   |32169.9   |Yes     |0.0                 |0.0               |USD 13536.00|18544.32          |0.73         |6/6/24        |6/16/24     |FOB      |Canada Inbond    |38,392.18|2,034.12  |David Melo|6/21/24      |6/23/24     |5/23/24|NaN |Holt                 |NaN        |\n",
      "|Delivered|3414|Latbio S.A.                               |Maersk      |Puerto Bolivar  |Philadelphia   |MNBU3372746|915.0   |915.0            |25431.04   |25916.57  |Yes     |0.0                 |0.0               |USD 12841.50|17592.86          |0.73         |6/8/24        |6/24/24     |FOB      |US Clearance     |36,518.47|1,938.78  |David Melo|6/28/24      |6/28/24     |5/23/24|NaN |Highway Motor Freight|MNBU3372746|\n",
      "|Delivered|3415|Marplantis Organic Sustainable Agriculture|Seaboard    |Guayaquil       |Philadelphia   |BMOU9893380|900.0   |900.0            |27046.06   |33104.4   |Yes     |0.0                 |0.0               |USD 12690.00|17436.06          |0.73         |6/7/24        |6/17/24     |FOB      |US Clearance     |35,992.67|1,906.99  |David Melo|6/21/24      |6/26/24     |5/24/24|NaN |NULL                 |NULL       |\n",
      "|Delivered|3416|ASOGUABO                                  |Maersk      |Puerto Bolivar  |Philadelphia   |SUDU6111130|960.0   |960.0            |26411.37   |31035.11  |Yes     |0.0                 |0.0               |USD 12276.22|16818.42          |0.73         |6/1/24        |6/17/24     |FOB      |US Clearance     |38,392.18|2,034.12  |David Melo|6/22/24      |6/22/24     |5/23/24|NaN |Holt                 |NaN        |\n",
      "|Delivered|3417|Surgesa S.A.                              |ONE         |Guayaquil       |Philadelphia   |AXIU6108576|900.0   |900.0            |27436.7    |33056.18  |Yes     |0.0                 |0.0               |USD 13095.00|17992.53          |0.73         |6/7/24        |6/18/24     |FOB      |US Clearance     |35,992.67|1,906.99  |David Melo|6/22/24      |7/3/24      |5/24/24|NaN |Holt                 |NaN        |\n",
      "|Delivered|3418|Hacienda Celia María C.A.                 |Maersk      |Puerto Bolivar  |Philadelphia   |MNBU4082926|900.0   |900.0            |25771.28   |31346.85  |Yes     |0.0                 |0.0               |USD 12807.00|17545.59          |0.73         |6/1/24        |6/17/24     |FOB      |US Clearance     |0        |1,908.00  |David Melo|6/22/24      |6/24/24     |5/23/24|NaN |NULL                 |NULL       |\n",
      "+---------+----+------------------------------------------+------------+----------------+---------------+-----------+--------+-----------------+-----------+----------+--------+--------------------+------------------+------------+------------------+-------------+--------------+------------+---------+-----------------+---------+----------+----------+-------------+------------+-------+----+---------------------+-----------+\n",
      "only showing top 20 rows\n",
      "\n"
     ]
    }
   ],
   "execution_count": 15
  },
  {
   "metadata": {
    "ExecuteTime": {
     "end_time": "2025-07-14T17:33:43.540501Z",
     "start_time": "2025-07-14T17:33:42.767233Z"
    }
   },
   "cell_type": "code",
   "source": [
    "rep1= spark.sql (\n",
    "    '''\n",
    "select* from cargo_releases_limit\n",
    "    '''\n",
    ")\n",
    "\n",
    "rep1.show()\n",
    "# select carrier as cargo_carrier from cargo_releases_limit\n",
    "# where carrier != 'NaN'\n",
    "# group by carrier\n"
   ],
   "id": "c132d091e542fa64",
   "outputs": [
    {
     "name": "stdout",
     "output_type": "stream",
     "text": [
      "+----+------+----------+------+--------------------+--------------+-------+---------+----------+-----------------+------------+-------------+\n",
      "| job|number|container#|pieces|         released_to|purchase_order|carrier|weight_lb|volume_ft³|volume_weight_vlb|release_date|creation_date|\n",
      "+----+------+----------+------+--------------------+--------------+-------+---------+----------+-----------------+------------+-------------+\n",
      "|2446|  2446|       NaN|     1|Chiovitti Banana ...|        232045|    NaN|42,140.04|  2,359.37|        24,560.22|  04/20/2023|   04/19/2023|\n",
      "|2452|  2452|       NaN|     1|Chiovitti Banana ...|        232172|    NaN|42,140.04|  2,359.37|        24,560.22|  04/24/2023|   04/21/2023|\n",
      "|2472| 2472C|       NaN|   624|Chiovitti Banana ...|        232173|    NaN|24,954.92|  1,322.18|        13,763.43|  04/24/2023|   04/21/2023|\n",
      "|2472| 2472G|       NaN|   336|            GO FRESH|         13504|    NaN|13,437.26|    711.94|         7,411.08|  04/24/2023|   04/21/2023|\n",
      "|2529|  2529|       NaN|     1|Chiovitti Banana ...|        230235| Fulger|39,740.53|  2,359.37|        24,560.22|  01/12/2023|   01/11/2023|\n",
      "|2532|  2532|       NaN|     1|          Sobeys BCH|    4566068116|Connors|42,138.26|  2,359.37|        24,560.22|  01/05/2023|   01/04/2023|\n",
      "|2534|  2534|       NaN|     1|   Courchesne Larose|       2283921| Fulger| 3,747.86|  2,359.37|        24,560.22|  01/04/2023|   01/03/2023|\n",
      "|2537|  2537|       NaN|     1|Chiovitti Banana ...|        230106| Cheema|39,740.53|  2,359.37|        24,560.22|  01/05/2023|   01/04/2023|\n",
      "|2539|  2539|       NaN|     1|Chiovitti Banana ...|       Seafood|Seafood|39,740.53|  2,359.37|        24,560.22|  01/06/2023|   01/05/2023|\n",
      "|2541|  2541|       NaN|     1|Chiovitti Banana ...|        230105|    NaN|42,140.04|  2,359.37|        24,560.22|  01/06/2023|   01/05/2023|\n",
      "|2542| 2542C|       NaN|   624|Chiovitti Banana ...|        230104|Connors|24,954.92|  1,322.18|        13,763.43|  01/02/2023|   12/30/2022|\n",
      "|2542| 2542G|       NaN|   336|            GO FRESH|         12939|Connors|13,437.26|    711.94|         7,411.08|  01/02/2023|   12/30/2022|\n",
      "|2543|  2543|       NaN|     1|       Sobeys Whitby|    4541703851|Connors|42,138.26|  2,359.37|        24,560.22|  01/06/2023|   01/05/2023|\n",
      "|2545|  2545|       NaN|     1|   Courchesne Larose|   574-1222588|  Pride|39,740.53|  2,359.37|        24,560.22|  01/05/2023|   01/04/2023|\n",
      "|2546|  2546|       NaN|     1|Chiovitti Banana ...|        230109| Fulger|42,140.04|  2,359.37|        24,560.22|  01/07/2023|   01/06/2023|\n",
      "|2547|  2547|       NaN|     1|       Sobeys Whitby|    4541707718|    NaN|42,140.04|  2,359.37|        24,560.22|  01/13/2023|   01/12/2023|\n",
      "|2548| 2548C|       NaN|   720|Chiovitti Banana ...|        230107|    Xan|28,794.14|  1,525.59|        15,880.88|  01/05/2023|   01/05/2023|\n",
      "|2548| 2548G|       NaN|   240|            GO FRESH|         12940|    Xan| 9,598.05|    508.53|         5,293.63|  01/05/2023|   01/05/2023|\n",
      "|2549|  2549|       NaN|     1|Chiovitti Banana ...|        250109| Cheema|39,740.53|  2,359.37|        24,560.22|  01/07/2023|   01/06/2023|\n",
      "|2550|  2550|       NaN|     1|Chiovitti Banana ...|        230879|    NaN|42,140.04|  2,359.37|        24,560.22|  02/16/2023|   02/15/2023|\n",
      "+----+------+----------+------+--------------------+--------------+-------+---------+----------+-----------------+------------+-------------+\n",
      "only showing top 20 rows\n",
      "\n"
     ]
    }
   ],
   "execution_count": 19
  },
  {
   "metadata": {
    "ExecuteTime": {
     "end_time": "2025-07-14T14:58:51.968112Z",
     "start_time": "2025-07-14T14:58:51.360250Z"
    }
   },
   "cell_type": "code",
   "source": [
    "\n",
    "rep1.coalesce(1).write \\\n",
    "    .mode(\"overwrite\") \\\n",
    "    .option(\"header\", True) \\\n",
    "    .csv(\"output/ground_carrier\")"
   ],
   "id": "ea784eb96939348f",
   "outputs": [],
   "execution_count": 10
  },
  {
   "metadata": {
    "ExecuteTime": {
     "end_time": "2025-07-13T15:38:33.761976Z",
     "start_time": "2025-07-13T15:38:33.615798Z"
    }
   },
   "cell_type": "code",
   "source": [
    "result_with_job = spark.sql(\"\"\"\n",
    "SELECT\n",
    "       substring(number, 1, 4) AS job,\n",
    "       *\n",
    "FROM cargo_releases_1\n",
    "\n",
    "\n",
    "\"\"\")\n",
    "\n",
    "result_with_job.show()"
   ],
   "id": "feca91f7977410ba",
   "outputs": [
    {
     "name": "stdout",
     "output_type": "stream",
     "text": [
      "+----+---------+------+------------+--------------------+------+---------+----------+-------------+----------+-----------+-----------+---------------------+-----------------+---------------+-----+--------+-----------------------+--------------------+--------------------+---------------------+--------------------+----------+--------------+-------------+----------+-----------+\n",
      "| job|   status|number|release_date|         released_to|pieces|weight_lb|volume_ft³|creation_date|income_cad|expense_cad|balance_cad|exclude_from_tracking|volume_weight_vlb|       employee|notes| carrier|commodities_description|   issued_by_address|  release_to_address|purchase_order_number|      billing_client|is_printed|purchase_order|delivery_date|lot_number| container#|\n",
      "+----+---------+------+------------+--------------------+------+---------+----------+-------------+----------+-----------+-----------+---------------------+-----------------+---------------+-----+--------+-----------------------+--------------------+--------------------+---------------------+--------------------+----------+--------------+-------------+----------+-----------+\n",
      "|3000|Delivered|  3000|  08/21/2023|Krown Produce  Fr...|   900|35,992.67|  1,906.99|   08/18/2023| 31,169.73|       0.00|  31,169.73|                   No|        19,851.10|Claudia Ramirez|  NaN|     NaN|   Banano Cavendish ...|5311, boulevard d...|4923 47th Street ...|                  NaN|Krown Produce  Fr...|        No|       AL 0715|          NaN|       NaN|TEMU9502556|\n",
      "|3001|Delivered|  3001|  08/29/2023|   Courchesne Larose|     1| 3,747.86|  2,359.59|   08/28/2023| 34,696.62|       0.00|  34,696.62|                   No|        24,562.48|Claudia Ramirez|  NaN|     NaN|                    NaN|5311, boulevard d...|9761 boul. des Sc...|                  NaN|   Courchesne Larose|        No|    5740822214|          NaN|       NaN|        NaN|\n",
      "|3002|Delivered|  3002|  08/28/2023|          Sobeys BCH|     1| 3,747.86|  2,359.59|   08/25/2023| 31,403.52|       0.00|  31,403.52|                   No|        24,562.48|Claudia Ramirez|  NaN|     NaN|                    NaN|5311, boulevard d...|1500 Bd de Montar...|                  NaN|          Sobeys BCH|        No|    4566335551|          NaN|       NaN|TEMU9465072|\n",
      "|3003|Delivered|  3003|  08/27/2023|Chiovitti Banana ...|     1| 3,747.86|  2,359.59|   08/25/2023| 29,563.14|       0.00|  29,563.14|                   No|        24,562.48|Claudia Ramirez|  NaN|     NaN|                    NaN|5311, boulevard d...|26 Magnificent Ro...|                  NaN|Chiovitti Banana ...|        No|        234702|          NaN|       NaN|        NaN|\n",
      "|3004|Delivered| 3004C|  08/28/2023|Chiovitti Banana ...|   576|23,035.31|  1,220.47|   08/28/2023| 20,961.85|       0.00|  20,961.85|                   No|        12,704.70|Claudia Ramirez|  NaN|     NaN|   Banano Cavendish ...|5311, boulevard d...|26 Magnificent Ro...|                  NaN|Chiovitti Banana ...|        No|        234701|          NaN|       NaN|        NaN|\n",
      "|3004|Delivered| 3004G|  08/28/2023|            GO FRESH|   384|15,356.87|    813.65|   08/28/2023| 14,094.95|       0.00|  14,094.95|                   No|         8,469.80|Claudia Ramirez|  NaN|     NaN|   Banano Cavendish ...|5311, boulevard d...|302 Dwight Avenue...|                  NaN|            GO FRESH|        No|         14327|          NaN|       NaN|        NaN|\n",
      "|3005|Delivered|  3005|  09/12/2023|Chiovitti Banana ...|     1| 3,747.86|  2,359.59|   09/11/2023| 34,392.71|       0.00|  34,392.71|                   No|        24,562.48|Claudia Ramirez|  NaN|RF Cargo|                    NaN|5311, boulevard d...|26 Magnificent Ro...|                  NaN|Chiovitti Banana ...|        No|        234996|          NaN|       NaN|        NaN|\n",
      "|3006|Delivered|  3006|  09/02/2023|Chiovitti Banana ...|     1| 3,747.86|  2,359.59|   09/01/2023| 34,440.65|       0.00|  34,440.65|                   No|        24,562.48|Claudia Ramirez|  NaN|     NaN|                    NaN|5311, boulevard d...|26 Magnificent Ro...|                  NaN|Chiovitti Banana ...|        No|        234705|          NaN|       NaN|        NaN|\n",
      "|3007|Delivered|  3007|  08/27/2023|Chiovitti Banana ...|     1| 3,747.86|  2,359.59|   08/25/2023| 34,392.71|       0.00|  34,392.71|                   No|        24,562.48|Claudia Ramirez|  NaN|     NaN|                    NaN|5311, boulevard d...|26 Magnificent Ro...|                  NaN|Chiovitti Banana ...|        No|        234699|          NaN|       NaN|        NaN|\n",
      "|3008|Delivered|  3008|  08/24/2023|          Top Banana|     1| 3,747.86|  2,359.59|   08/24/2023| 32,253.86|       0.00|  32,253.86|                   No|        24,562.48|Claudia Ramirez|  NaN|     NaN|                    NaN|5311, boulevard d...|415 NYC Terminal ...|                  NaN|          Top Banana|        No|        082423|          NaN|       NaN|MNBU4296152|\n",
      "|3009|Delivered|  3009|  08/08/2023|Chiovitti Banana ...|     1| 3,747.86|  2,359.59|   08/07/2023| 34,177.20|       0.00|  34,177.20|                   No|        24,562.48|Claudia Ramirez|  NaN|     NaN|                    NaN|5311, boulevard d...|26 Magnificent Ro...|                  NaN|Chiovitti Banana ...|        No|        234269|          NaN|       NaN|        NaN|\n",
      "|3010|Delivered|  3010|  08/31/2023|          Sobeys BCH|     1| 3,747.86|  2,359.59|   09/08/2023| 31,288.32|       0.00|  31,288.32|                   No|        24,562.48|Claudia Ramirez|  NaN|  Savoie|                    NaN|5311, boulevard d...|1500 Bd de Montar...|                  NaN|          Sobeys BCH|        No|    4566335552|          NaN|       NaN|BMOU9885370|\n",
      "|3011|Delivered|  3011|  09/06/2023|   Courchesne Larose|     1| 3,747.86|  2,359.59|   09/05/2023| 34,506.68|       0.00|  34,506.68|                   No|        24,562.48|Claudia Ramirez|  NaN|     NaN|                    NaN|5311, boulevard d...|9761 boul. des Sc...|                  NaN|   Courchesne Larose|        No|    5740829164|          NaN|       NaN|        NaN|\n",
      "|3012|Delivered|  3012|  09/03/2023|Chiovitti Banana ...|     1| 3,747.86|  2,359.59|   09/01/2023| 34,633.31|       0.00|  34,633.31|                   No|        24,562.48|Claudia Ramirez|  NaN|     NaN|                    NaN|5311, boulevard d...|26 Magnificent Ro...|                  NaN|Chiovitti Banana ...|        No|        234706|          NaN|       NaN|        NaN|\n",
      "|3013|Delivered|  3013|  09/02/2023|   Courchesne Larose|     1| 3,747.86|  2,359.59|   09/01/2023| 34,613.80|       0.00|  34,613.80|                   No|        24,562.48|Claudia Ramirez|  NaN|     NaN|                    NaN|5311, boulevard d...|9761 boul. des Sc...|                  NaN|   Courchesne Larose|        No|       2366430|          NaN|       NaN|        NaN|\n",
      "|3014|Delivered|  3014|  09/01/2023|   Courchesne Larose|   900|35,992.67|  1,906.99|   08/31/2023| 34,696.62|       0.00|  34,696.62|                   No|        19,851.10|Claudia Ramirez|  NaN|     NaN|   Banano Cavendish ...|5311, boulevard d...|9761 boul. des Sc...|                  NaN|   Courchesne Larose|        No|    5740822227|          NaN|       NaN|        NaN|\n",
      "|3015|Delivered|  3015|  09/04/2023|Chiovitti Banana ...|   900|35,992.67|  1,906.99|   09/01/2023| 34,696.62|       0.00|  34,696.62|                   No|        19,851.10|Claudia Ramirez|  NaN|     NaN|   Banano Cavendish ...|5311, boulevard d...|26 Magnificent Ro...|                  NaN|Chiovitti Banana ...|        No|        234847|          NaN|       NaN|        NaN|\n",
      "|3016|Delivered|  3016|  09/05/2023|          Sobeys BCH|     1| 3,747.86|  2,359.59|   09/01/2023| 31,564.80|       0.00|  31,564.80|                   No|        24,562.48|Claudia Ramirez|  NaN|  Savoie|                    NaN|5311, boulevard d...|1500 Bd de Montar...|                  NaN|          Sobeys BCH|        No|    4566382787|          NaN|       NaN|SEGU9545150|\n",
      "|3017|Delivered|  3017|  08/30/2023|Chiovitti Banana ...|     1| 3,747.86|  2,359.59|   08/29/2023| 29,584.90|       0.00|  29,584.90|                   No|        24,562.48|Claudia Ramirez|  NaN|     NaN|                    NaN|5311, boulevard d...|26 Magnificent Ro...|                  NaN|Chiovitti Banana ...|        No|        234702|          NaN|       NaN|        NaN|\n",
      "|3018|Delivered|  3018|  09/10/2023|Chiovitti Banana ...|     1| 3,747.86|  2,359.59|   09/08/2023| 34,494.01|       0.00|  34,494.01|                   No|        24,562.48|Claudia Ramirez|  NaN|     NaN|                    NaN|5311, boulevard d...|26 Magnificent Ro...|                  NaN|Chiovitti Banana ...|        No|        234993|          NaN|       NaN|        NaN|\n",
      "+----+---------+------+------------+--------------------+------+---------+----------+-------------+----------+-----------+-----------+---------------------+-----------------+---------------+-----+--------+-----------------------+--------------------+--------------------+---------------------+--------------------+----------+--------------+-------------+----------+-----------+\n",
      "only showing top 20 rows\n",
      "\n"
     ]
    }
   ],
   "execution_count": 35
  },
  {
   "metadata": {
    "ExecuteTime": {
     "end_time": "2025-07-13T15:49:27.172292Z",
     "start_time": "2025-07-13T15:49:26.717954Z"
    }
   },
   "cell_type": "code",
   "source": [
    "# convert to pandas\n",
    "df = result_1.toPandas()"
   ],
   "id": "df8d3291b858e349",
   "outputs": [],
   "execution_count": 46
  },
  {
   "metadata": {
    "ExecuteTime": {
     "end_time": "2025-07-13T15:50:17.092875Z",
     "start_time": "2025-07-13T15:50:17.089279Z"
    }
   },
   "cell_type": "code",
   "source": [
    "\n",
    "print(df['status'].unique())\n"
   ],
   "id": "f23fb4c3c86f52ea",
   "outputs": [
    {
     "name": "stdout",
     "output_type": "stream",
     "text": [
      "['Delivered' 'Empty']\n"
     ]
    }
   ],
   "execution_count": 48
  },
  {
   "metadata": {
    "ExecuteTime": {
     "end_time": "2025-07-14T15:09:07.637052Z",
     "start_time": "2025-07-14T15:09:07.321247Z"
    }
   },
   "cell_type": "code",
   "source": [
    "dfc= pd. read_csv('Commodity_list.csv')\n",
    "# Convert pandas → Spark\n",
    "spark_dfc= spark.createDataFrame(dfc)\n",
    "spark_dfc.show()"
   ],
   "id": "e5e47532076f0cb2",
   "outputs": [
    {
     "name": "stdout",
     "output_type": "stream",
     "text": [
      "+-------+----------+----------------------+---------------------+----------------------+-------------------------+-----------------------------+---------------------------+-----------------------------+---------------------------+-----------+--------------------------+------+-----------------------+-----------------+----------------------------+----------------------------+------------------------------+------------------+-------------------------+-------------------------------+--------------------------+--------------------------+--------------------------+----------------------+---------------------+----------------------------------+--------------------------------+--------------------------+----------------------+--------------+------------+--------------------+--------------------------------+--------------------+-----------+-----------+----------+-----------+------------+-------------------+-------------+--------------------+-----------------+------------------+--------------+---------------------+-----------------+------------+-------------+---------------+-------------------+--------------------+--------------------+--------------------+--------------------+--------------------+------------+--------------------+-----------------+----------+--------+-------------+---------+-----+-------+-----------------------+--------------+----------------+---------------------+------------------+-----------------------+-------------------+----------------------+----------+------------------+---------+-----------------+-------------+----------------+--------------+--------------------+-------+-------+---------+---------------------------------+----------------------------+-----------------------------------+\n",
      "| Status|Job:Number|Incoming Shipment:Name|Purchase Order:Seller|Purchase Order:Carrier|Purchase Order:Container#|Purchase Order:Bill of Lading|Purchase Order:Harvest date|Purchase Order:Departure Date|Purchase Order:Arrival Date|Part Number|Item Definition:Categories|Pieces|Purchase Order:Customer|Sales Order:Buyer|Purchase Order:Shipping Date|Cargo Release:Purchase Order|Purchase Order:Port of Arrival|Purchase Order:ISF|Purchase Order:US Customs|Purchase Order:Canadian Customs|Purchase Order:PARS number|Purchase Order:Temperature|Purchase Order:Ventilation|Purchase Order:Pallets|Purchase Order:Number|Incoming Shipment:Container Number|Incoming Shipment:Master Waybill|Sales Order:Billing Client|Warehouse Receipt Date|Departure Date|Arrival Date|         Description|Incoming Shipment:Waybill Number|             Package|Length (in)|Height (in)|Width (in)|Weight (lb)|Volume (ft³)|Pickup Order:Number|Location Code|Location Description|Piece Weight (lb)|Piece Volume (ft³)|         Model|Purchase Order Number|Warehouse Receipt|Pickup Order|Cargo Release|   Waybill (in)|Master Waybill (in)|             Shipper|           Consignee|         WHR Shipper|       WHR Consignee|           Issued By|Carrier (in)|   Notify Party     |Place of Delivery|Entry Date|Quantity|Unitary Value|    Value| Unit|Item ID|Modes of Transportation|   Origin Port|Destination Port|Secondary Description|        Dimensions|Arrival Date (Incoming)|Volume weight (Vlb)|Chargeable Weight (lb)|Job Number|Sales Order Number|In Pallet|Previous Location|Release Order|Container Number|Contained Item|        Manufacturer|PO Line|SO Line|Lead Time|Imported Warehouse Receipt Number|Imported Pickup Order Number|Incoming Shipment:Notify Party     |\n",
      "+-------+----------+----------------------+---------------------+----------------------+-------------------------+-----------------------------+---------------------------+-----------------------------+---------------------------+-----------+--------------------------+------+-----------------------+-----------------+----------------------------+----------------------------+------------------------------+------------------+-------------------------+-------------------------------+--------------------------+--------------------------+--------------------------+----------------------+---------------------+----------------------------------+--------------------------------+--------------------------+----------------------+--------------+------------+--------------------+--------------------------------+--------------------+-----------+-----------+----------+-----------+------------+-------------------+-------------+--------------------+-----------------+------------------+--------------+---------------------+-----------------+------------+-------------+---------------+-------------------+--------------------+--------------------+--------------------+--------------------+--------------------+------------+--------------------+-----------------+----------+--------+-------------+---------+-----+-------+-----------------------+--------------+----------------+---------------------+------------------+-----------------------+-------------------+----------------------+----------+------------------+---------+-----------------+-------------+----------------+--------------+--------------------+-------+-------+---------+---------------------------------+----------------------------+-----------------------------------+\n",
      "|Ordered|    4637.0|                   NaN| Marplantis Organi...|                Maersk|                      NaN|                MAEU249009979|                        NaN|                   18/01/2025|                 03/02/2025|   007ECMAR|                       NaN|   900|                    NaN|              NaN|                  13/02/2025|                         NaN|                  Philadelphia|            <none>|                   <none>|                         <none>|                       NaN|                      13.9|                      25.0|   Walk Global/Escobar|               4637.0|                               NaN|                             NaN|                       NaN|                   NaN|           NaN|         NaN|Banano Cavendish ...|                             NaN|Caja con tapa org...|      15.75|       9.06|     24.02|  35,992.67|    1,906.99|                NaN|          NaN|                 NaN|            39.99|              2.12|Organic banana|                 4637|              NaN|         NaN|          NaN|            NaN|                NaN|                 NaN|                 NaN|                 NaN|                 NaN|                 NaN|         NaN|                 NaN|              NaN|01/10/2025|   900.0|        20.37|18,337.05|Cases|      0|                    NaN|           NaN|             NaN| Banano Cavendish ...|15.75x24.02x9.06in|                    NaN|          19,851.10|             35,992.67|    4637.0|               NaN|       No|              NaN|            0|             NaN|            No|Marplantis Organi...|      1|      0|        0|                              NaN|                         NaN|                                NaN|\n",
      "|Ordered|    4634.0|                   NaN| C.I. AGRICOLAS LA...|         Dole Shipping|                      NaN|                          NaN|                        NaN|                   25/01/2025|                 02/02/2025|   001COCIA|                   Organic|   960|                    NaN|              NaN|                  10/02/2025|                         NaN|                    Wilmington|            <none>|                   <none>|                         <none>|                       NaN|                      13.9|                      25.0|                  Chep|               4634.0|                               NaN|                             NaN|                       NaN|                   NaN|           NaN|         NaN|Banano Cavendish ...|                             NaN|Caja con tapa org...|      15.75|       9.06|     24.02|  38,392.18|    2,034.12|                NaN|          NaN|                 NaN|            39.99|              2.12|Organic banana|                 4634|              NaN|         NaN|          NaN|            NaN|                NaN|                 NaN|                 NaN|                 NaN|                 NaN|                 NaN|         NaN|                 NaN|              NaN|01/08/2025|   960.0|        20.36|19,545.98|Cases|      0|                    NaN|           NaN|             NaN| Banano Cavendish ...|15.75x24.02x9.06in|                    NaN|          21,174.50|             38,392.18|    4634.0|               NaN|       No|              NaN|            0|             NaN|            No|C.I. AGRICOLAS LA...|      1|      0|        0|                              NaN|                         NaN|                                NaN|\n",
      "|Ordered|    4631.0|                   NaN|          Latbio S.A.|                Maersk|                      NaN|                MAEU248914945|                        NaN|                   18/01/2025|                 03/02/2025|   007ECLAT|                       NaN|   900|                    NaN|              NaN|                  12/02/2025|                         NaN|                  Philadelphia|            <none>|                   <none>|                         <none>|                       NaN|                      13.9|                      25.0|   Walk Global/Escobar|               4631.0|                               NaN|                             NaN|                       NaN|                   NaN|           NaN|         NaN|Banano Cavendish ...|                             NaN|            Can Case|      15.75|       9.06|     24.02|  35,992.67|    1,906.99|                NaN|          NaN|                 NaN|            39.99|              2.12|Organic Banana|                 4631|              NaN|         NaN|          NaN|            NaN|                NaN|                 NaN|                 NaN|                 NaN|                 NaN|                 NaN|         NaN|                 NaN|              NaN|01/08/2025|   900.0|          0.0|     0.00|Cases|      0|                    NaN|           NaN|             NaN| Banano Cavendish ...|15.75x24.02x9.06in|                    NaN|          19,851.10|             35,992.67|    4631.0|               NaN|       No|              NaN|            0|             NaN|            No|         Latbio S.A.|      1|      0|        0|                              NaN|                         NaN|                                NaN|\n",
      "|Ordered|    4630.0|                   NaN| Hacienda Celia Ma...|                Maersk|                      NaN|                MAEU248914871|                        NaN|                   18/01/2025|                 03/02/2025|   007ECHCM|                       NaN|   900|                    NaN|              NaN|                  11/02/2025|                         NaN|                  Philadelphia|            <none>|                   <none>|                         <none>|                       NaN|                      13.9|                      25.0|   Walk Global/Escobar|               4630.0|                               NaN|                             NaN|                       NaN|                   NaN|           NaN|         NaN|Banano Cavendish ...|                             NaN|Bandeja Organica/...|      15.75|       9.06|     24.02|       0.00|    1,908.00|                NaN|          NaN|                 NaN|              0.0|              2.12|Organic banana|                 4630|              NaN|         NaN|          NaN|            NaN|                NaN|                 NaN|                 NaN|                 NaN|                 NaN|                 NaN|         NaN|                 NaN|              NaN|01/08/2025|   900.0|        20.55|18,493.31|Cases|      0|                    NaN|           NaN|             NaN| Banano Cavendish ...|15.75x24.02x9.06in|                    NaN|          19,861.59|             19,861.59|    4630.0|               NaN|       No|              NaN|            0|             NaN|            No|Hacienda Celia Ma...|      1|      0|        0|                              NaN|                         NaN|                                NaN|\n",
      "|Ordered|    4633.0|                   NaN| C.I. AGRICOLAS LA...|              Seaboard|                      NaN|                          NaN|                        NaN|                   25/01/2025|                 04/02/2025|   001COCIA|                   Organic|   960|                    NaN|              NaN|                  12/02/2025|                         NaN|                  Philadelphia|            <none>|                   <none>|                         <none>|                       NaN|                      13.9|                      25.0|                  Chep|               4633.0|                               NaN|                             NaN|                       NaN|                   NaN|           NaN|         NaN|Banano Cavendish ...|                             NaN|Caja con tapa org...|      15.75|       9.06|     24.02|  38,392.18|    2,034.12|                NaN|          NaN|                 NaN|            39.99|              2.12|Organic banana|                 4633|              NaN|         NaN|          NaN|            NaN|                NaN|                 NaN|                 NaN|                 NaN|                 NaN|                 NaN|         NaN|                 NaN|              NaN|01/08/2025|   960.0|        20.36|19,545.98|Cases|      0|                    NaN|           NaN|             NaN| Banano Cavendish ...|15.75x24.02x9.06in|                    NaN|          21,174.50|             38,392.18|    4633.0|               NaN|       No|              NaN|            0|             NaN|            No|C.I. AGRICOLAS LA...|      2|      0|        0|                              NaN|                         NaN|                                NaN|\n",
      "|Ordered|    4632.0|                   NaN|             ASOGUABO|                Maersk|                      NaN|                MAEU248915161|                        NaN|                   18/01/2025|                 03/02/2025|   001ECELG|                   Organic|   960|                    NaN|              NaN|                  10/02/2025|                         NaN|                  Philadelphia|            <none>|                   <none>|                         <none>|                       NaN|                      13.9|                      25.0|             Tipo CHEP|               4632.0|                               NaN|                             NaN|                       NaN|                   NaN|           NaN|         NaN|Banano Cavendish ...|                             NaN|Caja con tapa org...|      15.75|       9.06|     24.02|  38,392.18|    2,034.12|                NaN|          NaN|                 NaN|            39.99|              2.12|Organic banana|                 4632|              NaN|         NaN|          NaN|            NaN|                NaN|                 NaN|                 NaN|                 NaN|                 NaN|                 NaN|         NaN|                 NaN|              NaN|01/08/2025|   960.0|        20.07|19,268.74|Cases|      0|                    NaN|           NaN|             NaN| Banano Cavendish ...|15.75x24.02x9.06in|                    NaN|          21,174.50|             38,392.18|    4632.0|               NaN|       No|              NaN|            0|             NaN|            No|            ASOGUABO|      1|      0|        0|                              NaN|                         NaN|                                NaN|\n",
      "|Ordered|    4626.0|                   NaN|             ASOGUABO|        COSCO Shipping|                      NaN|                          NaN|                        NaN|                   18/01/2025|                 29/01/2025|   001ECELG|                   Organic|   960|                    NaN|              NaN|                  06/02/2025|                         NaN|                  Philadelphia|            <none>|                   <none>|                         <none>|                       NaN|                      13.9|                      25.0|   Walk Global/Escobar|               4626.0|                               NaN|                             NaN|                       NaN|                   NaN|           NaN|         NaN|Banano Cavendish ...|                             NaN|Caja con tapa org...|      15.75|       9.06|     24.02|  38,392.18|    2,034.12|                NaN|          NaN|                 NaN|            39.99|              2.12|Organic banana|                 4626|              NaN|         NaN|          NaN|            NaN|                NaN|                 NaN|                 NaN|                 NaN|                 NaN|                 NaN|         NaN|                 NaN|              NaN|01/08/2025|   960.0|        20.07|19,268.74|Cases|      0|                    NaN|           NaN|             NaN| Banano Cavendish ...|15.75x24.02x9.06in|                    NaN|          21,174.50|             38,392.18|    4626.0|               NaN|       No|              NaN|            0|             NaN|            No|            ASOGUABO|      1|      0|        0|                              NaN|                         NaN|                                NaN|\n",
      "|Ordered|    4625.0|                   NaN|             ASOGUABO|        COSCO Shipping|                      NaN|                          NaN|                        NaN|                   18/01/2025|                 29/01/2025|   007ECELG|                    Costco|   900|                    NaN|              NaN|                  10/02/2025|                         NaN|                  Philadelphia|            <none>|                   <none>|                         <none>|                       NaN|                      13.9|                      25.0|   Walk Global/Escobar|               4625.0|                               NaN|                             NaN|                       NaN|                   NaN|           NaN|         NaN|Banano Cavendish ...|                             NaN|Bandeja Organica/...|      15.75|       9.06|     24.02|  35,992.67|    1,906.99|                NaN|          NaN|                 NaN|            39.99|              2.12|Organic banana|                 4625|              NaN|         NaN|          NaN|            NaN|                NaN|                 NaN|                 NaN|                 NaN|                 NaN|                 NaN|         NaN|                 NaN|              NaN|01/08/2025|   900.0|        20.29|18,259.38|Cases|      0|                    NaN|           NaN|             NaN| Banano Cavendish ...|15.75x24.02x9.06in|                    NaN|          19,851.10|             35,992.67|    4625.0|               NaN|       No|              NaN|            0|             NaN|            No|            ASOGUABO|      1|      0|        0|                              NaN|                         NaN|                                NaN|\n",
      "|Ordered|    4635.0|                   NaN|             ASOGUABO|         Dole Shipping|                      NaN|                          NaN|                        NaN|                   17/01/2025|                 26/01/2025|   007ECELG|                    Costco|   900|                    NaN|              NaN|                  10/02/2025|                         NaN|                     San Diego|            <none>|                   <none>|                         <none>|                       NaN|                      13.9|                      25.0|   Walk Global/Escobar|               4635.0|                               NaN|                             NaN|                       NaN|                   NaN|           NaN|         NaN|Banano Cavendish ...|                             NaN|Bandeja Organica/...|      15.75|       9.06|     24.02|  35,992.67|    1,906.99|                NaN|          NaN|                 NaN|            39.99|              2.12|Organic banana|                 4635|              NaN|         NaN|          NaN|            NaN|                NaN|                 NaN|                 NaN|                 NaN|                 NaN|                 NaN|         NaN|                 NaN|              NaN|01/08/2025|   900.0|        20.29|18,259.38|Cases|      0|                    NaN|           NaN|             NaN| Banano Cavendish ...|15.75x24.02x9.06in|                    NaN|          19,851.10|             35,992.67|    4635.0|               NaN|       No|              NaN|            0|             NaN|            No|            ASOGUABO|      1|      0|        0|                              NaN|                         NaN|                                NaN|\n",
      "|Ordered|    4629.0|                   NaN|             ASOGUABO|                Maersk|                      NaN|                MAEU248961776|                        NaN|                   18/01/2025|                 03/02/2025|   007ECELG|                    Costco|   900|                    NaN|              NaN|                  07/02/2025|                         NaN|                  Philadelphia|            <none>|                   <none>|                         <none>|                       NaN|                      13.9|                      25.0|   Walk Global/Escobar|               4629.0|                               NaN|                             NaN|                       NaN|                   NaN|           NaN|         NaN|Banano Cavendish ...|                             NaN|Bandeja Organica/...|      15.75|       9.06|     24.02|  35,992.67|    1,906.99|                NaN|          NaN|                 NaN|            39.99|              2.12|Organic banana|                 4629|              NaN|         NaN|          NaN|            NaN|                NaN|                 NaN|                 NaN|                 NaN|                 NaN|                 NaN|         NaN|                 NaN|              NaN|01/08/2025|   900.0|        20.29|18,259.38|Cases|      0|                    NaN|           NaN|             NaN| Banano Cavendish ...|15.75x24.02x9.06in|                    NaN|          19,851.10|             35,992.67|    4629.0|               NaN|       No|              NaN|            0|             NaN|            No|            ASOGUABO|      1|      0|        0|                              NaN|                         NaN|                                NaN|\n",
      "|Ordered|    4624.0|                   NaN|             ASOGUABO|              Seaboard|                      NaN|                          NaN|                        NaN|                   17/01/2025|                 26/01/2025|   007ECELG|                    Costco|   900|                    NaN|              NaN|                  09/02/2025|                         NaN|                  Philadelphia|            <none>|                   <none>|                         <none>|                       NaN|                      13.9|                      25.0|   Walk Global/Escobar|               4624.0|                               NaN|                             NaN|                       NaN|                   NaN|           NaN|         NaN|Banano Cavendish ...|                             NaN|Bandeja Organica/...|      15.75|       9.06|     24.02|  35,992.67|    1,906.99|                NaN|          NaN|                 NaN|            39.99|              2.12|Organic banana|                 4624|              NaN|         NaN|          NaN|            NaN|                NaN|                 NaN|                 NaN|                 NaN|                 NaN|                 NaN|         NaN|                 NaN|              NaN|01/08/2025|   900.0|        20.29|18,259.38|Cases|      0|                    NaN|           NaN|             NaN| Banano Cavendish ...|15.75x24.02x9.06in|                    NaN|          19,851.10|             35,992.67|    4624.0|               NaN|       No|              NaN|            0|             NaN|            No|            ASOGUABO|      1|      0|        0|                              NaN|                         NaN|                                NaN|\n",
      "|Ordered|    4627.0|                   NaN|         PRIECOR S.A.|                Maersk|                      NaN|                MAEU248914830|                        NaN|                   18/01/2025|                 03/02/2025|   007ECPRI|                       NaN|   900|                    NaN|              NaN|                  10/02/2025|                         NaN|                  Philadelphia|            <none>|                   <none>|                         <none>|                       NaN|                      13.9|                      25.0|   Walk Global/Escobar|               4627.0|                               NaN|                             NaN|                       NaN|                   NaN|           NaN|         NaN|Banano Cavendish ...|                             NaN|Bandeja Organica/...|      15.75|       9.06|     24.02|  35,991.00|    1,908.00|                NaN|          NaN|                 NaN|            39.99|              2.12|Organic banana|                 4627|              NaN|         NaN|          NaN|            NaN|                NaN|                 NaN|                 NaN|                 NaN|                 NaN|                 NaN|         NaN|                 NaN|              NaN|01/08/2025|   900.0|        20.36|18,324.36|Cases|      0|                    NaN|           NaN|             NaN| Banano Cavendish ...|15.75x24.02x9.06in|                    NaN|          19,861.59|             35,991.00|    4627.0|               NaN|       No|              NaN|            0|             NaN|            No|        PRIECOR S.A.|      1|      0|        0|                              NaN|                         NaN|                                NaN|\n",
      "|Ordered|    4621.0|                   NaN|         Surgesa S.A.|                   ONE|                      NaN|                          NaN|                        NaN|                   18/01/2025|                 29/01/2025|   007ECSUR|                       NaN|   900|                    NaN|              NaN|                  07/02/2025|                         NaN|                  Philadelphia|            <none>|                   <none>|                         <none>|                       NaN|                      13.9|                      25.0|   Walk Global/Escobar|               4621.0|                               NaN|                             NaN|                       NaN|                   NaN|           NaN|         NaN|Banano Cavendish ...|                             NaN|Bandeja Organica/...|      15.75|       9.06|     24.02|  35,992.67|    1,906.99|                NaN|          NaN|                 NaN|            39.99|              2.12|Organic banana|                 4621|              NaN|         NaN|          NaN|            NaN|                NaN|                 NaN|                 NaN|                 NaN|                 NaN|                 NaN|         NaN|                 NaN|              NaN|01/08/2025|   900.0|        21.01|18,909.18|  NaN|      0|                    NaN|           NaN|             NaN| Banano Cavendish ...|15.75x24.02x9.06in|                    NaN|          19,851.10|             35,992.67|    4621.0|               NaN|       No|              NaN|            0|             NaN|            No|        Surgesa S.A.|      1|      0|        0|                              NaN|                         NaN|                                NaN|\n",
      "|Ordered|    4620.0|                   NaN|         Surgesa S.A.|                   ONE|                      NaN|                          NaN|                        NaN|                   18/01/2025|                 29/01/2025|   007ECSUR|                       NaN|   900|                    NaN|              NaN|                  06/02/2025|                         NaN|                  Philadelphia|            <none>|                   <none>|                         <none>|                       NaN|                      13.9|                      25.0|   Walk Global/Escobar|               4620.0|                               NaN|                             NaN|                       NaN|                   NaN|           NaN|         NaN|Banano Cavendish ...|                             NaN|Bandeja Organica/...|      15.75|       9.06|     24.02|  35,992.67|    1,906.99|                NaN|          NaN|                 NaN|            39.99|              2.12|Organic banana|                 4620|              NaN|         NaN|          NaN|            NaN|                NaN|                 NaN|                 NaN|                 NaN|                 NaN|                 NaN|         NaN|                 NaN|              NaN|01/08/2025|   900.0|        21.01|18,909.18|  NaN|      0|                    NaN|           NaN|             NaN| Banano Cavendish ...|15.75x24.02x9.06in|                    NaN|          19,851.10|             35,992.67|    4620.0|               NaN|       No|              NaN|            0|             NaN|            No|        Surgesa S.A.|      1|      0|        0|                              NaN|                         NaN|                                NaN|\n",
      "|Ordered|    4623.0|                   NaN| Marplantis Organi...|                   ZIM|                      NaN|                          NaN|                        NaN|                   19/01/2025|                 31/01/2025|   007ECMAR|                       NaN|   900|                    NaN|              NaN|                  08/03/2025|                         NaN|                  Philadelphia|            <none>|                   <none>|                         <none>|                       NaN|                      13.9|                      25.0|   Walk Global/Escobar|               4623.0|                               NaN|                             NaN|                       NaN|                   NaN|           NaN|         NaN|Banano Cavendish ...|                             NaN|Caja con tapa org...|      15.75|       9.06|     24.02|  35,992.67|    1,906.99|                NaN|          NaN|                 NaN|            39.99|              2.12|Organic banana|                 4623|              NaN|         NaN|          NaN|            NaN|                NaN|                 NaN|                 NaN|                 NaN|                 NaN|                 NaN|         NaN|                 NaN|              NaN|01/08/2025|   900.0|        20.36|18,324.36|Cases|      0|                    NaN|           NaN|             NaN| Banano Cavendish ...|15.75x24.02x9.06in|                    NaN|          19,851.10|             35,992.67|    4623.0|               NaN|       No|              NaN|            0|             NaN|            No|Marplantis Organi...|      1|      0|        0|                              NaN|                         NaN|                                NaN|\n",
      "|Ordered|    4622.0|                   NaN| Marplantis Organi...|                   ZIM|                      NaN|                          NaN|                        NaN|                   19/01/2025|                 31/01/2025|   007ECMAR|                       NaN|   900|                    NaN|              NaN|                  07/02/2025|                         NaN|                  Philadelphia|            <none>|                   <none>|                         <none>|                       NaN|                      13.9|                      25.0|   Walk Global/Escobar|               4622.0|                               NaN|                             NaN|                       NaN|                   NaN|           NaN|         NaN|Banano Cavendish ...|                             NaN|Caja con tapa org...|      15.75|       9.06|     24.02|  35,992.67|    1,906.99|                NaN|          NaN|                 NaN|            39.99|              2.12|Organic banana|                 4622|              NaN|         NaN|          NaN|            NaN|                NaN|                 NaN|                 NaN|                 NaN|                 NaN|                 NaN|         NaN|                 NaN|              NaN|01/08/2025|   900.0|        20.36|18,324.36|Cases|      0|                    NaN|           NaN|             NaN| Banano Cavendish ...|15.75x24.02x9.06in|                    NaN|          19,851.10|             35,992.67|    4622.0|               NaN|       No|              NaN|            0|             NaN|            No|Marplantis Organi...|      1|      0|        0|                              NaN|                         NaN|                                NaN|\n",
      "|On Hand|    4619.0|                  4619| Marplantis Organi...|                Maersk|                      NaN|                MAEU248855733|                        NaN|                   11/01/2025|                 27/01/2025|   001ECMAR|                       NaN|   960|                    NaN|              NaN|                  03/02/2025|                         NaN|                  Philadelphia|               Yes|                   <none>|                         <none>|                       NaN|                      13.9|                      25.0|             Tipo CHEP|               4619.0|                               NaN|                   MAEU248855733|                       NaN|            01/07/2025|    01/11/2025|  01/27/2025|Banano Cavendish ...|                   MAEU248855733|Caja con tapa org...|        0.0|        0.0|       0.0|  38,390.40|        0.00|                NaN|      PA PORT|   Philadelphia Port|            39.99|               0.0|Organic banana|                 4619|             4619|         NaN|          NaN|  MAEU248855733|      MAEU248855733|Marplantis Organi...|United Safety Agents|Marplantis Organi...|United Safety Agents|DELAWARE AVENUE E...|      Maersk|   Courchesne Larose|         Montreal|01/07/2025|   960.0|        20.02|19,217.52| Casa|      2|   Vessel, Container...|Puerto Bolivar|    Philadelphia| Banano Cavendish ...|  0.00x0.00x0.00in|             01/27/2025|               0.00|             38,390.40|    4619.0|               NaN|      Yes|              NaN|            1|             NaN|           Yes|Marplantis Organi...|      1|      0|        0|                             4619|                         NaN|                  Courchesne Larose|\n",
      "|On Hand|    4618.0|                  4618| Marplantis Organi...|                Maersk|                      NaN|                MAEU248855719|                        NaN|                   11/01/2025|                 27/01/2025|   001ECMAR|                       NaN|   960|                    NaN|              NaN|                  03/02/2025|                         NaN|                  Philadelphia|               Yes|                   <none>|                         <none>|                       NaN|                      13.9|                      25.0|             Tipo CHEP|               4618.0|                               NaN|                   MAEU248855719|                       NaN|            01/07/2025|    01/11/2025|  01/27/2025|Banano Cavendish ...|                   MAEU248855719|Caja con tapa org...|        0.0|        0.0|       0.0|  38,390.40|        0.00|                NaN|      PA PORT|   Philadelphia Port|            39.99|               0.0|Organic banana|                 4618|             4618|         NaN|          NaN|  MAEU248855719|      MAEU248855719|Marplantis Organi...|United Safety Agents|Marplantis Organi...|United Safety Agents|DELAWARE AVENUE E...|      Maersk|Chiovitti Banana ...|          Toronto|01/07/2025|   960.0|        20.02|19,217.52| Casa|      2|   Vessel, Container...|Puerto Bolivar|    Philadelphia| Banano Cavendish ...|  0.00x0.00x0.00in|             01/27/2025|               0.00|             38,390.40|    4618.0|               NaN|      Yes|              NaN|            1|             NaN|           Yes|Marplantis Organi...|      1|      0|        0|                             4618|                         NaN|               Chiovitti Banana ...|\n",
      "|On Hand|    4617.0|                  4617| Marplantis Organi...|                   ZIM|                      NaN|              ZIMUGYL00014176|                        NaN|                   12/01/2025|                 24/01/2025|   007ECMAR|                       NaN|   900|                    NaN|              NaN|                  06/02/2025|                         NaN|                  Philadelphia|               Yes|                   <none>|                         <none>|                       NaN|                      13.9|                      25.0|   Walk Global/Escobar|               4617.0|                               NaN|                 ZIMUGYL00014176|                       NaN|            01/08/2025|    01/12/2025|  01/24/2025|Banano Cavendish ...|                 ZIMUGYL00014176|Caja con tapa org...|      15.75|       9.06|     24.02|  35,992.67|    1,906.99|                NaN|      PA PORT|   Philadelphia Port|            39.99|              2.12|Organic banana|                 4617|             4617|         NaN|          NaN|ZIMUGYL00014176|    ZIMUGYL00014176|Marplantis Organi...|United Safety Agents|Marplantis Organi...|United Safety Agents|DELAWARE AVENUE E...|         ZIM|Chiovitti Banana ...|          Toronto|01/08/2025|   900.0|        20.23|18,210.15|Cases|      2|   Vessel, Container...|     Guayaquil|    Philadelphia| Banano Cavendish ...|15.75x24.02x9.06in|             01/24/2025|          19,851.10|             35,992.67|    4617.0|               NaN|      Yes|              NaN|            1|             NaN|           Yes|Marplantis Organi...|      1|      0|        1|                             4617|                         NaN|               Chiovitti Banana ...|\n",
      "|On Hand|    4616.0|                  4616| Marplantis Organi...|                Maersk|                      NaN|                MAEU248854769|                        NaN|                   11/01/2025|                 27/02/2025|   007ECMAR|                       NaN|   900|                    NaN|              NaN|                  05/02/2025|                         NaN|                  Philadelphia|               Yes|                   <none>|                         <none>|                       NaN|                      13.9|                      25.0|   Walk Global/Escobar|               4616.0|                               NaN|                   MAEU248854769|                       NaN|            01/07/2025|    01/11/2025|  01/27/2025|Banano Cavendish ...|                   MAEU248854769|Caja con tapa org...|      15.75|       9.06|     24.02|  35,992.67|    1,906.99|                NaN|      PA PORT|   Philadelphia Port|            39.99|              2.12|Organic banana|                 4616|             4616|         NaN|          NaN|  MAEU248854769|      MAEU248854769|Marplantis Organi...|United Safety Agents|Marplantis Organi...|United Safety Agents|DELAWARE AVENUE E...|      Maersk|Chiovitti Banana ...|          Toronto|01/07/2025|   900.0|        20.23|18,210.15|Cases|      2|   Vessel, Container...|Puerto Bolivar|    Philadelphia| Banano Cavendish ...|15.75x24.02x9.06in|             01/27/2025|          19,851.10|             35,992.67|    4616.0|               NaN|      Yes|              NaN|            1|             NaN|           Yes|Marplantis Organi...|      1|      0|        0|                             4616|                         NaN|               Chiovitti Banana ...|\n",
      "+-------+----------+----------------------+---------------------+----------------------+-------------------------+-----------------------------+---------------------------+-----------------------------+---------------------------+-----------+--------------------------+------+-----------------------+-----------------+----------------------------+----------------------------+------------------------------+------------------+-------------------------+-------------------------------+--------------------------+--------------------------+--------------------------+----------------------+---------------------+----------------------------------+--------------------------------+--------------------------+----------------------+--------------+------------+--------------------+--------------------------------+--------------------+-----------+-----------+----------+-----------+------------+-------------------+-------------+--------------------+-----------------+------------------+--------------+---------------------+-----------------+------------+-------------+---------------+-------------------+--------------------+--------------------+--------------------+--------------------+--------------------+------------+--------------------+-----------------+----------+--------+-------------+---------+-----+-------+-----------------------+--------------+----------------+---------------------+------------------+-----------------------+-------------------+----------------------+----------+------------------+---------+-----------------+-------------+----------------+--------------+--------------------+-------+-------+---------+---------------------------------+----------------------------+-----------------------------------+\n",
      "only showing top 20 rows\n",
      "\n"
     ]
    }
   ],
   "execution_count": 18
  }
 ],
 "metadata": {
  "kernelspec": {
   "display_name": "Python 3",
   "language": "python",
   "name": "python3"
  },
  "language_info": {
   "codemirror_mode": {
    "name": "ipython",
    "version": 2
   },
   "file_extension": ".py",
   "mimetype": "text/x-python",
   "name": "python",
   "nbconvert_exporter": "python",
   "pygments_lexer": "ipython2",
   "version": "2.7.6"
  }
 },
 "nbformat": 4,
 "nbformat_minor": 5
}
